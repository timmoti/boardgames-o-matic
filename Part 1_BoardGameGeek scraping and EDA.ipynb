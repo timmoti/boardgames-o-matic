{
 "cells": [
  {
   "cell_type": "markdown",
   "metadata": {},
   "source": [
    "# Building a Boardgame Recommender System\n",
    "\n",
    "## Part 1: Scraping Boardgamegeek.com\n",
    "*by Timothy Tan*\n",
    "\n",
    "---\n",
    "\n",
    ">[Boardgamegeek](https://boardgamegeek.com/) is board game nirvana for geeks, nerds and the occasional cool person. It is like Wikipedia to your science. This website holds a massive library of more than 90,000 games, with about 800,000 registered users and more than 150,000 active monthly users. \n",
    "\n",
    ">What is more impressive about this site is how open the data is. You can view anyone's boardgame collection, how they have rated their games, how often they have been playing and even their wishlist of games to buy and/or try. The notion that this website is like the swiss army knife of the boardgaming world makes it easy to entrust it with everything boardgame-related in one's life"
   ]
  },
  {
   "cell_type": "markdown",
   "metadata": {},
   "source": [
    "### Yummy, yummy ratings...\n",
    ">With the wealth of games and the dearth of time, a good boardgame recommender seems like the ideal solution to helping one choose wisely. The beauty of Boardgamegeek (or BGG for short) is its rating system. Users can rate games on a scale of 1 to 10. There is even a rubric to suggest how you might want to rate your games. It is entirely up to you however and some users even give ratings to 2 decimal places\n",
    "\n",
    "![Bgg ratings](./assets/BGG_ratings.png)\n",
    "\n",
    ">What's more, the ratings are colour coded on the webpage for quick identification. \n",
    "\n",
    ">Bloody-red belongs to a rating of 1 and it gets lighter till rating 5 where it turns purple. \n",
    "The transition from a sky-blue 7-rating and a light-green 8-rating is distinct, only to get to its darkest shade of green at 10"
   ]
  },
  {
   "cell_type": "markdown",
   "metadata": {},
   "source": [
    "### Scraping and calling\n",
    ">There exists a python module that allows one access to BGG's XML APIs via pythonic methods and classes. It unfortunately is not versatile enough for my needs. I will be scraping the page of the website where I sort all games in descending order of number of ratings. This means the game where most users have rated it will be right at the top. I will then scrape this page to gather the list of games up till the point where I hit the game with just less than 1000 ratings. This will be my game list.\n",
    "\n",
    ">I will then be making API calls to gather the rating data for each game in the game list, as well as the users that have provided them. This will become my ratings list. I will then process this ratings list into an N x M matrix of N rows of users by M columns of games. The values in the matrix will be the ratings provided by users for games"
   ]
  },
  {
   "cell_type": "markdown",
   "metadata": {},
   "source": [
    "### Regular imports"
   ]
  },
  {
   "cell_type": "code",
   "execution_count": 8,
   "metadata": {},
   "outputs": [],
   "source": [
    "import requests\n",
    "from bs4 import BeautifulSoup\n",
    "import matplotlib.pyplot as plt\n",
    "import seaborn as sns\n",
    "import pandas as pd\n",
    "import numpy as np\n",
    "import pickle\n",
    "from time import sleep\n",
    "\n",
    "\n",
    "%config InlineBackend.figure_format = 'retina'\n",
    "%matplotlib inline\n",
    "\n",
    "sns.set_style('white')\n"
   ]
  },
  {
   "cell_type": "markdown",
   "metadata": {},
   "source": [
    "### Here I have a function that helps to ensure that our http requests get fulfilled despite disconnection."
   ]
  },
  {
   "cell_type": "code",
   "execution_count": 31,
   "metadata": {
    "collapsed": true
   },
   "outputs": [],
   "source": [
    "def request(msg, slp=1):\n",
    "    '''A wrapper to make robust https requests.'''\n",
    "    status_code = 500  # Want to get a status-code of 200\n",
    "    while status_code != 200:\n",
    "        sleep(slp)  # Don't ping the server too often\n",
    "        try:\n",
    "            r = requests.get(msg)\n",
    "            status_code = r.status_code\n",
    "            if status_code != 200:\n",
    "                print \"Server Error! Response Code {}. Retrying...\".format(r.status_code)\n",
    "        except:\n",
    "            print \"An exception has occurred, probably a momentory loss of connection. Waiting one seconds...\"\n",
    "            sleep(1)\n",
    "    return r"
   ]
  },
  {
   "cell_type": "markdown",
   "metadata": {},
   "source": [
    "# Scraping for list of games"
   ]
  },
  {
   "cell_type": "markdown",
   "metadata": {},
   "source": [
    "### Here's the page I'll be scraping and running a while loop to loop pages until I get less than 1000 ratings in the highlighted column\n",
    "![Games sorted in descending order of number of ratings](./assets/sorted_games.png)"
   ]
  },
  {
   "cell_type": "markdown",
   "metadata": {},
   "source": [
    "### Output of scraping that makes sense by reading together with code below\n",
    "![scraping](./assets/scraping.png)"
   ]
  },
  {
   "cell_type": "code",
   "execution_count": 3,
   "metadata": {
    "scrolled": false
   },
   "outputs": [
    {
     "name": "stdout",
     "output_type": "stream",
     "text": [
      "Page 1 scraped, minimum number of ratings was 14862\n",
      "Page 2 scraped, minimum number of ratings was 9760\n",
      "Page 3 scraped, minimum number of ratings was 6912\n",
      "Page 4 scraped, minimum number of ratings was 5461\n",
      "Page 5 scraped, minimum number of ratings was 4435\n",
      "Page 6 scraped, minimum number of ratings was 3750\n",
      "Page 7 scraped, minimum number of ratings was 3209\n",
      "Page 8 scraped, minimum number of ratings was 2808\n",
      "Page 9 scraped, minimum number of ratings was 2464\n",
      "Page 10 scraped, minimum number of ratings was 2216\n",
      "Page 11 scraped, minimum number of ratings was 2035\n",
      "Page 12 scraped, minimum number of ratings was 1814\n",
      "Page 13 scraped, minimum number of ratings was 1664\n",
      "Page 14 scraped, minimum number of ratings was 1535\n",
      "Page 15 scraped, minimum number of ratings was 1427\n",
      "Page 16 scraped, minimum number of ratings was 1334\n",
      "Page 17 scraped, minimum number of ratings was 1238\n",
      "Page 18 scraped, minimum number of ratings was 1168\n",
      "Page 19 scraped, minimum number of ratings was 1086\n",
      "Page 20 scraped, minimum number of ratings was 1030\n",
      "Page 21 scraped, minimum number of ratings was 975\n"
     ]
    }
   ],
   "source": [
    "# Initialize a DF to hold all our scraped game info\n",
    "games = pd.DataFrame(columns=[\"gameid\", \"gamename\", \"nratings\",\"gamerank\"])\n",
    "min_nratings = 100000 # Set to a high number to satisfy while condition\n",
    "npage = 1\n",
    "\n",
    "# Scrape successful pages in the results until we get down to games with < 1000 ratings each\n",
    "while min_nratings > 1000:\n",
    "    # Get full HTML for a specific page in the full listing of boardgames sorted by \n",
    "    r = request(\"https://boardgamegeek.com/browse/boardgame/page/{}?sort=numvoters&sortdir=desc\".format(npage))\n",
    "    soup = BeautifulSoup(r.text, \"html.parser\")    \n",
    "    \n",
    "    # Get rows for the table listing all the games on this page. 100 per page\n",
    "    table = soup.find_all(\"tr\", attrs={\"id\": \"row_\"})\n",
    "    # DF to hold this page's results\n",
    "    temp_df = pd.DataFrame(columns=[\"gameid\", \"gamename\", \"nratings\", \"gamerank\"], index=range(len(table)))  \n",
    "    \n",
    "    # Loop through each row and pull out the info for that game\n",
    "    for idx, row in enumerate(table):\n",
    "        links = row.find_all(\"a\")\n",
    "        try:\n",
    "            gamerank = links[0]['name'] #Get rank of game\n",
    "        except Exception: # Expansions will not have ranks and will be recorded as NaN rows in our dataframe\n",
    "            continue\n",
    "        gamelink = links[1]  # Get the relative URL for the specific game\n",
    "        gameid = int(gamelink[\"href\"].split(\"/\")[2])  # Get the game ID by parsing the relative URL\n",
    "        gamename = links[2].contents[0]  # Get the actual name of the game as the link contents\n",
    "\n",
    "        ratings_str = row.find_all(\"td\", attrs={\"class\": \"collection_bggrating\"})[2].contents[0]\n",
    "        #split on white space to leave list of string of number, join on empty space then change to int datatype\n",
    "        nratings = int(\"\".join(ratings_str.split()))\n",
    "        temp_df.iloc[idx, :] = [gameid, gamename, nratings, gamerank] #Add to temp_df\n",
    "        \n",
    "    # Concatenate the results of this page to the master dataframe\n",
    "    min_nratings = temp_df[\"nratings\"].min()  # The smallest number of ratings of any game on the page\n",
    "    print \"Page {} scraped, minimum number of ratings was {}\".format(npage, min_nratings)\n",
    "    games = pd.concat([games, temp_df], axis=0)\n",
    "    npage += 1\n",
    "    sleep(2) # Keep the BGG server happy."
   ]
  },
  {
   "cell_type": "markdown",
   "metadata": {},
   "source": [
    ">We have scraped 21 pages (out of 941) in the games database. \n",
    "\n",
    ">Let's take a look at how many games we have added to our list."
   ]
  },
  {
   "cell_type": "code",
   "execution_count": 4,
   "metadata": {},
   "outputs": [
    {
     "name": "stdout",
     "output_type": "stream",
     "text": [
      "(2100, 4)\n"
     ]
    },
    {
     "data": {
      "text/html": [
       "<div>\n",
       "<table border=\"1\" class=\"dataframe\">\n",
       "  <thead>\n",
       "    <tr style=\"text-align: right;\">\n",
       "      <th></th>\n",
       "      <th>gameid</th>\n",
       "      <th>gamename</th>\n",
       "      <th>nratings</th>\n",
       "      <th>gamerank</th>\n",
       "    </tr>\n",
       "  </thead>\n",
       "  <tbody>\n",
       "    <tr>\n",
       "      <th>0</th>\n",
       "      <td>13</td>\n",
       "      <td>Catan</td>\n",
       "      <td>71279</td>\n",
       "      <td>251</td>\n",
       "    </tr>\n",
       "    <tr>\n",
       "      <th>1</th>\n",
       "      <td>822</td>\n",
       "      <td>Carcassonne</td>\n",
       "      <td>70895</td>\n",
       "      <td>130</td>\n",
       "    </tr>\n",
       "    <tr>\n",
       "      <th>2</th>\n",
       "      <td>30549</td>\n",
       "      <td>Pandemic</td>\n",
       "      <td>66881</td>\n",
       "      <td>64</td>\n",
       "    </tr>\n",
       "    <tr>\n",
       "      <th>3</th>\n",
       "      <td>36218</td>\n",
       "      <td>Dominion</td>\n",
       "      <td>58707</td>\n",
       "      <td>59</td>\n",
       "    </tr>\n",
       "    <tr>\n",
       "      <th>4</th>\n",
       "      <td>68448</td>\n",
       "      <td>7 Wonders</td>\n",
       "      <td>55341</td>\n",
       "      <td>37</td>\n",
       "    </tr>\n",
       "  </tbody>\n",
       "</table>\n",
       "</div>"
      ],
      "text/plain": [
       "  gameid     gamename nratings gamerank\n",
       "0     13        Catan    71279      251\n",
       "1    822  Carcassonne    70895      130\n",
       "2  30549     Pandemic    66881       64\n",
       "3  36218     Dominion    58707       59\n",
       "4  68448    7 Wonders    55341       37"
      ]
     },
     "execution_count": 4,
     "metadata": {},
     "output_type": "execute_result"
    }
   ],
   "source": [
    "print games.shape\n",
    "\n",
    "games.head()"
   ]
  },
  {
   "cell_type": "code",
   "execution_count": 5,
   "metadata": {},
   "outputs": [
    {
     "data": {
      "text/html": [
       "<div>\n",
       "<table border=\"1\" class=\"dataframe\">\n",
       "  <thead>\n",
       "    <tr style=\"text-align: right;\">\n",
       "      <th></th>\n",
       "      <th>gameid</th>\n",
       "      <th>gamename</th>\n",
       "      <th>nratings</th>\n",
       "      <th>gamerank</th>\n",
       "    </tr>\n",
       "  </thead>\n",
       "  <tbody>\n",
       "    <tr>\n",
       "      <th>95</th>\n",
       "      <td>23985</td>\n",
       "      <td>Midgard</td>\n",
       "      <td>975</td>\n",
       "      <td>1819</td>\n",
       "    </tr>\n",
       "    <tr>\n",
       "      <th>96</th>\n",
       "      <td>128931</td>\n",
       "      <td>Noblemen</td>\n",
       "      <td>975</td>\n",
       "      <td>1346</td>\n",
       "    </tr>\n",
       "    <tr>\n",
       "      <th>97</th>\n",
       "      <td>NaN</td>\n",
       "      <td>NaN</td>\n",
       "      <td>NaN</td>\n",
       "      <td>NaN</td>\n",
       "    </tr>\n",
       "    <tr>\n",
       "      <th>98</th>\n",
       "      <td>180956</td>\n",
       "      <td>One Night Ultimate Vampire</td>\n",
       "      <td>975</td>\n",
       "      <td>1430</td>\n",
       "    </tr>\n",
       "    <tr>\n",
       "      <th>99</th>\n",
       "      <td>NaN</td>\n",
       "      <td>NaN</td>\n",
       "      <td>NaN</td>\n",
       "      <td>NaN</td>\n",
       "    </tr>\n",
       "  </tbody>\n",
       "</table>\n",
       "</div>"
      ],
      "text/plain": [
       "    gameid                    gamename nratings gamerank\n",
       "95   23985                     Midgard      975     1819\n",
       "96  128931                    Noblemen      975     1346\n",
       "97     NaN                         NaN      NaN      NaN\n",
       "98  180956  One Night Ultimate Vampire      975     1430\n",
       "99     NaN                         NaN      NaN      NaN"
      ]
     },
     "execution_count": 5,
     "metadata": {},
     "output_type": "execute_result"
    }
   ],
   "source": [
    "games.tail()"
   ]
  },
  {
   "cell_type": "markdown",
   "metadata": {},
   "source": [
    ">We see rows of NaNs in the bottom of our dataframe which corresponds to an expansion. It was created when we analyzed for a game rank in our try/except block in the code above, moving past the entry if it does not have a rank. Expansions do not have ranks on BGG but people are able to rate them.\n",
    "\n",
    ">We will not be including expansions in our analysis as recommending an expansion to someone who already likes the game is quite a no-brainer and is not useful as a recommendation."
   ]
  },
  {
   "cell_type": "code",
   "execution_count": 6,
   "metadata": {
    "collapsed": true,
    "scrolled": true
   },
   "outputs": [],
   "source": [
    "# Drop all NaNs which corresponds to expansions.\n",
    "games.dropna(inplace=True)"
   ]
  },
  {
   "cell_type": "code",
   "execution_count": 7,
   "metadata": {},
   "outputs": [
    {
     "data": {
      "text/plain": [
       "(1807, 4)"
      ]
     },
     "execution_count": 7,
     "metadata": {},
     "output_type": "execute_result"
    }
   ],
   "source": [
    "games.shape"
   ]
  },
  {
   "cell_type": "markdown",
   "metadata": {},
   "source": [
    "> We have dropped a grand total of 293 expansions, leaving us with 1807 games\n",
    "\n",
    "> As the games dataframe was put together by concatenating several smaller dataframes together, the index will need to be reset."
   ]
  },
  {
   "cell_type": "code",
   "execution_count": 8,
   "metadata": {},
   "outputs": [
    {
     "data": {
      "text/html": [
       "<div>\n",
       "<table border=\"1\" class=\"dataframe\">\n",
       "  <thead>\n",
       "    <tr style=\"text-align: right;\">\n",
       "      <th></th>\n",
       "      <th>gameid</th>\n",
       "      <th>gamename</th>\n",
       "      <th>nratings</th>\n",
       "      <th>gamerank</th>\n",
       "    </tr>\n",
       "  </thead>\n",
       "  <tbody>\n",
       "    <tr>\n",
       "      <th>0</th>\n",
       "      <td>13</td>\n",
       "      <td>Catan</td>\n",
       "      <td>71279</td>\n",
       "      <td>251</td>\n",
       "    </tr>\n",
       "    <tr>\n",
       "      <th>1</th>\n",
       "      <td>822</td>\n",
       "      <td>Carcassonne</td>\n",
       "      <td>70895</td>\n",
       "      <td>130</td>\n",
       "    </tr>\n",
       "    <tr>\n",
       "      <th>2</th>\n",
       "      <td>30549</td>\n",
       "      <td>Pandemic</td>\n",
       "      <td>66881</td>\n",
       "      <td>64</td>\n",
       "    </tr>\n",
       "    <tr>\n",
       "      <th>3</th>\n",
       "      <td>36218</td>\n",
       "      <td>Dominion</td>\n",
       "      <td>58707</td>\n",
       "      <td>59</td>\n",
       "    </tr>\n",
       "    <tr>\n",
       "      <th>4</th>\n",
       "      <td>68448</td>\n",
       "      <td>7 Wonders</td>\n",
       "      <td>55341</td>\n",
       "      <td>37</td>\n",
       "    </tr>\n",
       "  </tbody>\n",
       "</table>\n",
       "</div>"
      ],
      "text/plain": [
       "  gameid     gamename nratings gamerank\n",
       "0     13        Catan    71279      251\n",
       "1    822  Carcassonne    70895      130\n",
       "2  30549     Pandemic    66881       64\n",
       "3  36218     Dominion    58707       59\n",
       "4  68448    7 Wonders    55341       37"
      ]
     },
     "execution_count": 8,
     "metadata": {},
     "output_type": "execute_result"
    }
   ],
   "source": [
    "# Reset the index since we concatenated a bunch of DFs with the same index into one DF\n",
    "games.reset_index(inplace=True, drop=True)\n",
    "# Write the DF to .csv for future use\n",
    "games.to_csv(\"bgg_gamelist.csv\", index=False, encoding=\"utf-8\")\n",
    "games.head()"
   ]
  },
  {
   "cell_type": "code",
   "execution_count": 9,
   "metadata": {},
   "outputs": [
    {
     "data": {
      "text/html": [
       "<div>\n",
       "<table border=\"1\" class=\"dataframe\">\n",
       "  <thead>\n",
       "    <tr style=\"text-align: right;\">\n",
       "      <th></th>\n",
       "      <th>gameid</th>\n",
       "      <th>gamename</th>\n",
       "      <th>nratings</th>\n",
       "      <th>gamerank</th>\n",
       "    </tr>\n",
       "  </thead>\n",
       "  <tbody>\n",
       "    <tr>\n",
       "      <th>1802</th>\n",
       "      <td>195856</td>\n",
       "      <td>Bloodborne: The Card Game</td>\n",
       "      <td>976</td>\n",
       "      <td>1366</td>\n",
       "    </tr>\n",
       "    <tr>\n",
       "      <th>1803</th>\n",
       "      <td>2818</td>\n",
       "      <td>UNO Attack!</td>\n",
       "      <td>975</td>\n",
       "      <td>13989</td>\n",
       "    </tr>\n",
       "    <tr>\n",
       "      <th>1804</th>\n",
       "      <td>23985</td>\n",
       "      <td>Midgard</td>\n",
       "      <td>975</td>\n",
       "      <td>1819</td>\n",
       "    </tr>\n",
       "    <tr>\n",
       "      <th>1805</th>\n",
       "      <td>128931</td>\n",
       "      <td>Noblemen</td>\n",
       "      <td>975</td>\n",
       "      <td>1346</td>\n",
       "    </tr>\n",
       "    <tr>\n",
       "      <th>1806</th>\n",
       "      <td>180956</td>\n",
       "      <td>One Night Ultimate Vampire</td>\n",
       "      <td>975</td>\n",
       "      <td>1430</td>\n",
       "    </tr>\n",
       "  </tbody>\n",
       "</table>\n",
       "</div>"
      ],
      "text/plain": [
       "      gameid                    gamename nratings gamerank\n",
       "1802  195856   Bloodborne: The Card Game      976     1366\n",
       "1803    2818                 UNO Attack!      975    13989\n",
       "1804   23985                     Midgard      975     1819\n",
       "1805  128931                    Noblemen      975     1346\n",
       "1806  180956  One Night Ultimate Vampire      975     1430"
      ]
     },
     "execution_count": 9,
     "metadata": {},
     "output_type": "execute_result"
    }
   ],
   "source": [
    "# To verify index is properly created\n",
    "games.tail()"
   ]
  },
  {
   "cell_type": "code",
   "execution_count": 10,
   "metadata": {},
   "outputs": [
    {
     "name": "stdout",
     "output_type": "stream",
     "text": [
      "Number of games with > 1000 ratings is approximately 1807\n",
      "Total number of ratings from all these games is 8028799\n"
     ]
    }
   ],
   "source": [
    "print \"Number of games with > 1000 ratings is approximately {}\".format(len(games))\n",
    "print \"Total number of ratings from all these games is {}\".format(games[\"nratings\"].sum())"
   ]
  },
  {
   "cell_type": "markdown",
   "metadata": {},
   "source": [
    "> We have slightly more than 8 million ratings for analysis. Our next job is to collect them in order to form our ratings matrix."
   ]
  },
  {
   "cell_type": "markdown",
   "metadata": {},
   "source": [
    "# Making API calls to build our ratings list\n",
    "\n",
    ">With our list of games and their associated ids, we can dive deeper into looking at the ratings for each game as well as who rated them. BGG provides an XML API where we can get the info we need.\n",
    "\n",
    ">As it is, each call to the BGG API only returns a page of 100 ratings for each game. We will thus need to loop through each page for each game till we extract all the ratings from each game.\n",
    "\n",
    ">Our approach is to make calls for each full page of 100 ratings first, followed by acquiring the last page of partial ratings separately."
   ]
  },
  {
   "cell_type": "code",
   "execution_count": 11,
   "metadata": {
    "scrolled": true
   },
   "outputs": [
    {
     "data": {
      "text/html": [
       "<div>\n",
       "<table border=\"1\" class=\"dataframe\">\n",
       "  <thead>\n",
       "    <tr style=\"text-align: right;\">\n",
       "      <th></th>\n",
       "      <th>gameid</th>\n",
       "      <th>gamename</th>\n",
       "      <th>nratings</th>\n",
       "      <th>gamerank</th>\n",
       "      <th>nfullpages</th>\n",
       "    </tr>\n",
       "  </thead>\n",
       "  <tbody>\n",
       "    <tr>\n",
       "      <th>0</th>\n",
       "      <td>13</td>\n",
       "      <td>Catan</td>\n",
       "      <td>71279</td>\n",
       "      <td>251</td>\n",
       "      <td>712.0</td>\n",
       "    </tr>\n",
       "    <tr>\n",
       "      <th>1</th>\n",
       "      <td>822</td>\n",
       "      <td>Carcassonne</td>\n",
       "      <td>70895</td>\n",
       "      <td>130</td>\n",
       "      <td>708.0</td>\n",
       "    </tr>\n",
       "    <tr>\n",
       "      <th>2</th>\n",
       "      <td>30549</td>\n",
       "      <td>Pandemic</td>\n",
       "      <td>66881</td>\n",
       "      <td>64</td>\n",
       "      <td>668.0</td>\n",
       "    </tr>\n",
       "    <tr>\n",
       "      <th>3</th>\n",
       "      <td>36218</td>\n",
       "      <td>Dominion</td>\n",
       "      <td>58707</td>\n",
       "      <td>59</td>\n",
       "      <td>587.0</td>\n",
       "    </tr>\n",
       "    <tr>\n",
       "      <th>4</th>\n",
       "      <td>68448</td>\n",
       "      <td>7 Wonders</td>\n",
       "      <td>55341</td>\n",
       "      <td>37</td>\n",
       "      <td>553.0</td>\n",
       "    </tr>\n",
       "  </tbody>\n",
       "</table>\n",
       "</div>"
      ],
      "text/plain": [
       "  gameid     gamename nratings gamerank  nfullpages\n",
       "0     13        Catan    71279      251       712.0\n",
       "1    822  Carcassonne    70895      130       708.0\n",
       "2  30549     Pandemic    66881       64       668.0\n",
       "3  36218     Dominion    58707       59       587.0\n",
       "4  68448    7 Wonders    55341       37       553.0"
      ]
     },
     "execution_count": 11,
     "metadata": {},
     "output_type": "execute_result"
    }
   ],
   "source": [
    "# Create a column for number of full pages for each game\n",
    "games[\"nfullpages\"] = games[\"nratings\"]//100\n",
    "\n",
    "games.head()"
   ]
  },
  {
   "cell_type": "code",
   "execution_count": 2,
   "metadata": {
    "collapsed": true
   },
   "outputs": [],
   "source": [
    "# Create the database and make a cursor to talk to it.\n",
    "import sqlite3\n",
    "connex = sqlite3.connect(\"bgg_ratings.db\")  # Opens file if exists, else creates file\n",
    "cur = connex.cursor()"
   ]
  },
  {
   "cell_type": "code",
   "execution_count": 53,
   "metadata": {
    "scrolled": true
   },
   "outputs": [
    {
     "name": "stdout",
     "output_type": "stream",
     "text": [
      "Server Error! Response Code 504. Retrying...\n"
     ]
    },
    {
     "name": "stderr",
     "output_type": "stream",
     "text": [
      "/Users/timmoti/anaconda/lib/python2.7/site-packages/ipykernel/__main__.py:51: SettingWithCopyWarning: \n",
      "A value is trying to be set on a copy of a slice from a DataFrame.\n",
      "Try using .loc[row_indexer,col_indexer] = value instead\n",
      "\n",
      "See the caveats in the documentation: http://pandas.pydata.org/pandas-docs/stable/indexing.html#indexing-view-versus-copy\n"
     ]
    },
    {
     "name": "stdout",
     "output_type": "stream",
     "text": [
      "pagenum updated to 2\n",
      "Server Error! Response Code 504. Retrying...\n",
      "pagenum updated to 3\n",
      "pagenum updated to 4\n",
      "pagenum updated to 5\n",
      "pagenum updated to 6\n",
      "pagenum updated to 7\n",
      "pagenum updated to 8\n",
      "pagenum updated to 9\n",
      "pagenum updated to 10\n",
      "pagenum updated to 11\n",
      "pagenum updated to 12\n",
      "pagenum updated to 13\n",
      "pagenum updated to 14\n",
      "pagenum updated to 15\n",
      "pagenum updated to 16\n",
      "pagenum updated to 17\n",
      "pagenum updated to 18\n",
      "pagenum updated to 19\n",
      "pagenum updated to 20\n",
      "pagenum updated to 21\n",
      "pagenum updated to 22\n",
      "pagenum updated to 23\n",
      "pagenum updated to 24\n",
      "Server Error! Response Code 504. Retrying...\n",
      "pagenum updated to 25\n",
      "pagenum updated to 26\n",
      "pagenum updated to 27\n",
      "pagenum updated to 28\n",
      "pagenum updated to 29\n",
      "pagenum updated to 30\n",
      "pagenum updated to 31\n",
      "pagenum updated to 32\n",
      "pagenum updated to 33\n",
      "pagenum updated to 34\n",
      "pagenum updated to 35\n",
      "Server Error! Response Code 504. Retrying...\n",
      "pagenum updated to 36\n",
      "Server Error! Response Code 504. Retrying...\n",
      "pagenum updated to 37\n",
      "pagenum updated to 38\n",
      "Server Error! Response Code 504. Retrying...\n",
      "pagenum updated to 39\n",
      "pagenum updated to 40\n",
      "pagenum updated to 41\n",
      "pagenum updated to 42\n",
      "pagenum updated to 43\n",
      "pagenum updated to 44\n",
      "pagenum updated to 45\n",
      "pagenum updated to 46\n",
      "pagenum updated to 47\n",
      "pagenum updated to 48\n",
      "pagenum updated to 49\n",
      "pagenum updated to 50\n",
      "pagenum updated to 51\n",
      "pagenum updated to 52\n",
      "pagenum updated to 53\n",
      "pagenum updated to 54\n",
      "pagenum updated to 55\n",
      "pagenum updated to 56\n",
      "pagenum updated to 57\n",
      "pagenum updated to 58\n",
      "pagenum updated to 59\n",
      "Processed ratings for batch #0 of games.\n",
      "Server Error! Response Code 504. Retrying...\n",
      "pagenum updated to 2\n",
      "pagenum updated to 3\n",
      "pagenum updated to 4\n",
      "pagenum updated to 5\n",
      "pagenum updated to 6\n",
      "pagenum updated to 7\n",
      "pagenum updated to 8\n",
      "pagenum updated to 9\n",
      "pagenum updated to 10\n",
      "pagenum updated to 11\n",
      "pagenum updated to 12\n",
      "pagenum updated to 13\n",
      "pagenum updated to 14\n",
      "pagenum updated to 15\n",
      "pagenum updated to 16\n",
      "pagenum updated to 17\n",
      "pagenum updated to 18\n",
      "pagenum updated to 19\n",
      "pagenum updated to 20\n",
      "pagenum updated to 21\n",
      "pagenum updated to 22\n",
      "pagenum updated to 23\n",
      "pagenum updated to 24\n",
      "pagenum updated to 25\n",
      "pagenum updated to 26\n",
      "pagenum updated to 27\n",
      "pagenum updated to 28\n",
      "pagenum updated to 29\n",
      "pagenum updated to 30\n",
      "pagenum updated to 31\n",
      "pagenum updated to 32\n",
      "pagenum updated to 33\n",
      "pagenum updated to 34\n",
      "pagenum updated to 35\n",
      "pagenum updated to 36\n",
      "pagenum updated to 37\n",
      "pagenum updated to 38\n",
      "pagenum updated to 39\n",
      "pagenum updated to 40\n",
      "pagenum updated to 41\n",
      "pagenum updated to 42\n",
      "Processed ratings for batch #1 of games.\n",
      "Server Error! Response Code 504. Retrying...\n",
      "pagenum updated to 2\n",
      "pagenum updated to 3\n",
      "pagenum updated to 4\n",
      "pagenum updated to 5\n",
      "pagenum updated to 6\n",
      "pagenum updated to 7\n",
      "pagenum updated to 8\n",
      "pagenum updated to 9\n",
      "pagenum updated to 10\n",
      "pagenum updated to 11\n",
      "pagenum updated to 12\n",
      "pagenum updated to 13\n",
      "pagenum updated to 14\n",
      "pagenum updated to 15\n",
      "pagenum updated to 16\n",
      "pagenum updated to 17\n",
      "pagenum updated to 18\n",
      "pagenum updated to 19\n",
      "pagenum updated to 20\n",
      "pagenum updated to 21\n",
      "pagenum updated to 22\n",
      "pagenum updated to 23\n",
      "pagenum updated to 24\n",
      "pagenum updated to 25\n",
      "pagenum updated to 26\n",
      "pagenum updated to 27\n",
      "pagenum updated to 28\n",
      "pagenum updated to 29\n",
      "pagenum updated to 30\n",
      "pagenum updated to 31\n",
      "Processed ratings for batch #2 of games.\n",
      "pagenum updated to 2\n",
      "Server Error! Response Code 504. Retrying...\n",
      "pagenum updated to 3\n",
      "pagenum updated to 4\n",
      "pagenum updated to 5\n",
      "pagenum updated to 6\n",
      "pagenum updated to 7\n",
      "pagenum updated to 8\n",
      "pagenum updated to 9\n",
      "pagenum updated to 10\n",
      "pagenum updated to 11\n",
      "pagenum updated to 12\n",
      "pagenum updated to 13\n",
      "pagenum updated to 14\n",
      "pagenum updated to 15\n",
      "pagenum updated to 16\n",
      "pagenum updated to 17\n",
      "pagenum updated to 18\n",
      "pagenum updated to 19\n",
      "pagenum updated to 20\n",
      "pagenum updated to 21\n",
      "pagenum updated to 22\n",
      "pagenum updated to 23\n",
      "pagenum updated to 24\n",
      "pagenum updated to 25\n",
      "Processed ratings for batch #3 of games.\n",
      "Server Error! Response Code 504. Retrying...\n",
      "pagenum updated to 2\n",
      "pagenum updated to 3\n",
      "pagenum updated to 4\n",
      "pagenum updated to 5\n",
      "pagenum updated to 6\n",
      "pagenum updated to 7\n",
      "pagenum updated to 8\n",
      "pagenum updated to 9\n",
      "pagenum updated to 10\n",
      "pagenum updated to 11\n",
      "pagenum updated to 12\n",
      "pagenum updated to 13\n",
      "pagenum updated to 14\n",
      "pagenum updated to 15\n",
      "pagenum updated to 16\n",
      "pagenum updated to 17\n",
      "pagenum updated to 18\n",
      "pagenum updated to 19\n",
      "pagenum updated to 20\n",
      "pagenum updated to 21\n",
      "pagenum updated to 22\n",
      "Processed ratings for batch #4 of games.\n",
      "pagenum updated to 2\n",
      "pagenum updated to 3\n",
      "pagenum updated to 4\n",
      "pagenum updated to 5\n",
      "pagenum updated to 6\n",
      "pagenum updated to 7\n",
      "pagenum updated to 8\n",
      "pagenum updated to 9\n",
      "pagenum updated to 10\n",
      "pagenum updated to 11\n",
      "pagenum updated to 12\n",
      "pagenum updated to 13\n",
      "pagenum updated to 14\n",
      "pagenum updated to 15\n",
      "Server Error! Response Code 504. Retrying...\n",
      "pagenum updated to 16\n",
      "pagenum updated to 17\n",
      "pagenum updated to 18\n",
      "Processed ratings for batch #5 of games.\n",
      "pagenum updated to 2\n",
      "pagenum updated to 3\n",
      "pagenum updated to 4\n",
      "pagenum updated to 5\n",
      "pagenum updated to 6\n",
      "pagenum updated to 7\n",
      "pagenum updated to 8\n",
      "pagenum updated to 9\n",
      "pagenum updated to 10\n",
      "pagenum updated to 11\n",
      "pagenum updated to 12\n",
      "pagenum updated to 13\n",
      "pagenum updated to 14\n",
      "pagenum updated to 15\n",
      "pagenum updated to 16\n",
      "Processed ratings for batch #6 of games.\n",
      "Server Error! Response Code 504. Retrying...\n",
      "pagenum updated to 2\n",
      "pagenum updated to 3\n",
      "pagenum updated to 4\n",
      "pagenum updated to 5\n",
      "pagenum updated to 6\n",
      "pagenum updated to 7\n",
      "pagenum updated to 8\n",
      "pagenum updated to 9\n",
      "pagenum updated to 10\n",
      "pagenum updated to 11\n",
      "pagenum updated to 12\n",
      "pagenum updated to 13\n",
      "pagenum updated to 14\n",
      "Processed ratings for batch #7 of games.\n",
      "Server Error! Response Code 504. Retrying...\n",
      "pagenum updated to 2\n",
      "pagenum updated to 3\n",
      "pagenum updated to 4\n",
      "pagenum updated to 5\n",
      "pagenum updated to 6\n",
      "pagenum updated to 7\n",
      "pagenum updated to 8\n",
      "pagenum updated to 9\n",
      "pagenum updated to 10\n",
      "pagenum updated to 11\n",
      "pagenum updated to 12\n",
      "Processed ratings for batch #8 of games.\n",
      "pagenum updated to 2\n",
      "pagenum updated to 3\n",
      "pagenum updated to 4\n",
      "pagenum updated to 5\n",
      "pagenum updated to 6\n",
      "pagenum updated to 7\n",
      "pagenum updated to 8\n",
      "pagenum updated to 9\n",
      "pagenum updated to 10\n",
      "pagenum updated to 11\n",
      "Processed ratings for batch #9 of games.\n"
     ]
    }
   ],
   "source": [
    "#############################################################\n",
    "# Gathering all ratings from all games in data set\n",
    "#############################################################\n",
    "# Get ratings page-by-page for all games, but do it in chunks of 150 games\n",
    "for nm, grp in games.groupby(np.arange(len(games))//150):\n",
    "    # Initialize a DF to hold all the responses for this chunk of games\n",
    "    df_ratings = pd.DataFrame(columns=[\"gameid\", \"username\", \"rating\"], index=range(grp[\"nratings\"].sum()+100000))\n",
    "\n",
    "    # Initialize indices for writing to the ratings dataframe\n",
    "    dfidx_start = 0\n",
    "    dfidx = 0\n",
    "    \n",
    "    # For this group of games, make calls until all FULL pages of every game have been pulled\n",
    "    pagenum = 1\n",
    "    while len(grp[grp[\"nfullpages\"] > 0]) > 0: \n",
    "        # Get a restricted DF with only still-active games (have ratings pages left)\n",
    "        active_games = grp[grp[\"nfullpages\"] > 0]\n",
    "\n",
    "        # Set the next chunk of the DF \"gameid\" column using the list of game IDs\n",
    "        id_list = []\n",
    "        for game in active_games[\"gameid\"]:\n",
    "            id_list += [game]*100\n",
    "        dfidx_end = dfidx_start + len(active_games)*100\n",
    "        df_ratings.iloc[dfidx_start:dfidx_end, df_ratings.columns.get_loc(\"gameid\")] = id_list\n",
    "\n",
    "        # Make the request with the list of all game IDs that have ratings left\n",
    "        id_strs = [str(gid) for gid in active_games[\"gameid\"]]\n",
    "        gameids = \",\".join(id_strs)\n",
    "        sleep(1.5)  # Keep the server happy\n",
    "        r = request(\"http://www.boardgamegeek.com/xmlapi2/thing?id=%s&ratingcomments=1&page=%i\" % (gameids, pagenum))\n",
    "#         while r.status_code != 200:\n",
    "#             sleep(2)  # Keep the server happy\n",
    "#             print(\"Server Error! Response Code %i. Retrying...\" % (r.status_code))\n",
    "#             r = requests.get(\"http://www.boardgamegeek.com/xmlapi2/thing?id=%s&ratingcomments;=1&page;=%i\" % (gameids, pagenum))        \n",
    "        soup = BeautifulSoup(r.text, \"xml\")\n",
    "        comments = soup(\"comment\")\n",
    "#         print(\"Response status was %i - number of ratings retrieved was %i\" % (r.status_code, len(comments)))\n",
    "\n",
    "        # Parse the response and assign it into the dataframe\n",
    "        l1 = [0]*len(active_games)*100\n",
    "        l2 = [0]*len(active_games)*100\n",
    "        j = 0\n",
    "        for comm in comments:\n",
    "            l1[j] = comm[\"username\"]\n",
    "            l2[j] = float(comm[\"rating\"])\n",
    "            j += 1\n",
    "        df_ratings.iloc[dfidx_start:dfidx_end, df_ratings.columns.get_loc(\"username\")] = l1\n",
    "        df_ratings.iloc[dfidx_start:dfidx_end, df_ratings.columns.get_loc(\"rating\")] = l2\n",
    "\n",
    "        \n",
    "        grp[\"nfullpages\"] -= 1  # Decrement the number of FULL pages of each game id\n",
    "        dfidx_start = dfidx_end     \n",
    "        pagenum += 1  \n",
    "        print(\"pagenum updated to %i\" %(pagenum,))\n",
    "    \n",
    "    # Strip off the empty rows\n",
    "    df_ratings = df_ratings.dropna(how=\"all\")\n",
    "    # Write this batch of all FULL pages of ratings for this chunk of games to the DB\n",
    "    df_ratings.to_sql(name=\"ratings\", con=connex, if_exists=\"append\", index=False)    \n",
    "    print(\"Processed ratings for batch #%i of games.\" % (nm))"
   ]
  },
  {
   "cell_type": "markdown",
   "metadata": {},
   "source": [
    "> Phew! that took a while. If you can still recall, we still have one more page of ratings for each that game for which we have not made our API calls to. Let us check how our ratings dataframe looks like first."
   ]
  },
  {
   "cell_type": "code",
   "execution_count": 55,
   "metadata": {},
   "outputs": [
    {
     "data": {
      "text/plain": [
       "(98700, 3)"
      ]
     },
     "execution_count": 55,
     "metadata": {},
     "output_type": "execute_result"
    }
   ],
   "source": [
    "df_ratings.shape"
   ]
  },
  {
   "cell_type": "code",
   "execution_count": 56,
   "metadata": {},
   "outputs": [
    {
     "data": {
      "text/html": [
       "<div>\n",
       "<table border=\"1\" class=\"dataframe\">\n",
       "  <thead>\n",
       "    <tr style=\"text-align: right;\">\n",
       "      <th></th>\n",
       "      <th>gameid</th>\n",
       "      <th>username</th>\n",
       "      <th>rating</th>\n",
       "    </tr>\n",
       "  </thead>\n",
       "  <tbody>\n",
       "    <tr>\n",
       "      <th>0</th>\n",
       "      <td>98242</td>\n",
       "      <td>latharian1983</td>\n",
       "      <td>10</td>\n",
       "    </tr>\n",
       "    <tr>\n",
       "      <th>1</th>\n",
       "      <td>98242</td>\n",
       "      <td>ForlornWolf</td>\n",
       "      <td>10</td>\n",
       "    </tr>\n",
       "    <tr>\n",
       "      <th>2</th>\n",
       "      <td>98242</td>\n",
       "      <td>Phreekshow1</td>\n",
       "      <td>10</td>\n",
       "    </tr>\n",
       "    <tr>\n",
       "      <th>3</th>\n",
       "      <td>98242</td>\n",
       "      <td>krazytako78</td>\n",
       "      <td>10</td>\n",
       "    </tr>\n",
       "    <tr>\n",
       "      <th>4</th>\n",
       "      <td>98242</td>\n",
       "      <td>rrgeorge</td>\n",
       "      <td>10</td>\n",
       "    </tr>\n",
       "  </tbody>\n",
       "</table>\n",
       "</div>"
      ],
      "text/plain": [
       "  gameid       username rating\n",
       "0  98242  latharian1983     10\n",
       "1  98242    ForlornWolf     10\n",
       "2  98242    Phreekshow1     10\n",
       "3  98242    krazytako78     10\n",
       "4  98242       rrgeorge     10"
      ]
     },
     "execution_count": 56,
     "metadata": {},
     "output_type": "execute_result"
    }
   ],
   "source": [
    "df_ratings.head()"
   ]
  },
  {
   "cell_type": "markdown",
   "metadata": {},
   "source": [
    "> Looks good! Now let's finish up collecting our last page of ratings for each game"
   ]
  },
  {
   "cell_type": "code",
   "execution_count": 58,
   "metadata": {
    "scrolled": true
   },
   "outputs": [
    {
     "name": "stdout",
     "output_type": "stream",
     "text": [
      "Finished with a chunk of 100 games.\n",
      "Finished with a chunk of 100 games.\n",
      "Finished with a chunk of 100 games.\n",
      "Finished with a chunk of 100 games.\n",
      "Finished with a chunk of 100 games.\n",
      "Finished with a chunk of 100 games.\n",
      "Finished with a chunk of 100 games.\n",
      "Finished with a chunk of 100 games.\n",
      "Finished with a chunk of 100 games.\n",
      "Finished with a chunk of 100 games.\n",
      "Finished with a chunk of 100 games.\n",
      "Finished with a chunk of 100 games.\n",
      "Finished with a chunk of 100 games.\n",
      "Finished with a chunk of 100 games.\n",
      "Finished with a chunk of 100 games.\n",
      "Finished with a chunk of 100 games.\n",
      "Finished with a chunk of 100 games.\n",
      "Finished with a chunk of 100 games.\n",
      "Finished with a chunk of 100 games.\n"
     ]
    }
   ],
   "source": [
    "#############################################################\n",
    "# Request the final partial page of ratings for each game\n",
    "#############################################################\n",
    "# Restore the correct number of FULL pages\n",
    "games[\"nfullpages\"] = games[\"nratings\"]//100 \n",
    "\n",
    "# Initialize a DF to hold all the responses over all the chunks of games\n",
    "temp_ratings = pd.DataFrame(columns=[\"gameid\", \"username\", \"rating\"], index=range(len(games)*100))\n",
    "\n",
    "# Initialize indices for writing to the ratings dataframe\n",
    "dfidx_start = 0\n",
    "dfidx = 0\n",
    "\n",
    "# Loop through game-by-game and request the final page of ratings for each game\n",
    "for idx, row in games.iterrows():\n",
    "    # Get the game ID and the last page number to request\n",
    "    pagenum = row[\"nfullpages\"] + 1\n",
    "    gameid = row[\"gameid\"]\n",
    "    \n",
    "    # Make the request for just the last page of ratings of this game\n",
    "    sleep(1)  # Keep the server happy\n",
    "    r = requests.get(\"http://www.boardgamegeek.com/xmlapi2/thing?id={}&ratingcomments=1&page={}\".format(gameid, pagenum))\n",
    "    while r.status_code != 200:\n",
    "        sleep(2)  # Keep the server happy\n",
    "        print(\"Server Error! Response Code %i. Retrying...\" % (r.status_code))\n",
    "        r = requests.get(\"http://www.boardgamegeek.com/xmlapi2/thing?id=[]&ratingcomments=1&page={}\".format(gameid, pagenum))\n",
    "    soup = BeautifulSoup(r.text, \"xml\")\n",
    "    comments = soup(\"comment\")\n",
    "\n",
    "    # Set the next chunk of the DF \"gameids\" column with this gameid\n",
    "    id_list = [gameid]*len(comments)\n",
    "    dfidx_end = dfidx_start + len(comments)\n",
    "    temp_ratings.iloc[dfidx_start:dfidx_end, temp_ratings.columns.get_loc(\"gameid\")] = id_list\n",
    "\n",
    "    # Parse the response and assign it into the dataframe\n",
    "    l1 = [0]*len(comments)\n",
    "    l2 = [0]*len(comments)\n",
    "    j = 0\n",
    "    for comm in comments:\n",
    "        l1[j] = comm[\"username\"]\n",
    "        l2[j] = float(comm[\"rating\"])\n",
    "        j += 1\n",
    "    temp_ratings.iloc[dfidx_start:dfidx_end, temp_ratings.columns.get_loc(\"username\")] = l1\n",
    "    temp_ratings.iloc[dfidx_start:dfidx_end, temp_ratings.columns.get_loc(\"rating\")] = l2\n",
    "\n",
    "    dfidx_start = dfidx_end   # Increment the starting index for next round        \n",
    "\n",
    "    if idx%100 == 0:\n",
    "        print(\"Finished with a chunk of 100 games.\")\n",
    "        \n",
    "# Strip off the empty rows\n",
    "temp_ratings = temp_ratings.dropna(how=\"all\")\n",
    "\n",
    "# Write this final batch of all partial pages of ratings for this chunk of games to the DB\n",
    "temp_ratings.to_sql(name=\"ratings\", con=connex, if_exists=\"append\", index=False)"
   ]
  },
  {
   "cell_type": "code",
   "execution_count": 59,
   "metadata": {
    "collapsed": true
   },
   "outputs": [],
   "source": [
    "# Save our changes and close the connection\n",
    "connex.commit()\n",
    "connex.close()"
   ]
  },
  {
   "cell_type": "markdown",
   "metadata": {},
   "source": [
    "# Analyze ratings dataframe\n",
    ">With our ratings data stored in a database, we can start analyzing this table and perform some EDA"
   ]
  },
  {
   "cell_type": "code",
   "execution_count": 60,
   "metadata": {
    "collapsed": true
   },
   "outputs": [],
   "source": [
    "# Opens file if exists, else creates file\n",
    "connex = sqlite3.connect(\"bgg_ratings.db\")  "
   ]
  },
  {
   "cell_type": "code",
   "execution_count": 61,
   "metadata": {
    "collapsed": true
   },
   "outputs": [],
   "source": [
    "# This object lets us actually send messages to our DB and receive results\n",
    "cur = connex.cursor()  "
   ]
  },
  {
   "cell_type": "code",
   "execution_count": 63,
   "metadata": {
    "collapsed": true
   },
   "outputs": [],
   "source": [
    "# Get everything to see what we have first\n",
    "sql = \"SELECT * FROM ratings\"\n",
    "ratings = pd.read_sql(sql, con=connex)"
   ]
  },
  {
   "cell_type": "code",
   "execution_count": 64,
   "metadata": {},
   "outputs": [
    {
     "data": {
      "text/html": [
       "<div>\n",
       "<table border=\"1\" class=\"dataframe\">\n",
       "  <thead>\n",
       "    <tr style=\"text-align: right;\">\n",
       "      <th></th>\n",
       "      <th>gameid</th>\n",
       "      <th>username</th>\n",
       "      <th>rating</th>\n",
       "    </tr>\n",
       "  </thead>\n",
       "  <tbody>\n",
       "    <tr>\n",
       "      <th>363957</th>\n",
       "      <td>9209</td>\n",
       "      <td>Mighty Jim</td>\n",
       "      <td>7.00</td>\n",
       "    </tr>\n",
       "    <tr>\n",
       "      <th>7853219</th>\n",
       "      <td>130960</td>\n",
       "      <td>NickRice</td>\n",
       "      <td>10.00</td>\n",
       "    </tr>\n",
       "    <tr>\n",
       "      <th>6026042</th>\n",
       "      <td>30957</td>\n",
       "      <td>cylonathalf</td>\n",
       "      <td>5.00</td>\n",
       "    </tr>\n",
       "    <tr>\n",
       "      <th>3243183</th>\n",
       "      <td>28720</td>\n",
       "      <td>gamesghost</td>\n",
       "      <td>9.00</td>\n",
       "    </tr>\n",
       "    <tr>\n",
       "      <th>760360</th>\n",
       "      <td>178900</td>\n",
       "      <td>tormariu</td>\n",
       "      <td>9.00</td>\n",
       "    </tr>\n",
       "    <tr>\n",
       "      <th>1919554</th>\n",
       "      <td>157354</td>\n",
       "      <td>Gamer John</td>\n",
       "      <td>8.00</td>\n",
       "    </tr>\n",
       "    <tr>\n",
       "      <th>1757722</th>\n",
       "      <td>39463</td>\n",
       "      <td>K0miss4r</td>\n",
       "      <td>8.00</td>\n",
       "    </tr>\n",
       "    <tr>\n",
       "      <th>6616345</th>\n",
       "      <td>175199</td>\n",
       "      <td>RoadHouse</td>\n",
       "      <td>7.00</td>\n",
       "    </tr>\n",
       "    <tr>\n",
       "      <th>3023729</th>\n",
       "      <td>27588</td>\n",
       "      <td>hymie</td>\n",
       "      <td>7.75</td>\n",
       "    </tr>\n",
       "    <tr>\n",
       "      <th>4651635</th>\n",
       "      <td>2425</td>\n",
       "      <td>hayden76</td>\n",
       "      <td>8.00</td>\n",
       "    </tr>\n",
       "  </tbody>\n",
       "</table>\n",
       "</div>"
      ],
      "text/plain": [
       "         gameid     username  rating\n",
       "363957     9209   Mighty Jim    7.00\n",
       "7853219  130960     NickRice   10.00\n",
       "6026042   30957  cylonathalf    5.00\n",
       "3243183   28720   gamesghost    9.00\n",
       "760360   178900     tormariu    9.00\n",
       "1919554  157354   Gamer John    8.00\n",
       "1757722   39463     K0miss4r    8.00\n",
       "6616345  175199    RoadHouse    7.00\n",
       "3023729   27588        hymie    7.75\n",
       "4651635    2425     hayden76    8.00"
      ]
     },
     "execution_count": 64,
     "metadata": {},
     "output_type": "execute_result"
    }
   ],
   "source": [
    "# Randomly sample 10 rows from the dataframe\n",
    "ratings.sample(n=10)"
   ]
  },
  {
   "cell_type": "code",
   "execution_count": 65,
   "metadata": {},
   "outputs": [
    {
     "data": {
      "text/plain": [
       "(8064334, 3)"
      ]
     },
     "execution_count": 65,
     "metadata": {},
     "output_type": "execute_result"
    }
   ],
   "source": [
    "ratings.shape"
   ]
  },
  {
   "cell_type": "markdown",
   "metadata": {},
   "source": [
    "> Looks like a lot more rows than what was calculated from the sum of the nratings column (8,028,799)"
   ]
  },
  {
   "cell_type": "code",
   "execution_count": 66,
   "metadata": {
    "scrolled": true
   },
   "outputs": [
    {
     "data": {
      "text/html": [
       "<div>\n",
       "<table border=\"1\" class=\"dataframe\">\n",
       "  <thead>\n",
       "    <tr style=\"text-align: right;\">\n",
       "      <th></th>\n",
       "      <th>gameid</th>\n",
       "      <th>username</th>\n",
       "      <th>rating</th>\n",
       "    </tr>\n",
       "  </thead>\n",
       "  <tbody>\n",
       "    <tr>\n",
       "      <th>258</th>\n",
       "      <td>13</td>\n",
       "      <td>Thirost</td>\n",
       "      <td>10.0</td>\n",
       "    </tr>\n",
       "    <tr>\n",
       "      <th>259</th>\n",
       "      <td>13</td>\n",
       "      <td>Thirost</td>\n",
       "      <td>10.0</td>\n",
       "    </tr>\n",
       "    <tr>\n",
       "      <th>394</th>\n",
       "      <td>13</td>\n",
       "      <td>imgame</td>\n",
       "      <td>10.0</td>\n",
       "    </tr>\n",
       "    <tr>\n",
       "      <th>477</th>\n",
       "      <td>13</td>\n",
       "      <td>toma18198</td>\n",
       "      <td>10.0</td>\n",
       "    </tr>\n",
       "    <tr>\n",
       "      <th>478</th>\n",
       "      <td>13</td>\n",
       "      <td>toma18198</td>\n",
       "      <td>10.0</td>\n",
       "    </tr>\n",
       "    <tr>\n",
       "      <th>602</th>\n",
       "      <td>13</td>\n",
       "      <td>Geeken</td>\n",
       "      <td>10.0</td>\n",
       "    </tr>\n",
       "    <tr>\n",
       "      <th>894</th>\n",
       "      <td>13</td>\n",
       "      <td>CatinaBox</td>\n",
       "      <td>10.0</td>\n",
       "    </tr>\n",
       "    <tr>\n",
       "      <th>950</th>\n",
       "      <td>13</td>\n",
       "      <td>Tigger40k</td>\n",
       "      <td>10.0</td>\n",
       "    </tr>\n",
       "    <tr>\n",
       "      <th>978</th>\n",
       "      <td>13</td>\n",
       "      <td>CatinaBox</td>\n",
       "      <td>10.0</td>\n",
       "    </tr>\n",
       "    <tr>\n",
       "      <th>1014</th>\n",
       "      <td>13</td>\n",
       "      <td>silensence</td>\n",
       "      <td>10.0</td>\n",
       "    </tr>\n",
       "    <tr>\n",
       "      <th>1015</th>\n",
       "      <td>13</td>\n",
       "      <td>silensence</td>\n",
       "      <td>10.0</td>\n",
       "    </tr>\n",
       "    <tr>\n",
       "      <th>1125</th>\n",
       "      <td>13</td>\n",
       "      <td>Tigger40k</td>\n",
       "      <td>10.0</td>\n",
       "    </tr>\n",
       "    <tr>\n",
       "      <th>1263</th>\n",
       "      <td>13</td>\n",
       "      <td>burgetheginger</td>\n",
       "      <td>10.0</td>\n",
       "    </tr>\n",
       "    <tr>\n",
       "      <th>1264</th>\n",
       "      <td>13</td>\n",
       "      <td>burgetheginger</td>\n",
       "      <td>10.0</td>\n",
       "    </tr>\n",
       "    <tr>\n",
       "      <th>1387</th>\n",
       "      <td>13</td>\n",
       "      <td>ultimaterisk</td>\n",
       "      <td>10.0</td>\n",
       "    </tr>\n",
       "    <tr>\n",
       "      <th>1393</th>\n",
       "      <td>13</td>\n",
       "      <td>Don_Nikola</td>\n",
       "      <td>10.0</td>\n",
       "    </tr>\n",
       "    <tr>\n",
       "      <th>1401</th>\n",
       "      <td>13</td>\n",
       "      <td>Don_Nikola</td>\n",
       "      <td>10.0</td>\n",
       "    </tr>\n",
       "    <tr>\n",
       "      <th>1433</th>\n",
       "      <td>13</td>\n",
       "      <td>pummy</td>\n",
       "      <td>10.0</td>\n",
       "    </tr>\n",
       "    <tr>\n",
       "      <th>1444</th>\n",
       "      <td>13</td>\n",
       "      <td>RonCarlson01</td>\n",
       "      <td>10.0</td>\n",
       "    </tr>\n",
       "    <tr>\n",
       "      <th>1445</th>\n",
       "      <td>13</td>\n",
       "      <td>RonCarlson01</td>\n",
       "      <td>10.0</td>\n",
       "    </tr>\n",
       "    <tr>\n",
       "      <th>1448</th>\n",
       "      <td>13</td>\n",
       "      <td>RonCarlson01</td>\n",
       "      <td>10.0</td>\n",
       "    </tr>\n",
       "    <tr>\n",
       "      <th>1449</th>\n",
       "      <td>13</td>\n",
       "      <td>RonCarlson01</td>\n",
       "      <td>10.0</td>\n",
       "    </tr>\n",
       "    <tr>\n",
       "      <th>1450</th>\n",
       "      <td>13</td>\n",
       "      <td>RonCarlson01</td>\n",
       "      <td>10.0</td>\n",
       "    </tr>\n",
       "    <tr>\n",
       "      <th>1456</th>\n",
       "      <td>13</td>\n",
       "      <td>Sushiman</td>\n",
       "      <td>10.0</td>\n",
       "    </tr>\n",
       "    <tr>\n",
       "      <th>1606</th>\n",
       "      <td>13</td>\n",
       "      <td>ultimaterisk</td>\n",
       "      <td>10.0</td>\n",
       "    </tr>\n",
       "    <tr>\n",
       "      <th>1752</th>\n",
       "      <td>13</td>\n",
       "      <td>Sushiman</td>\n",
       "      <td>10.0</td>\n",
       "    </tr>\n",
       "    <tr>\n",
       "      <th>1770</th>\n",
       "      <td>13</td>\n",
       "      <td>Geeken</td>\n",
       "      <td>10.0</td>\n",
       "    </tr>\n",
       "    <tr>\n",
       "      <th>1927</th>\n",
       "      <td>13</td>\n",
       "      <td>jui777</td>\n",
       "      <td>10.0</td>\n",
       "    </tr>\n",
       "    <tr>\n",
       "      <th>1944</th>\n",
       "      <td>13</td>\n",
       "      <td>jui777</td>\n",
       "      <td>10.0</td>\n",
       "    </tr>\n",
       "    <tr>\n",
       "      <th>2100</th>\n",
       "      <td>13</td>\n",
       "      <td>FezAZ</td>\n",
       "      <td>10.0</td>\n",
       "    </tr>\n",
       "    <tr>\n",
       "      <th>...</th>\n",
       "      <td>...</td>\n",
       "      <td>...</td>\n",
       "      <td>...</td>\n",
       "    </tr>\n",
       "    <tr>\n",
       "      <th>8060060</th>\n",
       "      <td>124052</td>\n",
       "      <td>Bergonzoli</td>\n",
       "      <td>1.0</td>\n",
       "    </tr>\n",
       "    <tr>\n",
       "      <th>8060086</th>\n",
       "      <td>15878</td>\n",
       "      <td>loopoocat</td>\n",
       "      <td>2.0</td>\n",
       "    </tr>\n",
       "    <tr>\n",
       "      <th>8060087</th>\n",
       "      <td>15878</td>\n",
       "      <td>loopoocat</td>\n",
       "      <td>2.0</td>\n",
       "    </tr>\n",
       "    <tr>\n",
       "      <th>8060088</th>\n",
       "      <td>15878</td>\n",
       "      <td>loopoocat</td>\n",
       "      <td>2.0</td>\n",
       "    </tr>\n",
       "    <tr>\n",
       "      <th>8060239</th>\n",
       "      <td>1561</td>\n",
       "      <td>phaedrus</td>\n",
       "      <td>3.0</td>\n",
       "    </tr>\n",
       "    <tr>\n",
       "      <th>8060271</th>\n",
       "      <td>31503</td>\n",
       "      <td>ValentineS</td>\n",
       "      <td>2.0</td>\n",
       "    </tr>\n",
       "    <tr>\n",
       "      <th>8060272</th>\n",
       "      <td>31503</td>\n",
       "      <td>ValentineS</td>\n",
       "      <td>2.0</td>\n",
       "    </tr>\n",
       "    <tr>\n",
       "      <th>8060284</th>\n",
       "      <td>191894</td>\n",
       "      <td>ahalm</td>\n",
       "      <td>4.0</td>\n",
       "    </tr>\n",
       "    <tr>\n",
       "      <th>8060324</th>\n",
       "      <td>29903</td>\n",
       "      <td>bigchief</td>\n",
       "      <td>5.0</td>\n",
       "    </tr>\n",
       "    <tr>\n",
       "      <th>8061108</th>\n",
       "      <td>798</td>\n",
       "      <td>kathench</td>\n",
       "      <td>3.0</td>\n",
       "    </tr>\n",
       "    <tr>\n",
       "      <th>8061109</th>\n",
       "      <td>798</td>\n",
       "      <td>kathench</td>\n",
       "      <td>3.0</td>\n",
       "    </tr>\n",
       "    <tr>\n",
       "      <th>8062280</th>\n",
       "      <td>10799</td>\n",
       "      <td>loopoocat</td>\n",
       "      <td>2.0</td>\n",
       "    </tr>\n",
       "    <tr>\n",
       "      <th>8062281</th>\n",
       "      <td>10799</td>\n",
       "      <td>loopoocat</td>\n",
       "      <td>2.0</td>\n",
       "    </tr>\n",
       "    <tr>\n",
       "      <th>8062282</th>\n",
       "      <td>10799</td>\n",
       "      <td>loopoocat</td>\n",
       "      <td>2.0</td>\n",
       "    </tr>\n",
       "    <tr>\n",
       "      <th>8062283</th>\n",
       "      <td>10799</td>\n",
       "      <td>loopoocat</td>\n",
       "      <td>2.0</td>\n",
       "    </tr>\n",
       "    <tr>\n",
       "      <th>8062284</th>\n",
       "      <td>10799</td>\n",
       "      <td>loopoocat</td>\n",
       "      <td>2.0</td>\n",
       "    </tr>\n",
       "    <tr>\n",
       "      <th>8062285</th>\n",
       "      <td>10799</td>\n",
       "      <td>loopoocat</td>\n",
       "      <td>2.0</td>\n",
       "    </tr>\n",
       "    <tr>\n",
       "      <th>8062286</th>\n",
       "      <td>10799</td>\n",
       "      <td>loopoocat</td>\n",
       "      <td>2.0</td>\n",
       "    </tr>\n",
       "    <tr>\n",
       "      <th>8062287</th>\n",
       "      <td>10799</td>\n",
       "      <td>loopoocat</td>\n",
       "      <td>2.0</td>\n",
       "    </tr>\n",
       "    <tr>\n",
       "      <th>8062288</th>\n",
       "      <td>10799</td>\n",
       "      <td>loopoocat</td>\n",
       "      <td>2.0</td>\n",
       "    </tr>\n",
       "    <tr>\n",
       "      <th>8062289</th>\n",
       "      <td>10799</td>\n",
       "      <td>loopoocat</td>\n",
       "      <td>2.0</td>\n",
       "    </tr>\n",
       "    <tr>\n",
       "      <th>8062567</th>\n",
       "      <td>174078</td>\n",
       "      <td>_Tera_</td>\n",
       "      <td>6.0</td>\n",
       "    </tr>\n",
       "    <tr>\n",
       "      <th>8063199</th>\n",
       "      <td>154825</td>\n",
       "      <td>Anton der Grosse</td>\n",
       "      <td>6.0</td>\n",
       "    </tr>\n",
       "    <tr>\n",
       "      <th>8063446</th>\n",
       "      <td>3886</td>\n",
       "      <td>loopoocat</td>\n",
       "      <td>2.0</td>\n",
       "    </tr>\n",
       "    <tr>\n",
       "      <th>8063449</th>\n",
       "      <td>3886</td>\n",
       "      <td>loopoocat</td>\n",
       "      <td>2.0</td>\n",
       "    </tr>\n",
       "    <tr>\n",
       "      <th>8064227</th>\n",
       "      <td>128931</td>\n",
       "      <td>Monkey9485</td>\n",
       "      <td>4.0</td>\n",
       "    </tr>\n",
       "    <tr>\n",
       "      <th>8064228</th>\n",
       "      <td>128931</td>\n",
       "      <td>Monkey9485</td>\n",
       "      <td>4.0</td>\n",
       "    </tr>\n",
       "    <tr>\n",
       "      <th>8064229</th>\n",
       "      <td>128931</td>\n",
       "      <td>Monkey9485</td>\n",
       "      <td>4.0</td>\n",
       "    </tr>\n",
       "    <tr>\n",
       "      <th>8064230</th>\n",
       "      <td>128931</td>\n",
       "      <td>Monkey9485</td>\n",
       "      <td>4.0</td>\n",
       "    </tr>\n",
       "    <tr>\n",
       "      <th>8064231</th>\n",
       "      <td>128931</td>\n",
       "      <td>Monkey9485</td>\n",
       "      <td>4.0</td>\n",
       "    </tr>\n",
       "  </tbody>\n",
       "</table>\n",
       "<p>66903 rows × 3 columns</p>\n",
       "</div>"
      ],
      "text/plain": [
       "         gameid          username  rating\n",
       "258          13           Thirost    10.0\n",
       "259          13           Thirost    10.0\n",
       "394          13            imgame    10.0\n",
       "477          13         toma18198    10.0\n",
       "478          13         toma18198    10.0\n",
       "602          13            Geeken    10.0\n",
       "894          13         CatinaBox    10.0\n",
       "950          13         Tigger40k    10.0\n",
       "978          13         CatinaBox    10.0\n",
       "1014         13        silensence    10.0\n",
       "1015         13        silensence    10.0\n",
       "1125         13         Tigger40k    10.0\n",
       "1263         13    burgetheginger    10.0\n",
       "1264         13    burgetheginger    10.0\n",
       "1387         13      ultimaterisk    10.0\n",
       "1393         13        Don_Nikola    10.0\n",
       "1401         13        Don_Nikola    10.0\n",
       "1433         13             pummy    10.0\n",
       "1444         13      RonCarlson01    10.0\n",
       "1445         13      RonCarlson01    10.0\n",
       "1448         13      RonCarlson01    10.0\n",
       "1449         13      RonCarlson01    10.0\n",
       "1450         13      RonCarlson01    10.0\n",
       "1456         13          Sushiman    10.0\n",
       "1606         13      ultimaterisk    10.0\n",
       "1752         13          Sushiman    10.0\n",
       "1770         13            Geeken    10.0\n",
       "1927         13            jui777    10.0\n",
       "1944         13            jui777    10.0\n",
       "2100         13             FezAZ    10.0\n",
       "...         ...               ...     ...\n",
       "8060060  124052        Bergonzoli     1.0\n",
       "8060086   15878         loopoocat     2.0\n",
       "8060087   15878         loopoocat     2.0\n",
       "8060088   15878         loopoocat     2.0\n",
       "8060239    1561          phaedrus     3.0\n",
       "8060271   31503        ValentineS     2.0\n",
       "8060272   31503        ValentineS     2.0\n",
       "8060284  191894             ahalm     4.0\n",
       "8060324   29903          bigchief     5.0\n",
       "8061108     798          kathench     3.0\n",
       "8061109     798          kathench     3.0\n",
       "8062280   10799         loopoocat     2.0\n",
       "8062281   10799         loopoocat     2.0\n",
       "8062282   10799         loopoocat     2.0\n",
       "8062283   10799         loopoocat     2.0\n",
       "8062284   10799         loopoocat     2.0\n",
       "8062285   10799         loopoocat     2.0\n",
       "8062286   10799         loopoocat     2.0\n",
       "8062287   10799         loopoocat     2.0\n",
       "8062288   10799         loopoocat     2.0\n",
       "8062289   10799         loopoocat     2.0\n",
       "8062567  174078            _Tera_     6.0\n",
       "8063199  154825  Anton der Grosse     6.0\n",
       "8063446    3886         loopoocat     2.0\n",
       "8063449    3886         loopoocat     2.0\n",
       "8064227  128931        Monkey9485     4.0\n",
       "8064228  128931        Monkey9485     4.0\n",
       "8064229  128931        Monkey9485     4.0\n",
       "8064230  128931        Monkey9485     4.0\n",
       "8064231  128931        Monkey9485     4.0\n",
       "\n",
       "[66903 rows x 3 columns]"
      ]
     },
     "execution_count": 66,
     "metadata": {},
     "output_type": "execute_result"
    }
   ],
   "source": [
    "#Look at all duplicated entries\n",
    "ratings[ratings.duplicated(keep=False)]"
   ]
  },
  {
   "cell_type": "markdown",
   "metadata": {},
   "source": [
    "> There seems to be repeated rows in our dataset. This is because users are able to rate different versions of the game. Versions could be differentiated by language or by edition through subsequent printings by either the same or different publishers. If a user chooses to add more versions of a game to their collection, they have the option of attributing the same rating to each copy. Choosing to rate the game separately will result in duplicated rows if they choose to rate the games at the same score."
   ]
  },
  {
   "cell_type": "code",
   "execution_count": 67,
   "metadata": {
    "collapsed": true
   },
   "outputs": [],
   "source": [
    "# Drop all duplicates\n",
    "ratings = ratings.drop_duplicates()"
   ]
  },
  {
   "cell_type": "code",
   "execution_count": 68,
   "metadata": {
    "scrolled": true
   },
   "outputs": [
    {
     "data": {
      "text/plain": [
       "(8029041, 3)"
      ]
     },
     "execution_count": 68,
     "metadata": {},
     "output_type": "execute_result"
    }
   ],
   "source": [
    "ratings.shape"
   ]
  },
  {
   "cell_type": "markdown",
   "metadata": {},
   "source": [
    "> The number of ratings is still slightly more than what I expect in the nratings column in games(8,028,799). A difference of about 242."
   ]
  },
  {
   "cell_type": "code",
   "execution_count": 69,
   "metadata": {
    "scrolled": true
   },
   "outputs": [
    {
     "data": {
      "text/html": [
       "<div>\n",
       "<table border=\"1\" class=\"dataframe\">\n",
       "  <thead>\n",
       "    <tr style=\"text-align: right;\">\n",
       "      <th></th>\n",
       "      <th>gameid</th>\n",
       "      <th>username</th>\n",
       "      <th>rating</th>\n",
       "    </tr>\n",
       "  </thead>\n",
       "  <tbody>\n",
       "    <tr>\n",
       "      <th>1215</th>\n",
       "      <td>13</td>\n",
       "      <td>Optoman</td>\n",
       "      <td>10.00</td>\n",
       "    </tr>\n",
       "    <tr>\n",
       "      <th>1444</th>\n",
       "      <td>13</td>\n",
       "      <td>RonCarlson01</td>\n",
       "      <td>10.00</td>\n",
       "    </tr>\n",
       "    <tr>\n",
       "      <th>1505</th>\n",
       "      <td>13</td>\n",
       "      <td>Kemari</td>\n",
       "      <td>10.00</td>\n",
       "    </tr>\n",
       "    <tr>\n",
       "      <th>1676</th>\n",
       "      <td>13</td>\n",
       "      <td>iicorps1</td>\n",
       "      <td>10.00</td>\n",
       "    </tr>\n",
       "    <tr>\n",
       "      <th>2054</th>\n",
       "      <td>13</td>\n",
       "      <td>kryrayne</td>\n",
       "      <td>10.00</td>\n",
       "    </tr>\n",
       "    <tr>\n",
       "      <th>2082</th>\n",
       "      <td>13</td>\n",
       "      <td>General_Warhammer</td>\n",
       "      <td>10.00</td>\n",
       "    </tr>\n",
       "    <tr>\n",
       "      <th>2431</th>\n",
       "      <td>13</td>\n",
       "      <td>ingedico</td>\n",
       "      <td>10.00</td>\n",
       "    </tr>\n",
       "    <tr>\n",
       "      <th>2641</th>\n",
       "      <td>13</td>\n",
       "      <td>ForgottenHalcyonDays</td>\n",
       "      <td>10.00</td>\n",
       "    </tr>\n",
       "    <tr>\n",
       "      <th>2811</th>\n",
       "      <td>13</td>\n",
       "      <td>finallyiamnoone</td>\n",
       "      <td>10.00</td>\n",
       "    </tr>\n",
       "    <tr>\n",
       "      <th>2912</th>\n",
       "      <td>13</td>\n",
       "      <td>slycreations</td>\n",
       "      <td>10.00</td>\n",
       "    </tr>\n",
       "    <tr>\n",
       "      <th>2922</th>\n",
       "      <td>13</td>\n",
       "      <td>MikeNvP</td>\n",
       "      <td>10.00</td>\n",
       "    </tr>\n",
       "    <tr>\n",
       "      <th>2980</th>\n",
       "      <td>13</td>\n",
       "      <td>dselljr</td>\n",
       "      <td>10.00</td>\n",
       "    </tr>\n",
       "    <tr>\n",
       "      <th>3942</th>\n",
       "      <td>13</td>\n",
       "      <td>Spielfreak</td>\n",
       "      <td>10.00</td>\n",
       "    </tr>\n",
       "    <tr>\n",
       "      <th>4099</th>\n",
       "      <td>13</td>\n",
       "      <td>Nclt94</td>\n",
       "      <td>9.75</td>\n",
       "    </tr>\n",
       "    <tr>\n",
       "      <th>4109</th>\n",
       "      <td>13</td>\n",
       "      <td>iicorps1</td>\n",
       "      <td>9.70</td>\n",
       "    </tr>\n",
       "    <tr>\n",
       "      <th>4111</th>\n",
       "      <td>13</td>\n",
       "      <td>Johnathan Ray</td>\n",
       "      <td>9.70</td>\n",
       "    </tr>\n",
       "    <tr>\n",
       "      <th>4191</th>\n",
       "      <td>13</td>\n",
       "      <td>Raulink</td>\n",
       "      <td>9.50</td>\n",
       "    </tr>\n",
       "    <tr>\n",
       "      <th>4200</th>\n",
       "      <td>13</td>\n",
       "      <td>antstyl13</td>\n",
       "      <td>9.50</td>\n",
       "    </tr>\n",
       "    <tr>\n",
       "      <th>4273</th>\n",
       "      <td>13</td>\n",
       "      <td>mhtsos</td>\n",
       "      <td>9.50</td>\n",
       "    </tr>\n",
       "    <tr>\n",
       "      <th>4336</th>\n",
       "      <td>13</td>\n",
       "      <td>binraix</td>\n",
       "      <td>9.50</td>\n",
       "    </tr>\n",
       "    <tr>\n",
       "      <th>4444</th>\n",
       "      <td>13</td>\n",
       "      <td>hauwech</td>\n",
       "      <td>9.50</td>\n",
       "    </tr>\n",
       "    <tr>\n",
       "      <th>4478</th>\n",
       "      <td>13</td>\n",
       "      <td>Frechdax</td>\n",
       "      <td>9.40</td>\n",
       "    </tr>\n",
       "    <tr>\n",
       "      <th>4552</th>\n",
       "      <td>13</td>\n",
       "      <td>thsarig</td>\n",
       "      <td>9.10</td>\n",
       "    </tr>\n",
       "    <tr>\n",
       "      <th>4556</th>\n",
       "      <td>13</td>\n",
       "      <td>Frechdax</td>\n",
       "      <td>9.10</td>\n",
       "    </tr>\n",
       "    <tr>\n",
       "      <th>4870</th>\n",
       "      <td>13</td>\n",
       "      <td>RzAz0r</td>\n",
       "      <td>9.00</td>\n",
       "    </tr>\n",
       "    <tr>\n",
       "      <th>5129</th>\n",
       "      <td>13</td>\n",
       "      <td>DarkNeogen</td>\n",
       "      <td>9.00</td>\n",
       "    </tr>\n",
       "    <tr>\n",
       "      <th>5808</th>\n",
       "      <td>13</td>\n",
       "      <td>macfaro</td>\n",
       "      <td>9.00</td>\n",
       "    </tr>\n",
       "    <tr>\n",
       "      <th>5820</th>\n",
       "      <td>13</td>\n",
       "      <td>Heron78</td>\n",
       "      <td>9.00</td>\n",
       "    </tr>\n",
       "    <tr>\n",
       "      <th>6146</th>\n",
       "      <td>13</td>\n",
       "      <td>TierraQuebrada</td>\n",
       "      <td>9.00</td>\n",
       "    </tr>\n",
       "    <tr>\n",
       "      <th>6426</th>\n",
       "      <td>13</td>\n",
       "      <td>Lomingen</td>\n",
       "      <td>9.00</td>\n",
       "    </tr>\n",
       "    <tr>\n",
       "      <th>...</th>\n",
       "      <td>...</td>\n",
       "      <td>...</td>\n",
       "      <td>...</td>\n",
       "    </tr>\n",
       "    <tr>\n",
       "      <th>8051972</th>\n",
       "      <td>187377</td>\n",
       "      <td>Deivich77</td>\n",
       "      <td>1.00</td>\n",
       "    </tr>\n",
       "    <tr>\n",
       "      <th>8052248</th>\n",
       "      <td>137031</td>\n",
       "      <td>Rykel</td>\n",
       "      <td>2.00</td>\n",
       "    </tr>\n",
       "    <tr>\n",
       "      <th>8052614</th>\n",
       "      <td>207830</td>\n",
       "      <td>suckobert</td>\n",
       "      <td>5.00</td>\n",
       "    </tr>\n",
       "    <tr>\n",
       "      <th>8052633</th>\n",
       "      <td>207830</td>\n",
       "      <td>fiddle_g</td>\n",
       "      <td>4.63</td>\n",
       "    </tr>\n",
       "    <tr>\n",
       "      <th>8052640</th>\n",
       "      <td>207830</td>\n",
       "      <td>suckobert</td>\n",
       "      <td>4.00</td>\n",
       "    </tr>\n",
       "    <tr>\n",
       "      <th>8052647</th>\n",
       "      <td>207830</td>\n",
       "      <td>fiddle_g</td>\n",
       "      <td>3.75</td>\n",
       "    </tr>\n",
       "    <tr>\n",
       "      <th>8052653</th>\n",
       "      <td>207830</td>\n",
       "      <td>fiddle_g</td>\n",
       "      <td>2.72</td>\n",
       "    </tr>\n",
       "    <tr>\n",
       "      <th>8052657</th>\n",
       "      <td>207830</td>\n",
       "      <td>fiddle_g</td>\n",
       "      <td>1.56</td>\n",
       "    </tr>\n",
       "    <tr>\n",
       "      <th>8052709</th>\n",
       "      <td>197070</td>\n",
       "      <td>paedophobic</td>\n",
       "      <td>4.84</td>\n",
       "    </tr>\n",
       "    <tr>\n",
       "      <th>8052729</th>\n",
       "      <td>197070</td>\n",
       "      <td>paedophobic</td>\n",
       "      <td>3.37</td>\n",
       "    </tr>\n",
       "    <tr>\n",
       "      <th>8053096</th>\n",
       "      <td>1662</td>\n",
       "      <td>monstrooper</td>\n",
       "      <td>6.00</td>\n",
       "    </tr>\n",
       "    <tr>\n",
       "      <th>8053099</th>\n",
       "      <td>1662</td>\n",
       "      <td>SEEDLESSbbv</td>\n",
       "      <td>6.00</td>\n",
       "    </tr>\n",
       "    <tr>\n",
       "      <th>8053109</th>\n",
       "      <td>1662</td>\n",
       "      <td>Zilver</td>\n",
       "      <td>6.00</td>\n",
       "    </tr>\n",
       "    <tr>\n",
       "      <th>8053114</th>\n",
       "      <td>1662</td>\n",
       "      <td>licinius</td>\n",
       "      <td>6.00</td>\n",
       "    </tr>\n",
       "    <tr>\n",
       "      <th>8053117</th>\n",
       "      <td>1662</td>\n",
       "      <td>el comandante</td>\n",
       "      <td>6.00</td>\n",
       "    </tr>\n",
       "    <tr>\n",
       "      <th>8053122</th>\n",
       "      <td>1662</td>\n",
       "      <td>David Ells</td>\n",
       "      <td>6.00</td>\n",
       "    </tr>\n",
       "    <tr>\n",
       "      <th>8053147</th>\n",
       "      <td>1662</td>\n",
       "      <td>leroy43</td>\n",
       "      <td>6.00</td>\n",
       "    </tr>\n",
       "    <tr>\n",
       "      <th>8053158</th>\n",
       "      <td>1662</td>\n",
       "      <td>sdiberar</td>\n",
       "      <td>6.00</td>\n",
       "    </tr>\n",
       "    <tr>\n",
       "      <th>8054268</th>\n",
       "      <td>254</td>\n",
       "      <td>yankeeap</td>\n",
       "      <td>5.00</td>\n",
       "    </tr>\n",
       "    <tr>\n",
       "      <th>8057605</th>\n",
       "      <td>126444</td>\n",
       "      <td>RealMadbid</td>\n",
       "      <td>2.00</td>\n",
       "    </tr>\n",
       "    <tr>\n",
       "      <th>8058463</th>\n",
       "      <td>150145</td>\n",
       "      <td>bestlem</td>\n",
       "      <td>3.00</td>\n",
       "    </tr>\n",
       "    <tr>\n",
       "      <th>8058468</th>\n",
       "      <td>150145</td>\n",
       "      <td>bestlem</td>\n",
       "      <td>2.00</td>\n",
       "    </tr>\n",
       "    <tr>\n",
       "      <th>8060086</th>\n",
       "      <td>15878</td>\n",
       "      <td>loopoocat</td>\n",
       "      <td>2.00</td>\n",
       "    </tr>\n",
       "    <tr>\n",
       "      <th>8060359</th>\n",
       "      <td>29903</td>\n",
       "      <td>per42</td>\n",
       "      <td>4.00</td>\n",
       "    </tr>\n",
       "    <tr>\n",
       "      <th>8061545</th>\n",
       "      <td>192934</td>\n",
       "      <td>DungeonCrawl</td>\n",
       "      <td>5.00</td>\n",
       "    </tr>\n",
       "    <tr>\n",
       "      <th>8061559</th>\n",
       "      <td>192934</td>\n",
       "      <td>KatAstraFe</td>\n",
       "      <td>4.61</td>\n",
       "    </tr>\n",
       "    <tr>\n",
       "      <th>8061562</th>\n",
       "      <td>192934</td>\n",
       "      <td>KatAstraFe</td>\n",
       "      <td>4.40</td>\n",
       "    </tr>\n",
       "    <tr>\n",
       "      <th>8062255</th>\n",
       "      <td>10799</td>\n",
       "      <td>Musunu</td>\n",
       "      <td>2.00</td>\n",
       "    </tr>\n",
       "    <tr>\n",
       "      <th>8062280</th>\n",
       "      <td>10799</td>\n",
       "      <td>loopoocat</td>\n",
       "      <td>2.00</td>\n",
       "    </tr>\n",
       "    <tr>\n",
       "      <th>8063446</th>\n",
       "      <td>3886</td>\n",
       "      <td>loopoocat</td>\n",
       "      <td>2.00</td>\n",
       "    </tr>\n",
       "  </tbody>\n",
       "</table>\n",
       "<p>28643 rows × 3 columns</p>\n",
       "</div>"
      ],
      "text/plain": [
       "         gameid              username  rating\n",
       "1215         13               Optoman   10.00\n",
       "1444         13          RonCarlson01   10.00\n",
       "1505         13                Kemari   10.00\n",
       "1676         13              iicorps1   10.00\n",
       "2054         13              kryrayne   10.00\n",
       "2082         13     General_Warhammer   10.00\n",
       "2431         13              ingedico   10.00\n",
       "2641         13  ForgottenHalcyonDays   10.00\n",
       "2811         13       finallyiamnoone   10.00\n",
       "2912         13          slycreations   10.00\n",
       "2922         13               MikeNvP   10.00\n",
       "2980         13               dselljr   10.00\n",
       "3942         13            Spielfreak   10.00\n",
       "4099         13                Nclt94    9.75\n",
       "4109         13              iicorps1    9.70\n",
       "4111         13         Johnathan Ray    9.70\n",
       "4191         13               Raulink    9.50\n",
       "4200         13             antstyl13    9.50\n",
       "4273         13                mhtsos    9.50\n",
       "4336         13               binraix    9.50\n",
       "4444         13               hauwech    9.50\n",
       "4478         13              Frechdax    9.40\n",
       "4552         13               thsarig    9.10\n",
       "4556         13              Frechdax    9.10\n",
       "4870         13                RzAz0r    9.00\n",
       "5129         13            DarkNeogen    9.00\n",
       "5808         13               macfaro    9.00\n",
       "5820         13               Heron78    9.00\n",
       "6146         13        TierraQuebrada    9.00\n",
       "6426         13              Lomingen    9.00\n",
       "...         ...                   ...     ...\n",
       "8051972  187377             Deivich77    1.00\n",
       "8052248  137031                 Rykel    2.00\n",
       "8052614  207830             suckobert    5.00\n",
       "8052633  207830              fiddle_g    4.63\n",
       "8052640  207830             suckobert    4.00\n",
       "8052647  207830              fiddle_g    3.75\n",
       "8052653  207830              fiddle_g    2.72\n",
       "8052657  207830              fiddle_g    1.56\n",
       "8052709  197070           paedophobic    4.84\n",
       "8052729  197070           paedophobic    3.37\n",
       "8053096    1662           monstrooper    6.00\n",
       "8053099    1662           SEEDLESSbbv    6.00\n",
       "8053109    1662                Zilver    6.00\n",
       "8053114    1662              licinius    6.00\n",
       "8053117    1662         el comandante    6.00\n",
       "8053122    1662            David Ells    6.00\n",
       "8053147    1662               leroy43    6.00\n",
       "8053158    1662              sdiberar    6.00\n",
       "8054268     254              yankeeap    5.00\n",
       "8057605  126444            RealMadbid    2.00\n",
       "8058463  150145               bestlem    3.00\n",
       "8058468  150145               bestlem    2.00\n",
       "8060086   15878             loopoocat    2.00\n",
       "8060359   29903                 per42    4.00\n",
       "8061545  192934          DungeonCrawl    5.00\n",
       "8061559  192934            KatAstraFe    4.61\n",
       "8061562  192934            KatAstraFe    4.40\n",
       "8062255   10799                Musunu    2.00\n",
       "8062280   10799             loopoocat    2.00\n",
       "8063446    3886             loopoocat    2.00\n",
       "\n",
       "[28643 rows x 3 columns]"
      ]
     },
     "execution_count": 69,
     "metadata": {},
     "output_type": "execute_result"
    }
   ],
   "source": [
    "# Inspect the duplicates on both username and gameid\n",
    "ratings[ratings.duplicated(subset=['username', 'gameid'], keep=False)]"
   ]
  },
  {
   "cell_type": "markdown",
   "metadata": {},
   "source": [
    "> We can see the reason for the duplicates is due to the same user rating the same game twice or more. This can happen when a user adds a new version / edition of the game to his collection and gives it a different rating. Or like the example below, just can't make up his mind"
   ]
  },
  {
   "cell_type": "code",
   "execution_count": 70,
   "metadata": {},
   "outputs": [
    {
     "data": {
      "text/html": [
       "<div>\n",
       "<table border=\"1\" class=\"dataframe\">\n",
       "  <thead>\n",
       "    <tr style=\"text-align: right;\">\n",
       "      <th></th>\n",
       "      <th>gameid</th>\n",
       "      <th>username</th>\n",
       "      <th>rating</th>\n",
       "    </tr>\n",
       "  </thead>\n",
       "  <tbody>\n",
       "    <tr>\n",
       "      <th>7704863</th>\n",
       "      <td>197070</td>\n",
       "      <td>paedophobic</td>\n",
       "      <td>9.88</td>\n",
       "    </tr>\n",
       "    <tr>\n",
       "      <th>7704864</th>\n",
       "      <td>197070</td>\n",
       "      <td>paedophobic</td>\n",
       "      <td>9.81</td>\n",
       "    </tr>\n",
       "    <tr>\n",
       "      <th>7704866</th>\n",
       "      <td>197070</td>\n",
       "      <td>paedophobic</td>\n",
       "      <td>9.55</td>\n",
       "    </tr>\n",
       "    <tr>\n",
       "      <th>7749807</th>\n",
       "      <td>197070</td>\n",
       "      <td>paedophobic</td>\n",
       "      <td>8.96</td>\n",
       "    </tr>\n",
       "    <tr>\n",
       "      <th>7749846</th>\n",
       "      <td>197070</td>\n",
       "      <td>paedophobic</td>\n",
       "      <td>8.26</td>\n",
       "    </tr>\n",
       "    <tr>\n",
       "      <th>7809823</th>\n",
       "      <td>197070</td>\n",
       "      <td>paedophobic</td>\n",
       "      <td>7.16</td>\n",
       "    </tr>\n",
       "    <tr>\n",
       "      <th>7839800</th>\n",
       "      <td>197070</td>\n",
       "      <td>paedophobic</td>\n",
       "      <td>6.41</td>\n",
       "    </tr>\n",
       "    <tr>\n",
       "      <th>7839892</th>\n",
       "      <td>197070</td>\n",
       "      <td>paedophobic</td>\n",
       "      <td>5.71</td>\n",
       "    </tr>\n",
       "    <tr>\n",
       "      <th>8052709</th>\n",
       "      <td>197070</td>\n",
       "      <td>paedophobic</td>\n",
       "      <td>4.84</td>\n",
       "    </tr>\n",
       "    <tr>\n",
       "      <th>8052729</th>\n",
       "      <td>197070</td>\n",
       "      <td>paedophobic</td>\n",
       "      <td>3.37</td>\n",
       "    </tr>\n",
       "  </tbody>\n",
       "</table>\n",
       "</div>"
      ],
      "text/plain": [
       "         gameid     username  rating\n",
       "7704863  197070  paedophobic    9.88\n",
       "7704864  197070  paedophobic    9.81\n",
       "7704866  197070  paedophobic    9.55\n",
       "7749807  197070  paedophobic    8.96\n",
       "7749846  197070  paedophobic    8.26\n",
       "7809823  197070  paedophobic    7.16\n",
       "7839800  197070  paedophobic    6.41\n",
       "7839892  197070  paedophobic    5.71\n",
       "8052709  197070  paedophobic    4.84\n",
       "8052729  197070  paedophobic    3.37"
      ]
     },
     "execution_count": 70,
     "metadata": {},
     "output_type": "execute_result"
    }
   ],
   "source": [
    "ratings.loc[(ratings['gameid']==197070) & (ratings['username']== 'paedophobic')]"
   ]
  },
  {
   "cell_type": "markdown",
   "metadata": {},
   "source": [
    "> Unfortunately, we have no timestamp data of when the ratings were given. The next best alternative is to compute the mean of the set of ratings since the ratings are continuous variables on a scale of 1-10"
   ]
  },
  {
   "cell_type": "code",
   "execution_count": 71,
   "metadata": {
    "collapsed": true
   },
   "outputs": [],
   "source": [
    "# rows where (game, user) is duplicate\n",
    "multis = ratings.loc[ratings.duplicated(subset=[\"gameid\", \"username\"], keep=False)] \n",
    "# rows where (game, user) is NOT duplicate\n",
    "no_multis = ratings.loc[~ratings.duplicated(subset=[\"gameid\", \"username\"], keep=False)] "
   ]
  },
  {
   "cell_type": "code",
   "execution_count": 72,
   "metadata": {},
   "outputs": [
    {
     "data": {
      "text/html": [
       "<div>\n",
       "<table border=\"1\" class=\"dataframe\">\n",
       "  <thead>\n",
       "    <tr style=\"text-align: right;\">\n",
       "      <th></th>\n",
       "      <th>gameid</th>\n",
       "      <th>username</th>\n",
       "      <th>rating</th>\n",
       "    </tr>\n",
       "  </thead>\n",
       "  <tbody>\n",
       "    <tr>\n",
       "      <th>0</th>\n",
       "      <td>1</td>\n",
       "      <td>Celtic</td>\n",
       "      <td>8.75</td>\n",
       "    </tr>\n",
       "    <tr>\n",
       "      <th>1</th>\n",
       "      <td>1</td>\n",
       "      <td>Iago71</td>\n",
       "      <td>8.25</td>\n",
       "    </tr>\n",
       "    <tr>\n",
       "      <th>2</th>\n",
       "      <td>1</td>\n",
       "      <td>Morganza</td>\n",
       "      <td>8.05</td>\n",
       "    </tr>\n",
       "    <tr>\n",
       "      <th>3</th>\n",
       "      <td>1</td>\n",
       "      <td>Oramon</td>\n",
       "      <td>9.50</td>\n",
       "    </tr>\n",
       "    <tr>\n",
       "      <th>4</th>\n",
       "      <td>1</td>\n",
       "      <td>PaulinTheLion</td>\n",
       "      <td>7.50</td>\n",
       "    </tr>\n",
       "  </tbody>\n",
       "</table>\n",
       "</div>"
      ],
      "text/plain": [
       "   gameid       username  rating\n",
       "0       1         Celtic    8.75\n",
       "1       1         Iago71    8.25\n",
       "2       1       Morganza    8.05\n",
       "3       1         Oramon    9.50\n",
       "4       1  PaulinTheLion    7.50"
      ]
     },
     "execution_count": 72,
     "metadata": {},
     "output_type": "execute_result"
    }
   ],
   "source": [
    "# replace each set of duplicates with avg\n",
    "means = multis.groupby([\"gameid\", \"username\"])[\"rating\"].mean().reset_index() \n",
    "means.head()"
   ]
  },
  {
   "cell_type": "code",
   "execution_count": 73,
   "metadata": {
    "collapsed": true
   },
   "outputs": [],
   "source": [
    "# Add the de-duplicated average rows back in\n",
    "ratings = pd.concat([no_multis, means])  "
   ]
  },
  {
   "cell_type": "code",
   "execution_count": 74,
   "metadata": {},
   "outputs": [
    {
     "data": {
      "text/plain": [
       "0"
      ]
     },
     "execution_count": 74,
     "metadata": {},
     "output_type": "execute_result"
    }
   ],
   "source": [
    "ratings.duplicated(subset=['gameid', 'username']).sum()"
   ]
  },
  {
   "cell_type": "markdown",
   "metadata": {},
   "source": [
    "> Great! we've removed all duplicate entries in our ratings dataframe. Let's save it as a separate database"
   ]
  },
  {
   "cell_type": "code",
   "execution_count": 77,
   "metadata": {
    "collapsed": true
   },
   "outputs": [],
   "source": [
    "connex = sqlite3.connect(\"bgg_ratings_deduplicated.db\") \n",
    "ratings.to_sql(\"ratings\", connex, index=False)\n",
    "connex.commit()\n",
    "connex.close()"
   ]
  },
  {
   "cell_type": "code",
   "execution_count": 78,
   "metadata": {},
   "outputs": [
    {
     "data": {
      "text/plain": [
       "-14418"
      ]
     },
     "execution_count": 78,
     "metadata": {},
     "output_type": "execute_result"
    }
   ],
   "source": [
    "len(ratings) - games['nratings'].sum()"
   ]
  },
  {
   "cell_type": "markdown",
   "metadata": {},
   "source": [
    "> The difference observed here can be attributed to the flux of game ratings entering the system from the time we scraped the game page to actually getting the rating data through api calls."
   ]
  },
  {
   "cell_type": "code",
   "execution_count": 79,
   "metadata": {},
   "outputs": [
    {
     "data": {
      "text/plain": [
       "1807"
      ]
     },
     "execution_count": 79,
     "metadata": {},
     "output_type": "execute_result"
    }
   ],
   "source": [
    "len(ratings['gameid'].unique())"
   ]
  },
  {
   "cell_type": "code",
   "execution_count": 80,
   "metadata": {},
   "outputs": [
    {
     "data": {
      "text/plain": [
       "204483"
      ]
     },
     "execution_count": 80,
     "metadata": {},
     "output_type": "execute_result"
    }
   ],
   "source": [
    "len(ratings['username'].unique())"
   ]
  },
  {
   "cell_type": "markdown",
   "metadata": {},
   "source": [
    "> Our final matrix should be of size 204,483 x 1807. Let's do a check to see whether our scraped data is comparable to what is on the server. While we're at it, let's look at some plots of 3 random samples as well."
   ]
  },
  {
   "cell_type": "code",
   "execution_count": 83,
   "metadata": {},
   "outputs": [
    {
     "name": "stdout",
     "output_type": "stream",
     "text": [
      "[u'Age of War'] Our Data: Mean = 6.43. StdDev = 1.26\n",
      "[u'Age of War'] Server Stats: Mean = 6.43. StdDev = 1.26\n",
      "[u'Streetcar'] Our Data: Mean = 6.46. StdDev = 1.25\n",
      "[u'Streetcar'] Server Stats: Mean = 6.46. StdDev = 1.25\n",
      "[u'Tikal'] Our Data: Mean = 7.34. StdDev = 1.20\n",
      "[u'Tikal'] Server Stats: Mean = 7.34. StdDev = 1.20\n"
     ]
    },
    {
     "data": {
      "image/png": "[encoded data removed]",
      "text/plain": [
       "<matplotlib.figure.Figure at 0x125215b10>"
      ]
     },
     "metadata": {
      "image/png": {
       "height": 279,
       "width": 950
      }
     },
     "output_type": "display_data"
    }
   ],
   "source": [
    "# Plot histogram of games\n",
    "fig, ax = plt.subplots(figsize=[16, 4], nrows=1, ncols=3)\n",
    "ax = ax.ravel()\n",
    "for idx, game in enumerate(games[\"gameid\"].sample(n=3, random_state=999)):\n",
    "    df = ratings[ratings[\"gameid\"] == game]\n",
    "    nm = games.loc[games[\"gameid\"] == game, \"gamename\"].values\n",
    "    __ = ax[idx].hist(df[\"rating\"], bins=10, normed=True)\n",
    "    ax[idx].set_title(\"{} ({})\".format(nm, game))\n",
    "    ax[idx].set_xlabel('Ratings')\n",
    "    ax[idx].set_ylabel('Frequencies')\n",
    "    print \"{} Our Data: Mean = {:.2f}. StdDev = {:.2f}\".format(nm, df[\"rating\"].mean(), df[\"rating\"].std())\n",
    "    \n",
    "    # Request actual stats from the server to compare with scraped data\n",
    "    r = requests.get(\"http://www.boardgamegeek.com/xmlapi2/thing?id={}&stats=1\".format(game))\n",
    "    soup = BeautifulSoup(r.text, \"xml\")\n",
    "    std = float(soup(\"stddev\")[0][\"value\"])\n",
    "    mn = float(soup(\"average\")[0][\"value\"])\n",
    "    print \"{} Server Stats: Mean = {:.2f}. StdDev = {:.2f}\".format(nm, mn,std)\n",
    "    sleep(1.5)"
   ]
  },
  {
   "cell_type": "markdown",
   "metadata": {},
   "source": [
    "> We can see that most games have a normal distribution with a peak at around 7"
   ]
  },
  {
   "cell_type": "markdown",
   "metadata": {},
   "source": [
    "# Transform to user-item ratings matrix\n",
    ">We will want to pivot our ratings matrix into a table of size N x M where N is the total number of users as rows and M is the total number of games as columns. The values in the matrix will be populated by the ratings given by each user to games.\n",
    "\n",
    ">We will select users with at least 10 or more ratings in our database to in order to make our predictions and recommendations"
   ]
  },
  {
   "cell_type": "code",
   "execution_count": 6,
   "metadata": {
    "collapsed": true
   },
   "outputs": [],
   "source": [
    "# Select users with at least 10 or more ratings into a new dataframe\n",
    "connex=sqlite3.connect(\"bgg_ratings_deduplicated.db\")\n",
    "sql=\"\"\"\n",
    "SELECT username, COUNT(username) as games_rated\n",
    "FROM ratings\n",
    "GROUP BY username\n",
    "HAVING games_rated >= 10\n",
    "\"\"\"\n",
    "users = pd.read_sql(sql, connex)"
   ]
  },
  {
   "cell_type": "code",
   "execution_count": 89,
   "metadata": {},
   "outputs": [
    {
     "data": {
      "text/html": [
       "<div>\n",
       "<table border=\"1\" class=\"dataframe\">\n",
       "  <thead>\n",
       "    <tr style=\"text-align: right;\">\n",
       "      <th></th>\n",
       "      <th>username</th>\n",
       "      <th>games_rated</th>\n",
       "    </tr>\n",
       "  </thead>\n",
       "  <tbody>\n",
       "    <tr>\n",
       "      <th>0</th>\n",
       "      <td>mycroft</td>\n",
       "      <td>13</td>\n",
       "    </tr>\n",
       "    <tr>\n",
       "      <th>1</th>\n",
       "      <td>-=Yod@=-</td>\n",
       "      <td>183</td>\n",
       "    </tr>\n",
       "    <tr>\n",
       "      <th>2</th>\n",
       "      <td>-Johnny-</td>\n",
       "      <td>341</td>\n",
       "    </tr>\n",
       "    <tr>\n",
       "      <th>3</th>\n",
       "      <td>-Loren-</td>\n",
       "      <td>67</td>\n",
       "    </tr>\n",
       "    <tr>\n",
       "      <th>4</th>\n",
       "      <td>-LucaS-</td>\n",
       "      <td>19</td>\n",
       "    </tr>\n",
       "  </tbody>\n",
       "</table>\n",
       "</div>"
      ],
      "text/plain": [
       "   username  games_rated\n",
       "0   mycroft           13\n",
       "1  -=Yod@=-          183\n",
       "2  -Johnny-          341\n",
       "3   -Loren-           67\n",
       "4   -LucaS-           19"
      ]
     },
     "execution_count": 89,
     "metadata": {},
     "output_type": "execute_result"
    }
   ],
   "source": [
    "users.head()"
   ]
  },
  {
   "cell_type": "markdown",
   "metadata": {},
   "source": [
    "> In the user dataframe, we can see each user and how many games from our database of 1807 they have rated."
   ]
  },
  {
   "cell_type": "code",
   "execution_count": 112,
   "metadata": {},
   "outputs": [
    {
     "data": {
      "text/html": [
       "<div>\n",
       "<table border=\"1\" class=\"dataframe\">\n",
       "  <thead>\n",
       "    <tr style=\"text-align: right;\">\n",
       "      <th></th>\n",
       "      <th>games_rated</th>\n",
       "    </tr>\n",
       "  </thead>\n",
       "  <tbody>\n",
       "    <tr>\n",
       "      <th>count</th>\n",
       "      <td>120679.000000</td>\n",
       "    </tr>\n",
       "    <tr>\n",
       "      <th>mean</th>\n",
       "      <td>63.976110</td>\n",
       "    </tr>\n",
       "    <tr>\n",
       "      <th>std</th>\n",
       "      <td>84.004832</td>\n",
       "    </tr>\n",
       "    <tr>\n",
       "      <th>min</th>\n",
       "      <td>10.000000</td>\n",
       "    </tr>\n",
       "    <tr>\n",
       "      <th>25%</th>\n",
       "      <td>18.000000</td>\n",
       "    </tr>\n",
       "    <tr>\n",
       "      <th>50%</th>\n",
       "      <td>35.000000</td>\n",
       "    </tr>\n",
       "    <tr>\n",
       "      <th>75%</th>\n",
       "      <td>72.000000</td>\n",
       "    </tr>\n",
       "    <tr>\n",
       "      <th>max</th>\n",
       "      <td>1720.000000</td>\n",
       "    </tr>\n",
       "  </tbody>\n",
       "</table>\n",
       "</div>"
      ],
      "text/plain": [
       "         games_rated\n",
       "count  120679.000000\n",
       "mean       63.976110\n",
       "std        84.004832\n",
       "min        10.000000\n",
       "25%        18.000000\n",
       "50%        35.000000\n",
       "75%        72.000000\n",
       "max      1720.000000"
      ]
     },
     "execution_count": 112,
     "metadata": {},
     "output_type": "execute_result"
    }
   ],
   "source": [
    "users.describe()"
   ]
  },
  {
   "cell_type": "markdown",
   "metadata": {},
   "source": [
    ">The median number of games rated is 35 while the mean is around 64. There seems to be a few individuals that rate so many games that it skews the distribution. The max number of games rated by one or more individuals is 1720 out of a possible 1807 games!"
   ]
  },
  {
   "cell_type": "code",
   "execution_count": 114,
   "metadata": {},
   "outputs": [
    {
     "data": {
      "text/html": [
       "<div>\n",
       "<table border=\"1\" class=\"dataframe\">\n",
       "  <thead>\n",
       "    <tr style=\"text-align: right;\">\n",
       "      <th></th>\n",
       "      <th>username</th>\n",
       "      <th>games_rated</th>\n",
       "    </tr>\n",
       "  </thead>\n",
       "  <tbody>\n",
       "    <tr>\n",
       "      <th>89790</th>\n",
       "      <td>leffe dubbel</td>\n",
       "      <td>1720</td>\n",
       "    </tr>\n",
       "    <tr>\n",
       "      <th>117618</th>\n",
       "      <td>we3die</td>\n",
       "      <td>1510</td>\n",
       "    </tr>\n",
       "    <tr>\n",
       "      <th>35286</th>\n",
       "      <td>Nap16</td>\n",
       "      <td>1442</td>\n",
       "    </tr>\n",
       "    <tr>\n",
       "      <th>13219</th>\n",
       "      <td>Doel</td>\n",
       "      <td>1381</td>\n",
       "    </tr>\n",
       "    <tr>\n",
       "      <th>21450</th>\n",
       "      <td>Hessu68</td>\n",
       "      <td>1363</td>\n",
       "    </tr>\n",
       "    <tr>\n",
       "      <th>51507</th>\n",
       "      <td>TomVasel</td>\n",
       "      <td>1324</td>\n",
       "    </tr>\n",
       "    <tr>\n",
       "      <th>60536</th>\n",
       "      <td>averagerating</td>\n",
       "      <td>1286</td>\n",
       "    </tr>\n",
       "    <tr>\n",
       "      <th>19060</th>\n",
       "      <td>Gibmaatsuki</td>\n",
       "      <td>1249</td>\n",
       "    </tr>\n",
       "    <tr>\n",
       "      <th>54112</th>\n",
       "      <td>Walt Mulder</td>\n",
       "      <td>1170</td>\n",
       "    </tr>\n",
       "    <tr>\n",
       "      <th>37814</th>\n",
       "      <td>PBrennan</td>\n",
       "      <td>1158</td>\n",
       "    </tr>\n",
       "  </tbody>\n",
       "</table>\n",
       "</div>"
      ],
      "text/plain": [
       "             username  games_rated\n",
       "89790    leffe dubbel         1720\n",
       "117618         we3die         1510\n",
       "35286           Nap16         1442\n",
       "13219            Doel         1381\n",
       "21450         Hessu68         1363\n",
       "51507        TomVasel         1324\n",
       "60536   averagerating         1286\n",
       "19060     Gibmaatsuki         1249\n",
       "54112     Walt Mulder         1170\n",
       "37814        PBrennan         1158"
      ]
     },
     "execution_count": 114,
     "metadata": {},
     "output_type": "execute_result"
    }
   ],
   "source": [
    "users.sort_values('games_rated', ascending=False).head(10)"
   ]
  },
  {
   "cell_type": "markdown",
   "metadata": {},
   "source": [
    ">Looks like there is only one individual with the honour of rating the most games in our dataset."
   ]
  },
  {
   "cell_type": "code",
   "execution_count": 16,
   "metadata": {},
   "outputs": [
    {
     "data": {
      "image/png": "[encoded data removed]",
      "text/plain": [
       "<matplotlib.figure.Figure at 0x10d8346d0>"
      ]
     },
     "metadata": {
      "image/png": {
       "height": 493,
       "width": 732
      }
     },
     "output_type": "display_data"
    }
   ],
   "source": [
    "plt.figure(figsize=(12,8))\n",
    "sns.distplot(users['games_rated'], bins=20, kde=False)\n",
    "sns.despine()\n",
    "plt.show()"
   ]
  },
  {
   "cell_type": "markdown",
   "metadata": {},
   "source": [
    ">We can see that the majority of users rate 100 games or less, making the distribution significantly positively skewed. Let's perform a log transformation to see if we are able to approximate a normal distribution"
   ]
  },
  {
   "cell_type": "code",
   "execution_count": 13,
   "metadata": {
    "collapsed": true
   },
   "outputs": [],
   "source": [
    "users['log_games_rated'] = np.log(users['games_rated'])"
   ]
  },
  {
   "cell_type": "code",
   "execution_count": 15,
   "metadata": {},
   "outputs": [
    {
     "data": {
      "image/png": "[encoded data removed]",
      "text/plain": [
       "<matplotlib.figure.Figure at 0x10ddab810>"
      ]
     },
     "metadata": {
      "image/png": {
       "height": 493,
       "width": 713
      }
     },
     "output_type": "display_data"
    }
   ],
   "source": [
    "plt.figure(figsize=(12,8))\n",
    "sns.distplot(users['log_games_rated'], kde=False)\n",
    "sns.despine()\n",
    "plt.show()"
   ]
  },
  {
   "cell_type": "markdown",
   "metadata": {},
   "source": [
    ">Even with a log transformation, the distribution of games rated by users is skewed right."
   ]
  },
  {
   "cell_type": "code",
   "execution_count": 18,
   "metadata": {
    "collapsed": true
   },
   "outputs": [],
   "source": [
    "games = pd.read_csv('bgg_gamelist.csv')"
   ]
  },
  {
   "cell_type": "code",
   "execution_count": 20,
   "metadata": {},
   "outputs": [
    {
     "data": {
      "text/plain": [
       "count     1807.000000\n",
       "mean      4443.164914\n",
       "std       6419.446775\n",
       "min        975.000000\n",
       "25%       1397.500000\n",
       "50%       2217.000000\n",
       "75%       4555.500000\n",
       "max      71279.000000\n",
       "Name: nratings, dtype: float64"
      ]
     },
     "execution_count": 20,
     "metadata": {},
     "output_type": "execute_result"
    }
   ],
   "source": [
    "games['nratings'].describe()"
   ]
  },
  {
   "cell_type": "code",
   "execution_count": 19,
   "metadata": {},
   "outputs": [
    {
     "data": {
      "image/png": "[encoded data removed]",
      "text/plain": [
       "<matplotlib.figure.Figure at 0x10efbf390>"
      ]
     },
     "metadata": {
      "image/png": {
       "height": 493,
       "width": 724
      }
     },
     "output_type": "display_data"
    }
   ],
   "source": [
    "plt.figure(figsize=(12,8))\n",
    "sns.distplot(games['nratings'], bins=20, kde=False)\n",
    "sns.despine()\n",
    "plt.show()"
   ]
  },
  {
   "cell_type": "markdown",
   "metadata": {},
   "source": [
    ">The distribution of game ratings looks eerily similar to that of the rating distribution of users. This is not surprising given some games are more popular than others and yet the vast majority of games have few ratings compared to a minority of popular ones that gets exponentially more ratings just because they are more well-known."
   ]
  },
  {
   "cell_type": "code",
   "execution_count": 90,
   "metadata": {},
   "outputs": [
    {
     "data": {
      "text/plain": [
       "120679"
      ]
     },
     "execution_count": 90,
     "metadata": {},
     "output_type": "execute_result"
    }
   ],
   "source": [
    "#Total number of users included in analysis\n",
    "len(users)"
   ]
  },
  {
   "cell_type": "code",
   "execution_count": 91,
   "metadata": {},
   "outputs": [
    {
     "data": {
      "text/plain": [
       "0"
      ]
     },
     "execution_count": 91,
     "metadata": {},
     "output_type": "execute_result"
    }
   ],
   "source": [
    "#Verify no duplicated users\n",
    "users.duplicated().sum()"
   ]
  },
  {
   "cell_type": "markdown",
   "metadata": {},
   "source": [
    "> Let's take a look at how sparse our data actually is"
   ]
  },
  {
   "cell_type": "code",
   "execution_count": 101,
   "metadata": {},
   "outputs": [
    {
     "name": "stdout",
     "output_type": "stream",
     "text": [
      "Number of possible values in ratings matrix: 369500781\n",
      "Number of actual ratings: 8014381\n",
      "Sparsity of Ratings Data is 2.00\n"
     ]
    }
   ],
   "source": [
    "max_n_ratings = len(ratings[\"gameid\"].unique())*len(ratings[\"username\"].unique())\n",
    "actual_n_ratings = len(ratings)\n",
    "print 'Number of possible values in ratings matrix:', max_n_ratings\n",
    "print 'Number of actual ratings:', actual_n_ratings\n",
    "print \"Sparsity of Ratings Data is {:.2f}\".format(100*float(actual_n_ratings)/max_n_ratings)"
   ]
  },
  {
   "cell_type": "markdown",
   "metadata": {},
   "source": [
    "> Nice and sparse. Just like any good ratings matrix..=)\n",
    "\n",
    ">Let's now create a subset of our ratings matrix with users that have rated at least 10 or more"
   ]
  },
  {
   "cell_type": "code",
   "execution_count": 95,
   "metadata": {
    "collapsed": true
   },
   "outputs": [],
   "source": [
    "rate10 = ratings[ratings['username'].isin(users['username'])]"
   ]
  },
  {
   "cell_type": "code",
   "execution_count": 96,
   "metadata": {},
   "outputs": [
    {
     "data": {
      "text/plain": [
       "120679"
      ]
     },
     "execution_count": 96,
     "metadata": {},
     "output_type": "execute_result"
    }
   ],
   "source": [
    "rate10['username'].nunique()"
   ]
  },
  {
   "cell_type": "markdown",
   "metadata": {},
   "source": [
    ">Let's take a look at how sparse our data is now that we have selected users with more ratings."
   ]
  },
  {
   "cell_type": "code",
   "execution_count": 2,
   "metadata": {
    "collapsed": true
   },
   "outputs": [],
   "source": [
    "rate10 = pd.read_pickle('rate10_pickle')"
   ]
  },
  {
   "cell_type": "code",
   "execution_count": 3,
   "metadata": {},
   "outputs": [
    {
     "name": "stdout",
     "output_type": "stream",
     "text": [
      "Number of possible values in ratings matrix: 218066953\n",
      "Number of actual ratings: 7720573\n",
      "Sparsity of Ratings Data is 3.54\n"
     ]
    }
   ],
   "source": [
    "max_n_ratings = len(rate10[\"gameid\"].unique())*len(rate10[\"username\"].unique())\n",
    "actual_n_ratings = len(rate10)\n",
    "print 'Number of possible values in ratings matrix:', max_n_ratings\n",
    "print 'Number of actual ratings:', actual_n_ratings\n",
    "print \"Sparsity of Ratings Data is {:.2f}\".format(100*float(actual_n_ratings)/max_n_ratings)"
   ]
  },
  {
   "cell_type": "markdown",
   "metadata": {},
   "source": [
    ">Seems better, but only slightly. All those NaNs are going to be a 'lovely' sight.\n",
    "\n",
    ">We finally transform our long ratings table into our required squarish matrix table by performing a pivot table function"
   ]
  },
  {
   "cell_type": "code",
   "execution_count": 102,
   "metadata": {
    "collapsed": true
   },
   "outputs": [],
   "source": [
    "ratings_pivot = pd.pivot_table(rate10, values='rating', index='username', columns='gameid')"
   ]
  },
  {
   "cell_type": "code",
   "execution_count": 103,
   "metadata": {},
   "outputs": [
    {
     "data": {
      "text/html": [
       "<div>\n",
       "<table border=\"1\" class=\"dataframe\">\n",
       "  <thead>\n",
       "    <tr style=\"text-align: right;\">\n",
       "      <th>gameid</th>\n",
       "      <th>1</th>\n",
       "      <th>3</th>\n",
       "      <th>5</th>\n",
       "      <th>7</th>\n",
       "      <th>9</th>\n",
       "      <th>10</th>\n",
       "      <th>11</th>\n",
       "      <th>12</th>\n",
       "      <th>13</th>\n",
       "      <th>14</th>\n",
       "      <th>...</th>\n",
       "      <th>206718</th>\n",
       "      <th>206941</th>\n",
       "      <th>207336</th>\n",
       "      <th>207691</th>\n",
       "      <th>207830</th>\n",
       "      <th>209010</th>\n",
       "      <th>209685</th>\n",
       "      <th>209778</th>\n",
       "      <th>213893</th>\n",
       "      <th>219513</th>\n",
       "    </tr>\n",
       "    <tr>\n",
       "      <th>username</th>\n",
       "      <th></th>\n",
       "      <th></th>\n",
       "      <th></th>\n",
       "      <th></th>\n",
       "      <th></th>\n",
       "      <th></th>\n",
       "      <th></th>\n",
       "      <th></th>\n",
       "      <th></th>\n",
       "      <th></th>\n",
       "      <th></th>\n",
       "      <th></th>\n",
       "      <th></th>\n",
       "      <th></th>\n",
       "      <th></th>\n",
       "      <th></th>\n",
       "      <th></th>\n",
       "      <th></th>\n",
       "      <th></th>\n",
       "      <th></th>\n",
       "      <th></th>\n",
       "    </tr>\n",
       "  </thead>\n",
       "  <tbody>\n",
       "    <tr>\n",
       "      <th>mycroft</th>\n",
       "      <td>NaN</td>\n",
       "      <td>NaN</td>\n",
       "      <td>8.0</td>\n",
       "      <td>NaN</td>\n",
       "      <td>NaN</td>\n",
       "      <td>NaN</td>\n",
       "      <td>NaN</td>\n",
       "      <td>NaN</td>\n",
       "      <td>9.0</td>\n",
       "      <td>NaN</td>\n",
       "      <td>...</td>\n",
       "      <td>NaN</td>\n",
       "      <td>NaN</td>\n",
       "      <td>NaN</td>\n",
       "      <td>NaN</td>\n",
       "      <td>NaN</td>\n",
       "      <td>NaN</td>\n",
       "      <td>NaN</td>\n",
       "      <td>NaN</td>\n",
       "      <td>NaN</td>\n",
       "      <td>NaN</td>\n",
       "    </tr>\n",
       "    <tr>\n",
       "      <th>-=Yod@=-</th>\n",
       "      <td>NaN</td>\n",
       "      <td>NaN</td>\n",
       "      <td>NaN</td>\n",
       "      <td>7.5</td>\n",
       "      <td>NaN</td>\n",
       "      <td>NaN</td>\n",
       "      <td>7.0</td>\n",
       "      <td>NaN</td>\n",
       "      <td>7.0</td>\n",
       "      <td>NaN</td>\n",
       "      <td>...</td>\n",
       "      <td>NaN</td>\n",
       "      <td>NaN</td>\n",
       "      <td>NaN</td>\n",
       "      <td>NaN</td>\n",
       "      <td>NaN</td>\n",
       "      <td>NaN</td>\n",
       "      <td>NaN</td>\n",
       "      <td>NaN</td>\n",
       "      <td>NaN</td>\n",
       "      <td>NaN</td>\n",
       "    </tr>\n",
       "    <tr>\n",
       "      <th>-Johnny-</th>\n",
       "      <td>5.0</td>\n",
       "      <td>4.0</td>\n",
       "      <td>7.0</td>\n",
       "      <td>NaN</td>\n",
       "      <td>NaN</td>\n",
       "      <td>4.0</td>\n",
       "      <td>6.0</td>\n",
       "      <td>5.0</td>\n",
       "      <td>7.0</td>\n",
       "      <td>NaN</td>\n",
       "      <td>...</td>\n",
       "      <td>NaN</td>\n",
       "      <td>NaN</td>\n",
       "      <td>NaN</td>\n",
       "      <td>NaN</td>\n",
       "      <td>NaN</td>\n",
       "      <td>NaN</td>\n",
       "      <td>NaN</td>\n",
       "      <td>NaN</td>\n",
       "      <td>NaN</td>\n",
       "      <td>NaN</td>\n",
       "    </tr>\n",
       "    <tr>\n",
       "      <th>-Loren-</th>\n",
       "      <td>NaN</td>\n",
       "      <td>NaN</td>\n",
       "      <td>NaN</td>\n",
       "      <td>NaN</td>\n",
       "      <td>NaN</td>\n",
       "      <td>NaN</td>\n",
       "      <td>NaN</td>\n",
       "      <td>NaN</td>\n",
       "      <td>NaN</td>\n",
       "      <td>NaN</td>\n",
       "      <td>...</td>\n",
       "      <td>NaN</td>\n",
       "      <td>NaN</td>\n",
       "      <td>NaN</td>\n",
       "      <td>NaN</td>\n",
       "      <td>NaN</td>\n",
       "      <td>NaN</td>\n",
       "      <td>NaN</td>\n",
       "      <td>NaN</td>\n",
       "      <td>NaN</td>\n",
       "      <td>NaN</td>\n",
       "    </tr>\n",
       "    <tr>\n",
       "      <th>-LucaS-</th>\n",
       "      <td>NaN</td>\n",
       "      <td>NaN</td>\n",
       "      <td>NaN</td>\n",
       "      <td>NaN</td>\n",
       "      <td>NaN</td>\n",
       "      <td>NaN</td>\n",
       "      <td>6.0</td>\n",
       "      <td>NaN</td>\n",
       "      <td>NaN</td>\n",
       "      <td>NaN</td>\n",
       "      <td>...</td>\n",
       "      <td>NaN</td>\n",
       "      <td>NaN</td>\n",
       "      <td>NaN</td>\n",
       "      <td>NaN</td>\n",
       "      <td>NaN</td>\n",
       "      <td>NaN</td>\n",
       "      <td>NaN</td>\n",
       "      <td>NaN</td>\n",
       "      <td>NaN</td>\n",
       "      <td>NaN</td>\n",
       "    </tr>\n",
       "  </tbody>\n",
       "</table>\n",
       "<p>5 rows × 1807 columns</p>\n",
       "</div>"
      ],
      "text/plain": [
       "gameid    1       3       5       7       9       10      11      12      \\\n",
       "username                                                                   \n",
       " mycroft     NaN     NaN     8.0     NaN     NaN     NaN     NaN     NaN   \n",
       "-=Yod@=-     NaN     NaN     NaN     7.5     NaN     NaN     7.0     NaN   \n",
       "-Johnny-     5.0     4.0     7.0     NaN     NaN     4.0     6.0     5.0   \n",
       "-Loren-      NaN     NaN     NaN     NaN     NaN     NaN     NaN     NaN   \n",
       "-LucaS-      NaN     NaN     NaN     NaN     NaN     NaN     6.0     NaN   \n",
       "\n",
       "gameid    13      14       ...    206718  206941  207336  207691  207830  \\\n",
       "username                   ...                                             \n",
       " mycroft     9.0     NaN   ...       NaN     NaN     NaN     NaN     NaN   \n",
       "-=Yod@=-     7.0     NaN   ...       NaN     NaN     NaN     NaN     NaN   \n",
       "-Johnny-     7.0     NaN   ...       NaN     NaN     NaN     NaN     NaN   \n",
       "-Loren-      NaN     NaN   ...       NaN     NaN     NaN     NaN     NaN   \n",
       "-LucaS-      NaN     NaN   ...       NaN     NaN     NaN     NaN     NaN   \n",
       "\n",
       "gameid    209010  209685  209778  213893  219513  \n",
       "username                                          \n",
       " mycroft     NaN     NaN     NaN     NaN     NaN  \n",
       "-=Yod@=-     NaN     NaN     NaN     NaN     NaN  \n",
       "-Johnny-     NaN     NaN     NaN     NaN     NaN  \n",
       "-Loren-      NaN     NaN     NaN     NaN     NaN  \n",
       "-LucaS-      NaN     NaN     NaN     NaN     NaN  \n",
       "\n",
       "[5 rows x 1807 columns]"
      ]
     },
     "execution_count": 103,
     "metadata": {},
     "output_type": "execute_result"
    }
   ],
   "source": [
    "ratings_pivot.head()"
   ]
  },
  {
   "cell_type": "code",
   "execution_count": 104,
   "metadata": {},
   "outputs": [
    {
     "data": {
      "text/plain": [
       "(120679, 1807)"
      ]
     },
     "execution_count": 104,
     "metadata": {},
     "output_type": "execute_result"
    }
   ],
   "source": [
    "ratings_pivot.shape"
   ]
  },
  {
   "cell_type": "markdown",
   "metadata": {},
   "source": [
    ">With the ratings matrix, we can see many NaNs in place where a user has not yet provided a rating for a particular game. Our job is to predict values for these empty slots in the matrix and provide recommendations to the user. Before we pickle and proceed on to modeling, lets take a look at the rating distribution of our users."
   ]
  },
  {
   "cell_type": "code",
   "execution_count": 33,
   "metadata": {
    "scrolled": true
   },
   "outputs": [],
   "source": [
    "user_ratings_mean = np.mean(ratings, axis=1)"
   ]
  },
  {
   "cell_type": "code",
   "execution_count": 35,
   "metadata": {},
   "outputs": [
    {
     "data": {
      "text/plain": [
       "7.398810764577983"
      ]
     },
     "execution_count": 35,
     "metadata": {},
     "output_type": "execute_result"
    }
   ],
   "source": [
    "overall_mean = np.mean(user_ratings_mean)\n",
    "overall_mean"
   ]
  },
  {
   "cell_type": "code",
   "execution_count": 38,
   "metadata": {},
   "outputs": [
    {
     "data": {
      "image/png": "[encoded data removed]",
      "text/plain": [
       "<matplotlib.figure.Figure at 0x10de2b990>"
      ]
     },
     "metadata": {
      "image/png": {
       "height": 493,
       "width": 735
      }
     },
     "output_type": "display_data"
    }
   ],
   "source": [
    "#Plot of average user rating\n",
    "plt.figure(figsize=(12,8))\n",
    "sns.distplot(user_ratings_mean, kde=False)\n",
    "sns.despine()\n",
    "plt.xlabel('Rating value')\n",
    "plt.ylabel('Frequency')\n",
    "plt.show()"
   ]
  },
  {
   "cell_type": "markdown",
   "metadata": {},
   "source": [
    ">The mean ratings of all our users follow a normal distribution suggesting that most users give an average rating between 7 and 8. The actual mean rating given is about 7.4. There are users that have mean ratings as high as 10 but very few with mean ratings less than 5. We will need to normalize their ratings in order to make comparisons in the next step"
   ]
  },
  {
   "cell_type": "code",
   "execution_count": 105,
   "metadata": {
    "collapsed": true
   },
   "outputs": [],
   "source": [
    "ratings_pivot.to_pickle('ratings_pickle')"
   ]
  },
  {
   "cell_type": "code",
   "execution_count": 106,
   "metadata": {
    "collapsed": true
   },
   "outputs": [],
   "source": [
    "rate10.to_pickle('rate10_pickle')"
   ]
  },
  {
   "cell_type": "markdown",
   "metadata": {},
   "source": [
    "# Appendix\n",
    "\n",
    ">In line with the project's bonus requirements, I will be outlining an update to the specific aims of this project, the methods and models I will be employing and any risks and assumptions I have identified.\n",
    "\n",
    "### Specific Aims\n",
    ">I would like to produce a web app where entering a username on Boardgamegeek.com will generate a list of recommendations as my end product.\n",
    "\n",
    "> I would also like to explore different models for providing recommendations and evaluating them on a list of methods as defined below.\n",
    "\n",
    "### Methods, Models, Evaluation\n",
    "\n",
    "> All modeling methods here will be related to collaborative filtering. The alternative would be content-based methods which I will not be exploring in this project\n",
    "\n",
    "\n",
    "##### Modeling techniques to consider\n",
    "_Neighborhood models_\n",
    "- Pearson Correlation\n",
    "- Cosine Similarity\n",
    "\n",
    "_Latent Factor models_\n",
    "\n",
    "- Singular Vector Decomposition\n",
    "- Weighted Alternating Least Squares (WALS) for matrix factorization\n",
    "- Matrix Factorization followed by Deep Neural Network\n",
    "\n",
    "##### Methods\n",
    "- Surprise module in python\n",
    "- Tensorflow\n",
    "- web2py for web app development\n",
    "\n",
    "\n",
    "### Risks and Assumptions\n",
    "\n",
    "##### Assumptions related to Recommender systems\n",
    "- A user's rating of an item, in our case, a game, is determined by a paired set of factors that reflect the characteristics intrinsic to that user and the characteristics intrinsic to that item\n",
    "- A user's tastes do not change over time\n",
    "- An item's characteristics do not change over time\n",
    "\n",
    "##### Assumptions related to this project\n",
    "- Have enough computing power to process data\n",
    "- Have enough time to complete all goals set\n",
    "\n",
    "##### Potential risks and mitigation\n",
    "\n",
    "Risks | Mitigation\n",
    ":---: | :---:\n",
    "Do not have enough computing power to process all the data | Explore Google cloud, AWS; Use less data\n",
    "Do not have enough time to finish project | Pace properly; Be less ambitious"
   ]
  },
  {
   "cell_type": "code",
   "execution_count": null,
   "metadata": {
    "collapsed": true
   },
   "outputs": [],
   "source": []
  }
 ],
 "metadata": {
  "anaconda-cloud": {},
  "kernelspec": {
   "display_name": "Python 2",
   "language": "python",
   "name": "python2"
  },
  "language_info": {
   "codemirror_mode": {
    "name": "ipython",
    "version": 2
   },
   "file_extension": ".py",
   "mimetype": "text/x-python",
   "name": "python",
   "nbconvert_exporter": "python",
   "pygments_lexer": "ipython2",
   "version": "2.7.9"
  }
 },
 "nbformat": 4,
 "nbformat_minor": 1
}
