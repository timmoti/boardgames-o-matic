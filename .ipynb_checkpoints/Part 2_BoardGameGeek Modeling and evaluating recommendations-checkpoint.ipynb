{
 "cells": [
  {
   "cell_type": "markdown",
   "metadata": {},
   "source": [
    "# Building a Boardgame Recommender System for BoardGameGeek users\n",
    "\n",
    "## Part 2: Modeling and evaluating recommendations\n",
    "*by Timothy Tan*\n",
    "\n",
    "---\n",
    ">In part 1, we extracted the games and ratings data via webscraping and api calls to the Boardgamegeek website. In this section, we will be attempting to put these ratings through various models in order to generate recommendations for users on the website.\n",
    "\n",
    ">To recap, we have 120,679 users and 1807 games forming a N x M matrix of 120,679 x 1807 with a total of 7.7 million ratings. I have only selected users that have rated at least 10 games or more. Our matrix sparsity is 3.54%.\n",
    "\n",
    ">I will be utilizing both neighbourhood and latent factor models from the collaborative filtering approach to predict ratings for each user on the games he/she has yet to rate. For the neighbourhood method, I will be employing the use of the cosine similarity function. Matrix factorization will be accomplished via the SVD method as well as a Non-negative matrix factorization method utilizing alternating least squares to minimize the loss function.\n",
    "\n",
    ">Offline evaluations will be conducted using RMSE and top 20 recommendations will be provided for individual users with at least 10 ratings. \n",
    "\n"
   ]
  },
  {
   "cell_type": "markdown",
   "metadata": {},
   "source": [
    "> The approach in general is as follows:\n",
    "1. Acquire train and test sets\n",
    "2. Normalize train set ratings\n",
    "3. Fit train set on model instance\n",
    "4. Make predictions on test set\n",
    "5. Determine RMSE\n",
    "6. Provide recommendations for specified user\n",
    "\n",
    "> There may be some exceptions like for instance we do not fit a model with cosine similarity but in general this is the approach we will be adopting for each method"
   ]
  },
  {
   "cell_type": "code",
   "execution_count": 1,
   "metadata": {
    "collapsed": true
   },
   "outputs": [],
   "source": [
    "import pandas as pd\n",
    "import numpy as np\n",
    "import matplotlib.pyplot as plt\n",
    "import seaborn as sns\n",
    "import pickle\n",
    "import sqlite3\n",
    "from scipy import sparse\n",
    "from sklearn.metrics import mean_squared_error\n",
    "\n",
    "%config InlineBackend.figure_format = 'retina'\n",
    "%matplotlib inline\n",
    "\n",
    "sns.set_style('white')"
   ]
  },
  {
   "cell_type": "markdown",
   "metadata": {},
   "source": [
    "## Getting the data in place through pickling and read.csv"
   ]
  },
  {
   "cell_type": "code",
   "execution_count": 2,
   "metadata": {
    "collapsed": true
   },
   "outputs": [],
   "source": [
    "df = pd.read_pickle('ratings_pickle')"
   ]
  },
  {
   "cell_type": "code",
   "execution_count": 39,
   "metadata": {},
   "outputs": [
    {
     "data": {
      "text/plain": [
       "(120679, 1807)"
      ]
     },
     "execution_count": 39,
     "metadata": {},
     "output_type": "execute_result"
    }
   ],
   "source": [
    "df.shape"
   ]
  },
  {
   "cell_type": "code",
   "execution_count": 40,
   "metadata": {
    "scrolled": true
   },
   "outputs": [
    {
     "data": {
      "text/html": [
       "<div>\n",
       "<style scoped>\n",
       "    .dataframe tbody tr th:only-of-type {\n",
       "        vertical-align: middle;\n",
       "    }\n",
       "\n",
       "    .dataframe tbody tr th {\n",
       "        vertical-align: top;\n",
       "    }\n",
       "\n",
       "    .dataframe thead th {\n",
       "        text-align: right;\n",
       "    }\n",
       "</style>\n",
       "<table border=\"1\" class=\"dataframe\">\n",
       "  <thead>\n",
       "    <tr style=\"text-align: right;\">\n",
       "      <th>gameid</th>\n",
       "      <th>1</th>\n",
       "      <th>3</th>\n",
       "      <th>5</th>\n",
       "      <th>7</th>\n",
       "      <th>9</th>\n",
       "      <th>10</th>\n",
       "      <th>11</th>\n",
       "      <th>12</th>\n",
       "      <th>13</th>\n",
       "      <th>14</th>\n",
       "      <th>...</th>\n",
       "      <th>206718</th>\n",
       "      <th>206941</th>\n",
       "      <th>207336</th>\n",
       "      <th>207691</th>\n",
       "      <th>207830</th>\n",
       "      <th>209010</th>\n",
       "      <th>209685</th>\n",
       "      <th>209778</th>\n",
       "      <th>213893</th>\n",
       "      <th>219513</th>\n",
       "    </tr>\n",
       "    <tr>\n",
       "      <th>username</th>\n",
       "      <th></th>\n",
       "      <th></th>\n",
       "      <th></th>\n",
       "      <th></th>\n",
       "      <th></th>\n",
       "      <th></th>\n",
       "      <th></th>\n",
       "      <th></th>\n",
       "      <th></th>\n",
       "      <th></th>\n",
       "      <th></th>\n",
       "      <th></th>\n",
       "      <th></th>\n",
       "      <th></th>\n",
       "      <th></th>\n",
       "      <th></th>\n",
       "      <th></th>\n",
       "      <th></th>\n",
       "      <th></th>\n",
       "      <th></th>\n",
       "      <th></th>\n",
       "    </tr>\n",
       "  </thead>\n",
       "  <tbody>\n",
       "    <tr>\n",
       "      <th>mycroft</th>\n",
       "      <td>NaN</td>\n",
       "      <td>NaN</td>\n",
       "      <td>8.0</td>\n",
       "      <td>NaN</td>\n",
       "      <td>NaN</td>\n",
       "      <td>NaN</td>\n",
       "      <td>NaN</td>\n",
       "      <td>NaN</td>\n",
       "      <td>9.0</td>\n",
       "      <td>NaN</td>\n",
       "      <td>...</td>\n",
       "      <td>NaN</td>\n",
       "      <td>NaN</td>\n",
       "      <td>NaN</td>\n",
       "      <td>NaN</td>\n",
       "      <td>NaN</td>\n",
       "      <td>NaN</td>\n",
       "      <td>NaN</td>\n",
       "      <td>NaN</td>\n",
       "      <td>NaN</td>\n",
       "      <td>NaN</td>\n",
       "    </tr>\n",
       "    <tr>\n",
       "      <th>-=Yod@=-</th>\n",
       "      <td>NaN</td>\n",
       "      <td>NaN</td>\n",
       "      <td>NaN</td>\n",
       "      <td>7.5</td>\n",
       "      <td>NaN</td>\n",
       "      <td>NaN</td>\n",
       "      <td>7.0</td>\n",
       "      <td>NaN</td>\n",
       "      <td>7.0</td>\n",
       "      <td>NaN</td>\n",
       "      <td>...</td>\n",
       "      <td>NaN</td>\n",
       "      <td>NaN</td>\n",
       "      <td>NaN</td>\n",
       "      <td>NaN</td>\n",
       "      <td>NaN</td>\n",
       "      <td>NaN</td>\n",
       "      <td>NaN</td>\n",
       "      <td>NaN</td>\n",
       "      <td>NaN</td>\n",
       "      <td>NaN</td>\n",
       "    </tr>\n",
       "    <tr>\n",
       "      <th>-Johnny-</th>\n",
       "      <td>5.0</td>\n",
       "      <td>4.0</td>\n",
       "      <td>7.0</td>\n",
       "      <td>NaN</td>\n",
       "      <td>NaN</td>\n",
       "      <td>4.0</td>\n",
       "      <td>6.0</td>\n",
       "      <td>5.0</td>\n",
       "      <td>7.0</td>\n",
       "      <td>NaN</td>\n",
       "      <td>...</td>\n",
       "      <td>NaN</td>\n",
       "      <td>NaN</td>\n",
       "      <td>NaN</td>\n",
       "      <td>NaN</td>\n",
       "      <td>NaN</td>\n",
       "      <td>NaN</td>\n",
       "      <td>NaN</td>\n",
       "      <td>NaN</td>\n",
       "      <td>NaN</td>\n",
       "      <td>NaN</td>\n",
       "    </tr>\n",
       "    <tr>\n",
       "      <th>-Loren-</th>\n",
       "      <td>NaN</td>\n",
       "      <td>NaN</td>\n",
       "      <td>NaN</td>\n",
       "      <td>NaN</td>\n",
       "      <td>NaN</td>\n",
       "      <td>NaN</td>\n",
       "      <td>NaN</td>\n",
       "      <td>NaN</td>\n",
       "      <td>NaN</td>\n",
       "      <td>NaN</td>\n",
       "      <td>...</td>\n",
       "      <td>NaN</td>\n",
       "      <td>NaN</td>\n",
       "      <td>NaN</td>\n",
       "      <td>NaN</td>\n",
       "      <td>NaN</td>\n",
       "      <td>NaN</td>\n",
       "      <td>NaN</td>\n",
       "      <td>NaN</td>\n",
       "      <td>NaN</td>\n",
       "      <td>NaN</td>\n",
       "    </tr>\n",
       "    <tr>\n",
       "      <th>-LucaS-</th>\n",
       "      <td>NaN</td>\n",
       "      <td>NaN</td>\n",
       "      <td>NaN</td>\n",
       "      <td>NaN</td>\n",
       "      <td>NaN</td>\n",
       "      <td>NaN</td>\n",
       "      <td>6.0</td>\n",
       "      <td>NaN</td>\n",
       "      <td>NaN</td>\n",
       "      <td>NaN</td>\n",
       "      <td>...</td>\n",
       "      <td>NaN</td>\n",
       "      <td>NaN</td>\n",
       "      <td>NaN</td>\n",
       "      <td>NaN</td>\n",
       "      <td>NaN</td>\n",
       "      <td>NaN</td>\n",
       "      <td>NaN</td>\n",
       "      <td>NaN</td>\n",
       "      <td>NaN</td>\n",
       "      <td>NaN</td>\n",
       "    </tr>\n",
       "  </tbody>\n",
       "</table>\n",
       "<p>5 rows × 1807 columns</p>\n",
       "</div>"
      ],
      "text/plain": [
       "gameid    1       3       5       7       9       10      11      12      \\\n",
       "username                                                                   \n",
       " mycroft     NaN     NaN     8.0     NaN     NaN     NaN     NaN     NaN   \n",
       "-=Yod@=-     NaN     NaN     NaN     7.5     NaN     NaN     7.0     NaN   \n",
       "-Johnny-     5.0     4.0     7.0     NaN     NaN     4.0     6.0     5.0   \n",
       "-Loren-      NaN     NaN     NaN     NaN     NaN     NaN     NaN     NaN   \n",
       "-LucaS-      NaN     NaN     NaN     NaN     NaN     NaN     6.0     NaN   \n",
       "\n",
       "gameid    13      14       ...    206718  206941  207336  207691  207830  \\\n",
       "username                   ...                                             \n",
       " mycroft     9.0     NaN   ...       NaN     NaN     NaN     NaN     NaN   \n",
       "-=Yod@=-     7.0     NaN   ...       NaN     NaN     NaN     NaN     NaN   \n",
       "-Johnny-     7.0     NaN   ...       NaN     NaN     NaN     NaN     NaN   \n",
       "-Loren-      NaN     NaN   ...       NaN     NaN     NaN     NaN     NaN   \n",
       "-LucaS-      NaN     NaN   ...       NaN     NaN     NaN     NaN     NaN   \n",
       "\n",
       "gameid    209010  209685  209778  213893  219513  \n",
       "username                                          \n",
       " mycroft     NaN     NaN     NaN     NaN     NaN  \n",
       "-=Yod@=-     NaN     NaN     NaN     NaN     NaN  \n",
       "-Johnny-     NaN     NaN     NaN     NaN     NaN  \n",
       "-Loren-      NaN     NaN     NaN     NaN     NaN  \n",
       "-LucaS-      NaN     NaN     NaN     NaN     NaN  \n",
       "\n",
       "[5 rows x 1807 columns]"
      ]
     },
     "execution_count": 40,
     "metadata": {},
     "output_type": "execute_result"
    }
   ],
   "source": [
    "df.head()"
   ]
  },
  {
   "cell_type": "code",
   "execution_count": 3,
   "metadata": {
    "collapsed": true
   },
   "outputs": [],
   "source": [
    "games = pd.read_csv('bgg_gamelist.csv')"
   ]
  },
  {
   "cell_type": "code",
   "execution_count": 213,
   "metadata": {},
   "outputs": [
    {
     "data": {
      "text/html": [
       "<div>\n",
       "<style scoped>\n",
       "    .dataframe tbody tr th:only-of-type {\n",
       "        vertical-align: middle;\n",
       "    }\n",
       "\n",
       "    .dataframe tbody tr th {\n",
       "        vertical-align: top;\n",
       "    }\n",
       "\n",
       "    .dataframe thead th {\n",
       "        text-align: right;\n",
       "    }\n",
       "</style>\n",
       "<table border=\"1\" class=\"dataframe\">\n",
       "  <thead>\n",
       "    <tr style=\"text-align: right;\">\n",
       "      <th></th>\n",
       "      <th>gameid</th>\n",
       "      <th>gamename</th>\n",
       "      <th>nratings</th>\n",
       "      <th>gamerank</th>\n",
       "    </tr>\n",
       "  </thead>\n",
       "  <tbody>\n",
       "    <tr>\n",
       "      <th>0</th>\n",
       "      <td>13</td>\n",
       "      <td>Catan</td>\n",
       "      <td>71279</td>\n",
       "      <td>251</td>\n",
       "    </tr>\n",
       "    <tr>\n",
       "      <th>1</th>\n",
       "      <td>822</td>\n",
       "      <td>Carcassonne</td>\n",
       "      <td>70895</td>\n",
       "      <td>130</td>\n",
       "    </tr>\n",
       "    <tr>\n",
       "      <th>2</th>\n",
       "      <td>30549</td>\n",
       "      <td>Pandemic</td>\n",
       "      <td>66881</td>\n",
       "      <td>64</td>\n",
       "    </tr>\n",
       "    <tr>\n",
       "      <th>3</th>\n",
       "      <td>36218</td>\n",
       "      <td>Dominion</td>\n",
       "      <td>58707</td>\n",
       "      <td>59</td>\n",
       "    </tr>\n",
       "    <tr>\n",
       "      <th>4</th>\n",
       "      <td>68448</td>\n",
       "      <td>7 Wonders</td>\n",
       "      <td>55341</td>\n",
       "      <td>37</td>\n",
       "    </tr>\n",
       "  </tbody>\n",
       "</table>\n",
       "</div>"
      ],
      "text/plain": [
       "   gameid     gamename  nratings  gamerank\n",
       "0      13        Catan     71279       251\n",
       "1     822  Carcassonne     70895       130\n",
       "2   30549     Pandemic     66881        64\n",
       "3   36218     Dominion     58707        59\n",
       "4   68448    7 Wonders     55341        37"
      ]
     },
     "execution_count": 213,
     "metadata": {},
     "output_type": "execute_result"
    }
   ],
   "source": [
    "games.head()"
   ]
  },
  {
   "cell_type": "markdown",
   "metadata": {},
   "source": [
    "## Creating the base class\n",
    "> The Recommender class contains methods for preprocessing the data before modeling. The class takes in a ratings dataframe and allows one to create a sparse representation of it, train-test split it, normalize the training set, calculate mean by users and overall mean as well as obtaining the RMSE score for model evaluation."
   ]
  },
  {
   "cell_type": "code",
   "execution_count": 4,
   "metadata": {
    "collapsed": true
   },
   "outputs": [],
   "source": [
    "class Recommender(object):\n",
    "    '''\n",
    "    A class for building a recommender model\n",
    "    \n",
    "    Params\n",
    "    ======\n",
    "    ratings : (Dataframe)\n",
    "        User x Item matrix with corresponding ratings\n",
    "        \n",
    "    '''\n",
    "    \n",
    "    def __init__(self, ratings):\n",
    "        self.ratings = ratings\n",
    "    \n",
    "    def create_sparse(self, ratings):\n",
    "        '''\n",
    "        Creates sparse matrices by filling NaNs\n",
    "        with zeros first\n",
    "        '''\n",
    "        ratings_sparse = sparse.csr_matrix(ratings.fillna(0))\n",
    "        return ratings_sparse\n",
    "        \n",
    "    def train_test_split(self, ratings_sparse, test_size='default', train_size=None, random_state=None):\n",
    "        '''\n",
    "        Splits ratings data into train and test sets. \n",
    "        This implementation ensures that each test set\n",
    "        will have at least one rating from each user.\n",
    "        \n",
    "        Params\n",
    "        ======\n",
    "        ratings_sparse : (Sparse matrix)\n",
    "            A sparse representation of the original matrix\n",
    "        \n",
    "        test_size : (int)\n",
    "            An integer indicating number of random ratings \n",
    "            from each user to be allocated to the test set\n",
    "        \n",
    "        train_size : (int)\n",
    "            An integer indicating number of random ratings\n",
    "            from each user to be allocated to the train set\n",
    "            \n",
    "        random_state : (int)\n",
    "            Random seed for reproducibility\n",
    "        '''\n",
    "        r = np.random.RandomState(random_state)\n",
    "        \n",
    "        if test_size == 'default':\n",
    "            test_size = None\n",
    "        if test_size is None and train_size is None:\n",
    "            test_size = 1\n",
    "        if test_size == float or train_size == float:\n",
    "            raise ValueError('test_size or train_size must be a positive integer')\n",
    "        if train_size is not None: \n",
    "            test_size = None\n",
    "        \n",
    "        if test_size is not None:\n",
    "            train_set = self.ratings.copy().as_matrix()\n",
    "            test_set = np.full(self.ratings.shape, np.nan)\n",
    "\n",
    "            for idx, row in enumerate(ratings_sparse):\n",
    "                #Get column ids based on random choice of available games in current user\n",
    "                test_indices = r.choice(row.indices, test_size, replace=False)\n",
    "                test_data = []\n",
    "                for val in test_indices:\n",
    "                    index = list(row.indices).index(val)\n",
    "                    test_data.append(row.data[index])\n",
    "                train_set[idx, test_indices] = np.nan\n",
    "                test_set[idx, test_indices] = test_data\n",
    "            train_set = pd.DataFrame(train_set, index=self.ratings.index, columns=self.ratings.columns)\n",
    "            test_set = pd.DataFrame(test_set, index=self.ratings.index, columns=self.ratings.columns)\n",
    "                \n",
    "        else:\n",
    "            test_set = self.ratings.as_matrix()\n",
    "            train_set = np.full(self.ratings.shape, np.nan)\n",
    "            \n",
    "            for idx, row in enumerate(ratings_sparse):\n",
    "                train_indices = r.choice(row.indices, train_size, replace=False)\n",
    "                train_data = []\n",
    "                for val in train_indices:\n",
    "                    index = list(row.indices).index(val)\n",
    "                    train_data.append(row.data[index])\n",
    "                test_set[idx, train_indices] = np.nan\n",
    "                train_set[idx, train_indices] = train_data\n",
    "            train_set = pd.DataFrame(train_set, index=self.ratings.index, columns=self.ratings.columns)\n",
    "            test_set = pd.DataFrame(test_set, index=self.ratings.index, columns=self.ratings.columns)\n",
    "        \n",
    "        assert self.ratings.notnull().sum().sum() == train_set.notnull().sum().sum() + test_set.notnull().sum().sum()\n",
    "    \n",
    "        return train_set, test_set\n",
    "        \n",
    "    \n",
    "    def normalize(self, ratings_sparse):\n",
    "        '''Normalizes each user by their mean. Accepts a sparse array'''\n",
    "        ratings = np.zeros_like(self.ratings)\n",
    "        for idx, i in enumerate(ratings_sparse):\n",
    "            ratings[idx, i.indices] = i.data-i.data.mean()    \n",
    "        return ratings\n",
    "    \n",
    "    def get_user_mean(self):\n",
    "        '''Calculate mean rating values for each user'''\n",
    "        mean = np.mean(self.ratings, axis=1)\n",
    "        return mean\n",
    "    \n",
    "    def get_overall_mean(self, mean):\n",
    "        '''\n",
    "        Outputs mean of entire dataframe\n",
    "        \n",
    "        Params\n",
    "        ======\n",
    "        \n",
    "        mean : (pd.Series or nd_array)\n",
    "            Vector of user means across their ratings\n",
    "        '''\n",
    "        mean_all = np.mean(mean)\n",
    "        return mean_all\n",
    "    \n",
    "    def get_baseline_rmse(self, test, mean_all):\n",
    "        '''\n",
    "        Ouputs the baseline rmse by comparing test \n",
    "        set ratings with the mean rating for each user\n",
    "        \n",
    "        Params\n",
    "        ======\n",
    "        \n",
    "        test : (nd_array)\n",
    "            Numpy array of test results\n",
    "            \n",
    "        test_sparse : (Sparse matrix)\n",
    "            Sparse representation of test matrix\n",
    "        \n",
    "        mean_all : (float)\n",
    "            Value of mean of entire ratings matrix\n",
    "        '''\n",
    "        actual = test[test.nonzero()].flatten()\n",
    "        preds = [mean_all for val in test[test.nonzero()].flatten()]\n",
    "        prediction = preds\n",
    "        return np.sqrt(mean_squared_error(actual, prediction))\n",
    "    \n",
    "    def get_rmse(self, test, prediction):\n",
    "        '''\n",
    "        Returns the rmse score from a prediction result\n",
    "        \n",
    "        Params\n",
    "        ======\n",
    "        \n",
    "        test : (nd_array\n",
    "            Numpy array of test results\n",
    "            \n",
    "        prediction (nd_array)\n",
    "            Predicted scores after training through model\n",
    "        '''\n",
    "        actual = test[test.nonzero()].flatten()\n",
    "        prediction = prediction[prediction.nonzero()].flatten()\n",
    "        return np.sqrt(mean_squared_error(actual, prediction))\n"
   ]
  },
  {
   "cell_type": "markdown",
   "metadata": {},
   "source": [
    "## Neighbourhood method - Cosine similarity recommender\n",
    "> Our first method to determine recommendations is by calculating the similarity between users and items. I have decided to employ the cosine similarity function owing to its favourable representation in the recommender systems community.\n",
    "\n",
    "> A similarity matrix is first obtained between each item pair or user pair. A prediction function is then used to predict ratings for results held out in the test set in order to compare the accuracy through the RMSE loss function.\n",
    "\n",
    "> In this case, we will only be utilizing item-item similarities as our neighborhood method of choice due to less intensive computation required.\n",
    "\n",
    "> A child class was built off the Recommender class so as to be able to utilize some of its functions like calculating RMSE which will be used for all our models."
   ]
  },
  {
   "cell_type": "code",
   "execution_count": 5,
   "metadata": {
    "collapsed": true
   },
   "outputs": [],
   "source": [
    "from sklearn.metrics.pairwise import cosine_similarity \n",
    "\n",
    "class CosineSim(Recommender):\n",
    "    '''\n",
    "    A Recommender class that uses the cosine similarity \n",
    "    function to recommend games\n",
    "    \n",
    "    Params\n",
    "    ======\n",
    "    ratings : (Dataframe)\n",
    "        Ratings matrix\n",
    "    '''\n",
    "    def __init__(self, ratings):\n",
    "        self.ratings = ratings\n",
    "    \n",
    "    def find_similarity(self, ratings_sparse, kind='item'):\n",
    "        '''\n",
    "        Finds the cosine similarity in either \n",
    "        item-item or user-user configurations\n",
    "        of a sparse matrix\n",
    "        \n",
    "        Params\n",
    "        ======\n",
    "        ratings_sparse : (Sparse matrix)\n",
    "            Sparse representation of ratings matrix\n",
    "        \n",
    "        kind : (string)\n",
    "            Default is item for item-item similarity. \n",
    "            Other option is user for user-user similarity\n",
    "        '''\n",
    "        if kind == 'item':\n",
    "            similarities = cosine_similarity(ratings_sparse.T)\n",
    "        elif kind == 'user':\n",
    "            similarities = cosine_similarity(ratings_sparse)\n",
    "        return similarities\n",
    "    \n",
    "    def predict_for_test(self, train, test_sparse, similarity, kind='item'):\n",
    "        '''\n",
    "        Predicts the scores for games in test set\n",
    "        \n",
    "        Params\n",
    "        ======\n",
    "        train : (Dataframe)\n",
    "            Dataframe of training set\n",
    "            \n",
    "        test_sparse : (Sparse matrix)\n",
    "            Sparse representation of test set\n",
    "            \n",
    "        similarity : (nd_array)\n",
    "            Similarity matrix of user-user or item-item pairs\n",
    "            \n",
    "        kind : (string)\n",
    "            Default is 'item' for item-item predictions.\n",
    "            Alternative is 'user' for user-user predictions\n",
    "            \n",
    "        '''\n",
    "        prediction = np.zeros_like(train)\n",
    "\n",
    "        if kind == 'item':\n",
    "            train = train.fillna(0).as_matrix()\n",
    "            for row, val in enumerate(test_sparse):\n",
    "                for col in val.indices:\n",
    "                    sim = similarity[col]\n",
    "                    rated = train[row].nonzero()\n",
    "                    prediction[row, col] = np.sum(sim[rated]*train[row][rated])/np.sum(np.abs(sim[rated]))\n",
    "\n",
    "        elif kind == 'user':\n",
    "            mean  = train.apply(np.mean, axis=1)\n",
    "            std = train.apply(np.std, axis=1)\n",
    "\n",
    "            for row, val in enumerate(test_sparse):\n",
    "                avg_rating = mean.iloc[row]\n",
    "                sim = similarity[row]\n",
    "                ind_std = std.iloc[row]\n",
    "\n",
    "                for col in val.indices:\n",
    "                    prediction[row, col] = avg_rating + np.sum(sim*train.iloc[:, col])/np.sum(np.abs(sim))\n",
    "\n",
    "        return prediction    \n",
    "        \n",
    "    def recommend(self, user, similarity, games, kind='item'):\n",
    "        '''\n",
    "        Recommends list of games to specified user\n",
    "        \n",
    "        Params\n",
    "        ======\n",
    "        user : (string)\n",
    "            username with at least 10 ratings in database\n",
    "            \n",
    "        similarity : (nd_array)\n",
    "            Similarity matrix of user-user or item-item pairs\n",
    "            \n",
    "        games : (Dataframe)\n",
    "            Dataframe of game list\n",
    "        \n",
    "        kind : ('string)\n",
    "            Default is 'item' for item-item predictions.\n",
    "            Alternative is 'user' for user-user predictions\n",
    "        '''\n",
    "        preds = np.zeros_like(self.ratings.loc[user])\n",
    "\n",
    "        if kind == 'item':\n",
    "            ratings_array = self.ratings.fillna(0).as_matrix()\n",
    "            person = ratings_array[self.ratings.index.get_loc(user)]\n",
    "            rated = person.nonzero()[0]\n",
    "            for idx in range(ratings_array.shape[1]):\n",
    "                if idx not in rated:\n",
    "                    sim = similarity[idx]\n",
    "                    preds[idx] = np.sum(sim[rated]*person[rated])/np.sum(np.abs(sim[rated]))\n",
    "\n",
    "        elif kind == 'user':\n",
    "\n",
    "            rated = self.ratings.loc[user].dropna().index\n",
    "            std = np.std(self.ratings.loc[user])\n",
    "            mean  = np.mean(self.ratings.loc[user])\n",
    "            sim = similarity[self.ratings.index.get_loc(user)]\n",
    "\n",
    "            for idx, col in enumerate(ratings.columns):\n",
    "                if col not in rated:\n",
    "                    preds[idx] = mean + np.sum((sim*ratings[col]))/np.sum(np.abs(sim))\n",
    "\n",
    "        predictions = pd.Series(preds, index=self.ratings.columns, name='predictions')\n",
    "        recommendations = games.join(predictions, on='gameid')\n",
    "        return recommendations.sort_values('predictions', ascending=False)"
   ]
  },
  {
   "cell_type": "code",
   "execution_count": 5,
   "metadata": {
    "collapsed": true
   },
   "outputs": [],
   "source": [
    "#Creating an instance of the Recommnder class\n",
    "rec = Recommender(df)"
   ]
  },
  {
   "cell_type": "code",
   "execution_count": 6,
   "metadata": {
    "collapsed": true
   },
   "outputs": [],
   "source": [
    "#Creating a sparse matrix of the full data\n",
    "df_sparse = rec.create_sparse(df)"
   ]
  },
  {
   "cell_type": "code",
   "execution_count": 7,
   "metadata": {},
   "outputs": [
    {
     "name": "stdout",
     "output_type": "stream",
     "text": [
      "CPU times: user 43.2 s, sys: 7.55 s, total: 50.8 s\n",
      "Wall time: 53.8 s\n"
     ]
    }
   ],
   "source": [
    "#Performing train-test split \n",
    "%time train, test = rec.train_test_split(df_sparse, test_size=2, random_state=123)"
   ]
  },
  {
   "cell_type": "code",
   "execution_count": 8,
   "metadata": {
    "collapsed": true
   },
   "outputs": [],
   "source": [
    "#Create sparse matrix for training set\n",
    "train_sparse = rec.create_sparse(train)"
   ]
  },
  {
   "cell_type": "code",
   "execution_count": 9,
   "metadata": {
    "collapsed": true
   },
   "outputs": [],
   "source": [
    "#Create sparse matrix for test set\n",
    "test_sparse = rec.create_sparse(test)"
   ]
  },
  {
   "cell_type": "markdown",
   "metadata": {},
   "source": [
    "### Similarity matrix formation"
   ]
  },
  {
   "cell_type": "code",
   "execution_count": 11,
   "metadata": {
    "collapsed": true
   },
   "outputs": [],
   "source": [
    "#Create an instance of the Cosine Similarity Recommender class\n",
    "cossim = CosineSim(df)"
   ]
  },
  {
   "cell_type": "markdown",
   "metadata": {},
   "source": [
    "> The first thing we should normally do is normalize the training set to account for variances in how users rate the games. We do not normalize the training set here as the cosine similarity function from sklearn already does it for us."
   ]
  },
  {
   "cell_type": "code",
   "execution_count": 12,
   "metadata": {},
   "outputs": [
    {
     "name": "stdout",
     "output_type": "stream",
     "text": [
      "CPU times: user 5.83 s, sys: 357 ms, total: 6.19 s\n",
      "Wall time: 6.3 s\n"
     ]
    }
   ],
   "source": [
    "#Acquiring item-item similarity matrix\n",
    "%time item_sims = cossim.find_similarity(train_sparse)"
   ]
  },
  {
   "cell_type": "markdown",
   "metadata": {},
   "source": [
    "### Predicting scores for test set"
   ]
  },
  {
   "cell_type": "code",
   "execution_count": 18,
   "metadata": {
    "scrolled": true
   },
   "outputs": [
    {
     "name": "stdout",
     "output_type": "stream",
     "text": [
      "CPU times: user 36 s, sys: 5.92 s, total: 41.9 s\n",
      "Wall time: 43.5 s\n"
     ]
    }
   ],
   "source": [
    "#Predicting the scores for test set\n",
    "%time item_preds = cossim.predict_for_test(train, test_sparse, item_sims)"
   ]
  },
  {
   "cell_type": "markdown",
   "metadata": {},
   "source": [
    "### Evaluation with RMSE"
   ]
  },
  {
   "cell_type": "code",
   "execution_count": 10,
   "metadata": {
    "collapsed": true
   },
   "outputs": [],
   "source": [
    "#Converting test set to an array\n",
    "y = test.fillna(0).values"
   ]
  },
  {
   "cell_type": "code",
   "execution_count": 11,
   "metadata": {
    "collapsed": true
   },
   "outputs": [],
   "source": [
    "#Getting user means\n",
    "mean = rec.get_user_mean()"
   ]
  },
  {
   "cell_type": "code",
   "execution_count": 22,
   "metadata": {},
   "outputs": [
    {
     "data": {
      "text/plain": [
       "7.398810764577983"
      ]
     },
     "execution_count": 22,
     "metadata": {},
     "output_type": "execute_result"
    }
   ],
   "source": [
    "#Calculating overall mean\n",
    "overall_mean = rec.get_overall_mean(mean)\n",
    "overall_mean"
   ]
  },
  {
   "cell_type": "code",
   "execution_count": 23,
   "metadata": {},
   "outputs": [
    {
     "data": {
      "text/plain": [
       "1.4869803145678728"
      ]
     },
     "execution_count": 23,
     "metadata": {},
     "output_type": "execute_result"
    }
   ],
   "source": [
    "#Computing baseline error\n",
    "baseline_error = rec.get_baseline_rmse(y, overall_mean)\n",
    "baseline_error"
   ]
  },
  {
   "cell_type": "markdown",
   "metadata": {},
   "source": [
    "> Our baseline error is calculated based on imputing all values in the test set with the mean of the overall dataset of 7.3988. "
   ]
  },
  {
   "cell_type": "code",
   "execution_count": 24,
   "metadata": {},
   "outputs": [
    {
     "data": {
      "text/plain": [
       "1.3339479358142938"
      ]
     },
     "execution_count": 24,
     "metadata": {},
     "output_type": "execute_result"
    }
   ],
   "source": [
    "#Calculating the error\n",
    "error_cos = cossim.get_rmse(y, item_preds)\n",
    "error_cos"
   ]
  },
  {
   "cell_type": "markdown",
   "metadata": {},
   "source": [
    "> We can observe a decrease in the RMSE score of about 10% from baseline. This was calculated based on utilizing similarity scores of all item-item pairs. "
   ]
  },
  {
   "cell_type": "markdown",
   "metadata": {},
   "source": [
    "### Performing recommendations\n",
    "\n",
    "> We will be performing recommendations for myself as I am an active user of the site and have rated quite a number of games (226 to be exact). We calculate the similarity matrix again, this time utilizing the entire dataset before making the predictions and provide recommendations for specific users"
   ]
  },
  {
   "cell_type": "code",
   "execution_count": 13,
   "metadata": {},
   "outputs": [
    {
     "name": "stdout",
     "output_type": "stream",
     "text": [
      "CPU times: user 5.9 s, sys: 343 ms, total: 6.24 s\n",
      "Wall time: 6.4 s\n"
     ]
    }
   ],
   "source": [
    "#Calculate item-item similarity matrix of entire ratings data\n",
    "%time all_sims = cossim.find_similarity(df_sparse)"
   ]
  },
  {
   "cell_type": "code",
   "execution_count": 14,
   "metadata": {
    "collapsed": true
   },
   "outputs": [],
   "source": [
    "pd.to_pickle(all_sims, 'cos_ii_sims_all_pickle')"
   ]
  },
  {
   "cell_type": "code",
   "execution_count": 16,
   "metadata": {},
   "outputs": [
    {
     "name": "stdout",
     "output_type": "stream",
     "text": [
      "CPU times: user 10.5 s, sys: 7.27 s, total: 17.7 s\n",
      "Wall time: 22.6 s\n"
     ]
    }
   ],
   "source": [
    "#Perform recommendation for a specific user\n",
    "%time me_cos = cossim.recommend('Hilaryg', all_sims, games)"
   ]
  },
  {
   "cell_type": "code",
   "execution_count": 17,
   "metadata": {
    "scrolled": true
   },
   "outputs": [
    {
     "data": {
      "text/html": [
       "<div>\n",
       "<style scoped>\n",
       "    .dataframe tbody tr th:only-of-type {\n",
       "        vertical-align: middle;\n",
       "    }\n",
       "\n",
       "    .dataframe tbody tr th {\n",
       "        vertical-align: top;\n",
       "    }\n",
       "\n",
       "    .dataframe thead th {\n",
       "        text-align: right;\n",
       "    }\n",
       "</style>\n",
       "<table border=\"1\" class=\"dataframe\">\n",
       "  <thead>\n",
       "    <tr style=\"text-align: right;\">\n",
       "      <th></th>\n",
       "      <th>gameid</th>\n",
       "      <th>gamename</th>\n",
       "      <th>nratings</th>\n",
       "      <th>gamerank</th>\n",
       "      <th>predictions</th>\n",
       "    </tr>\n",
       "  </thead>\n",
       "  <tbody>\n",
       "    <tr>\n",
       "      <th>660</th>\n",
       "      <td>193037</td>\n",
       "      <td>Dead of Winter: The Long Night</td>\n",
       "      <td>3068</td>\n",
       "      <td>141</td>\n",
       "      <td>7.259520</td>\n",
       "    </tr>\n",
       "    <tr>\n",
       "      <th>1551</th>\n",
       "      <td>197831</td>\n",
       "      <td>Dark Souls: The Board Game</td>\n",
       "      <td>1181</td>\n",
       "      <td>1594</td>\n",
       "      <td>7.244522</td>\n",
       "    </tr>\n",
       "    <tr>\n",
       "      <th>478</th>\n",
       "      <td>175155</td>\n",
       "      <td>Forbidden Stars</td>\n",
       "      <td>4349</td>\n",
       "      <td>79</td>\n",
       "      <td>7.243415</td>\n",
       "    </tr>\n",
       "    <tr>\n",
       "      <th>78</th>\n",
       "      <td>170216</td>\n",
       "      <td>Blood Rage</td>\n",
       "      <td>16362</td>\n",
       "      <td>17</td>\n",
       "      <td>7.239952</td>\n",
       "    </tr>\n",
       "    <tr>\n",
       "      <th>245</th>\n",
       "      <td>205637</td>\n",
       "      <td>Arkham Horror: The Card Game</td>\n",
       "      <td>7676</td>\n",
       "      <td>19</td>\n",
       "      <td>7.235248</td>\n",
       "    </tr>\n",
       "    <tr>\n",
       "      <th>221</th>\n",
       "      <td>205059</td>\n",
       "      <td>Mansions of Madness: Second Edition</td>\n",
       "      <td>8527</td>\n",
       "      <td>20</td>\n",
       "      <td>7.234508</td>\n",
       "    </tr>\n",
       "    <tr>\n",
       "      <th>371</th>\n",
       "      <td>181279</td>\n",
       "      <td>Fury of Dracula (third edition)</td>\n",
       "      <td>5512</td>\n",
       "      <td>146</td>\n",
       "      <td>7.233652</td>\n",
       "    </tr>\n",
       "    <tr>\n",
       "      <th>1103</th>\n",
       "      <td>172047</td>\n",
       "      <td>The Others</td>\n",
       "      <td>1760</td>\n",
       "      <td>565</td>\n",
       "      <td>7.232802</td>\n",
       "    </tr>\n",
       "    <tr>\n",
       "      <th>1408</th>\n",
       "      <td>181524</td>\n",
       "      <td>Masmorra: Dungeons of Arcadia</td>\n",
       "      <td>1326</td>\n",
       "      <td>965</td>\n",
       "      <td>7.232654</td>\n",
       "    </tr>\n",
       "    <tr>\n",
       "      <th>341</th>\n",
       "      <td>176189</td>\n",
       "      <td>Zombicide: Black Plague</td>\n",
       "      <td>5965</td>\n",
       "      <td>100</td>\n",
       "      <td>7.228349</td>\n",
       "    </tr>\n",
       "    <tr>\n",
       "      <th>294</th>\n",
       "      <td>209010</td>\n",
       "      <td>Mechs vs. Minions</td>\n",
       "      <td>6739</td>\n",
       "      <td>22</td>\n",
       "      <td>7.223497</td>\n",
       "    </tr>\n",
       "    <tr>\n",
       "      <th>632</th>\n",
       "      <td>192457</td>\n",
       "      <td>Cry Havoc</td>\n",
       "      <td>3289</td>\n",
       "      <td>316</td>\n",
       "      <td>7.222306</td>\n",
       "    </tr>\n",
       "    <tr>\n",
       "      <th>1193</th>\n",
       "      <td>174570</td>\n",
       "      <td>Legendary Encounters: A Predator Deck Building...</td>\n",
       "      <td>1596</td>\n",
       "      <td>523</td>\n",
       "      <td>7.220167</td>\n",
       "    </tr>\n",
       "    <tr>\n",
       "      <th>543</th>\n",
       "      <td>155624</td>\n",
       "      <td>Specter Ops</td>\n",
       "      <td>3848</td>\n",
       "      <td>346</td>\n",
       "      <td>7.220070</td>\n",
       "    </tr>\n",
       "    <tr>\n",
       "      <th>428</th>\n",
       "      <td>174430</td>\n",
       "      <td>Gloomhaven</td>\n",
       "      <td>4768</td>\n",
       "      <td>4</td>\n",
       "      <td>7.219609</td>\n",
       "    </tr>\n",
       "    <tr>\n",
       "      <th>916</th>\n",
       "      <td>159109</td>\n",
       "      <td>XenoShyft: Onslaught</td>\n",
       "      <td>2192</td>\n",
       "      <td>732</td>\n",
       "      <td>7.219279</td>\n",
       "    </tr>\n",
       "    <tr>\n",
       "      <th>921</th>\n",
       "      <td>55690</td>\n",
       "      <td>Kingdom Death: Monster</td>\n",
       "      <td>2180</td>\n",
       "      <td>156</td>\n",
       "      <td>7.214603</td>\n",
       "    </tr>\n",
       "    <tr>\n",
       "      <th>249</th>\n",
       "      <td>183394</td>\n",
       "      <td>Viticulture Essential Edition</td>\n",
       "      <td>7460</td>\n",
       "      <td>27</td>\n",
       "      <td>7.213979</td>\n",
       "    </tr>\n",
       "    <tr>\n",
       "      <th>413</th>\n",
       "      <td>176920</td>\n",
       "      <td>Mission: Red Planet (Second Edition)</td>\n",
       "      <td>4939</td>\n",
       "      <td>170</td>\n",
       "      <td>7.212758</td>\n",
       "    </tr>\n",
       "    <tr>\n",
       "      <th>129</th>\n",
       "      <td>146508</td>\n",
       "      <td>T.I.M.E Stories</td>\n",
       "      <td>12468</td>\n",
       "      <td>35</td>\n",
       "      <td>7.211394</td>\n",
       "    </tr>\n",
       "  </tbody>\n",
       "</table>\n",
       "</div>"
      ],
      "text/plain": [
       "      gameid                                           gamename  nratings  \\\n",
       "660   193037                     Dead of Winter: The Long Night      3068   \n",
       "1551  197831                         Dark Souls: The Board Game      1181   \n",
       "478   175155                                    Forbidden Stars      4349   \n",
       "78    170216                                         Blood Rage     16362   \n",
       "245   205637                       Arkham Horror: The Card Game      7676   \n",
       "221   205059                Mansions of Madness: Second Edition      8527   \n",
       "371   181279                    Fury of Dracula (third edition)      5512   \n",
       "1103  172047                                         The Others      1760   \n",
       "1408  181524                      Masmorra: Dungeons of Arcadia      1326   \n",
       "341   176189                            Zombicide: Black Plague      5965   \n",
       "294   209010                                  Mechs vs. Minions      6739   \n",
       "632   192457                                          Cry Havoc      3289   \n",
       "1193  174570  Legendary Encounters: A Predator Deck Building...      1596   \n",
       "543   155624                                        Specter Ops      3848   \n",
       "428   174430                                         Gloomhaven      4768   \n",
       "916   159109                               XenoShyft: Onslaught      2192   \n",
       "921    55690                             Kingdom Death: Monster      2180   \n",
       "249   183394                      Viticulture Essential Edition      7460   \n",
       "413   176920               Mission: Red Planet (Second Edition)      4939   \n",
       "129   146508                                    T.I.M.E Stories     12468   \n",
       "\n",
       "      gamerank  predictions  \n",
       "660        141     7.259520  \n",
       "1551      1594     7.244522  \n",
       "478         79     7.243415  \n",
       "78          17     7.239952  \n",
       "245         19     7.235248  \n",
       "221         20     7.234508  \n",
       "371        146     7.233652  \n",
       "1103       565     7.232802  \n",
       "1408       965     7.232654  \n",
       "341        100     7.228349  \n",
       "294         22     7.223497  \n",
       "632        316     7.222306  \n",
       "1193       523     7.220167  \n",
       "543        346     7.220070  \n",
       "428          4     7.219609  \n",
       "916        732     7.219279  \n",
       "921        156     7.214603  \n",
       "249         27     7.213979  \n",
       "413        170     7.212758  \n",
       "129         35     7.211394  "
      ]
     },
     "execution_count": 17,
     "metadata": {},
     "output_type": "execute_result"
    }
   ],
   "source": [
    "#Observe top 20 recommendations\n",
    "me_cos.head(20)"
   ]
  },
  {
   "cell_type": "markdown",
   "metadata": {},
   "source": [
    "> This list of games is quite an interesting one. I own one of the games (Cry Havoc) and have yet to play it but purchased it after performing intensive research. Several of the games like Dead of Winter, Viticulture and Scythe are in my wishlist. There are some games that I have looked at but have no interest in trying like Cash n Guns and Forbidden Stars. Most of the other games I am aware of but have not done deeper research and suggests that I should do so based on its recommendation.\n",
    "\n",
    "> One thing interesting about this list is the range of games it provides. It does not include solely the top games as determined by the game rank but has a good mix from the top 600. In fact, Monikers, ranked 557, is one I have never heard of till now."
   ]
  },
  {
   "cell_type": "code",
   "execution_count": 131,
   "metadata": {},
   "outputs": [
    {
     "data": {
      "image/png": "[encoded data removed]",
      "text/plain": [
       "<matplotlib.figure.Figure at 0x10fccb310>"
      ]
     },
     "metadata": {
      "image/png": {
       "height": 381,
       "width": 788
      }
     },
     "output_type": "display_data"
    }
   ],
   "source": [
    "fig, ax = plt.subplots(1,2, figsize=(13,6))\n",
    "sns.distplot(me_cos.head(20)['nratings'], ax=ax[0])\n",
    "sns.distplot(me_cos.head(20)['gamerank'], ax=ax[1])\n",
    "plt.show()"
   ]
  },
  {
   "cell_type": "markdown",
   "metadata": {},
   "source": [
    "> Most of the games in this top 20 list have less than 5000 ratings which seems to suggest a rather good spread of game popularity in its recommendation. For reference, the maximum number of ratings for a game in our dataset is 70,000 and the least is 975. \n",
    "\n",
    ">The majority of the games recommended also lies between 1-200 in gamerank which suggests that the recommender is recommending me games that have a high approval rate with the user population. The spread is not too bad hitting games that rank in the 500s. This is more diverse than some lists recommended further down as we shall soon see. For reference, the top ranked game in our database is 1 while the least is 14344"
   ]
  },
  {
   "cell_type": "markdown",
   "metadata": {},
   "source": [
    "## Latent Factor method - matrix factorization with SVD\n",
    "> The latent factor method decomposes the sparse ratings matrix into a set of latent vectors for both users and items. These are low rank approximations of the original matrix and helps to address the issue of sparsity that is characteristic of any form of explicit rating data. \n",
    "\n",
    "> It should be understood that the latent space that is created by mapping both user and items onto is made up of item and user dimensions, some of which are explainable like theme and mechanics of the game to unexplainable concepts. Each user and item can be explained by some combination of these factors and therefore predictions of a user's preference for an item can be made through a simple dot product of the user's latent vector by the transpose of that item's corresponding latent vector.\n",
    "\n",
    "> We explore this concept with the Singular Value Decomposition of the ratings matrix first. We build a child class from our base Recommender class to represent the SVD model "
   ]
  },
  {
   "cell_type": "code",
   "execution_count": 12,
   "metadata": {
    "collapsed": true
   },
   "outputs": [],
   "source": [
    "from scipy.sparse.linalg import svds\n",
    "class SVD(Recommender):\n",
    "    '''\n",
    "    A model for getting game recommendations by \n",
    "    calculating singular values through matrix\n",
    "    decomposition into its latent factors\n",
    "    \n",
    "    Params\n",
    "    ======\n",
    "    ratings : (nd_array)\n",
    "        Normalized ratings array\n",
    "    '''\n",
    "    def __init__(self, normed_ratings):\n",
    "        self.normed_ratings = normed_ratings\n",
    "        \n",
    "    def train(self, k=50):\n",
    "        '''\n",
    "        Trains SVD model on ratings\n",
    "        \n",
    "        Params\n",
    "        ======\n",
    "        k : (int)\n",
    "            Specifies number of latent factors to decompose into\n",
    "        '''\n",
    "        U, sigma, Vt = svds(self.normed_ratings, k)\n",
    "        sigma = np.diag(sigma)\n",
    "        return U, sigma, Vt\n",
    "    \n",
    "    def predict(self, U, sigma, Vt, test, mean):\n",
    "        '''\n",
    "        Outputs predictions for entire ratings matrix as well\n",
    "        as for test set.\n",
    "        \n",
    "        Params\n",
    "        ======\n",
    "        test : (Dataframe)\n",
    "            Test set pandas dataframe\n",
    "        \n",
    "        mean : (pd.Series)\n",
    "            Vector of user means\n",
    "        '''\n",
    "        all_predictions = np.dot(np.dot(U, sigma), Vt) + mean.reshape(-1, 1)\n",
    "        test_predictions = all_predictions[test.fillna(0).as_matrix().nonzero()]\n",
    "        \n",
    "        return all_predictions, test_predictions\n",
    "    \n",
    "    def recommend(self, ratings, user, games, predictions):\n",
    "        '''\n",
    "        Provides recommendations for the specified user\n",
    "        \n",
    "        Params\n",
    "        ======\n",
    "        user : (string)\n",
    "            username with at least 10 ratings in database\n",
    "        \n",
    "        games : (Dataframe)\n",
    "            Dataframe of game list\n",
    "        \n",
    "        predictions : (nd_array)\n",
    "            predictions of entire ratings matrix\n",
    "        '''\n",
    "        user_idx = ratings.index.get_loc(user)\n",
    "        preds = predictions[user_idx]\n",
    "        rated = ratings.loc[user].fillna(0).as_matrix().nonzero()\n",
    "\n",
    "        mask = np.ones_like(preds, dtype=bool)\n",
    "        mask[rated] = False\n",
    "        preds[~mask] = 0\n",
    "\n",
    "        predictions = pd.Series(preds, index=ratings.columns, name='predictions')\n",
    "        recommendations = games.join(predictions, on='gameid')\n",
    "        return recommendations.sort_values('predictions', ascending=False)"
   ]
  },
  {
   "cell_type": "markdown",
   "metadata": {},
   "source": [
    "### Normalize, instantiate and train"
   ]
  },
  {
   "cell_type": "code",
   "execution_count": 13,
   "metadata": {
    "collapsed": true
   },
   "outputs": [],
   "source": [
    "#Normalize training set\n",
    "train_normed = rec.normalize(train_sparse)"
   ]
  },
  {
   "cell_type": "code",
   "execution_count": 14,
   "metadata": {
    "collapsed": true
   },
   "outputs": [],
   "source": [
    "#Instatiate SVD class\n",
    "svd_train = SVD(train_normed)"
   ]
  },
  {
   "cell_type": "code",
   "execution_count": 15,
   "metadata": {},
   "outputs": [
    {
     "name": "stdout",
     "output_type": "stream",
     "text": [
      "CPU times: user 1min 26s, sys: 1.9 s, total: 1min 28s\n",
      "Wall time: 1min 20s\n"
     ]
    }
   ],
   "source": [
    "#Train SVD model\n",
    "%time U, sigma, Vt = svd_train.train(k=50)"
   ]
  },
  {
   "cell_type": "markdown",
   "metadata": {},
   "source": [
    "> Our default number of latent factors is set to k=50"
   ]
  },
  {
   "cell_type": "markdown",
   "metadata": {},
   "source": [
    "### Obtain predictions for test set"
   ]
  },
  {
   "cell_type": "code",
   "execution_count": 16,
   "metadata": {},
   "outputs": [
    {
     "name": "stderr",
     "output_type": "stream",
     "text": [
      "/Users/timmoti/anaconda/lib/python2.7/site-packages/ipykernel/__main__.py:42: FutureWarning: reshape is deprecated and will raise in a subsequent release. Please use .values.reshape(...) instead\n"
     ]
    },
    {
     "name": "stdout",
     "output_type": "stream",
     "text": [
      "CPU times: user 23.2 s, sys: 15.3 s, total: 38.6 s\n",
      "Wall time: 56.2 s\n"
     ]
    }
   ],
   "source": [
    "#Make predictions for test set\n",
    "%time all_preds_svd50_train, test_preds_svd50 = svd_train.predict(U, sigma, Vt, test, mean)"
   ]
  },
  {
   "cell_type": "code",
   "execution_count": 38,
   "metadata": {
    "collapsed": true
   },
   "outputs": [],
   "source": [
    "#Pickle predictions\n",
    "pd.to_pickle(all_preds_svd50, 'svd50preds_pickle')"
   ]
  },
  {
   "cell_type": "markdown",
   "metadata": {},
   "source": [
    "### Evaluate RMSE"
   ]
  },
  {
   "cell_type": "code",
   "execution_count": 17,
   "metadata": {},
   "outputs": [
    {
     "data": {
      "text/plain": [
       "1.2861092502817428"
      ]
     },
     "execution_count": 17,
     "metadata": {},
     "output_type": "execute_result"
    }
   ],
   "source": [
    "#Evaluate RMSE for k=50\n",
    "error_svd50 = svd_train.get_rmse(y, test_preds_svd50)\n",
    "error_svd50"
   ]
  },
  {
   "cell_type": "markdown",
   "metadata": {},
   "source": [
    "> This value is 3% less than the value calculated for the Cosine Similarity method. "
   ]
  },
  {
   "cell_type": "markdown",
   "metadata": {},
   "source": [
    "### Recommend games"
   ]
  },
  {
   "cell_type": "code",
   "execution_count": 31,
   "metadata": {
    "collapsed": true
   },
   "outputs": [],
   "source": [
    "#Normalize df\n",
    "df_normed = rec.normalize(df_sparse)"
   ]
  },
  {
   "cell_type": "code",
   "execution_count": 32,
   "metadata": {
    "collapsed": true
   },
   "outputs": [],
   "source": [
    "#Instantiate SVD model on entire df\n",
    "svd = SVD(df_normed)"
   ]
  },
  {
   "cell_type": "code",
   "execution_count": 32,
   "metadata": {
    "scrolled": true
   },
   "outputs": [
    {
     "name": "stdout",
     "output_type": "stream",
     "text": [
      "CPU times: user 1min 26s, sys: 1.23 s, total: 1min 27s\n",
      "Wall time: 47.2 s\n"
     ]
    }
   ],
   "source": [
    "#Train SVD model on entire df\n",
    "%time U, sigma, Vt = svd.train()"
   ]
  },
  {
   "cell_type": "code",
   "execution_count": 33,
   "metadata": {},
   "outputs": [
    {
     "name": "stderr",
     "output_type": "stream",
     "text": [
      "/Users/timmoti/anaconda/lib/python2.7/site-packages/ipykernel/__main__.py:42: FutureWarning: reshape is deprecated and will raise in a subsequent release. Please use .values.reshape(...) instead\n"
     ]
    },
    {
     "name": "stdout",
     "output_type": "stream",
     "text": [
      "CPU times: user 20.6 s, sys: 11.5 s, total: 32.2 s\n",
      "Wall time: 40.1 s\n"
     ]
    }
   ],
   "source": [
    "#Predict for entire df\n",
    "%time all_preds_svd50, test_preds_svd50 = svd.predict(U, sigma, Vt, test, mean)"
   ]
  },
  {
   "cell_type": "code",
   "execution_count": 34,
   "metadata": {
    "collapsed": true
   },
   "outputs": [],
   "source": [
    "#Pickle predictions\n",
    "pd.to_pickle(all_preds_svd50, 'svd50preds_pickle')"
   ]
  },
  {
   "cell_type": "code",
   "execution_count": 45,
   "metadata": {},
   "outputs": [
    {
     "name": "stdout",
     "output_type": "stream",
     "text": [
      "CPU times: user 10.8 ms, sys: 35.9 ms, total: 46.6 ms\n",
      "Wall time: 113 ms\n"
     ]
    }
   ],
   "source": [
    "#Recommend games for a specific user\n",
    "%time me_svd_50 = svd.recommend(df, 'Hilaryg', games, all_preds_svd50)"
   ]
  },
  {
   "cell_type": "code",
   "execution_count": 46,
   "metadata": {},
   "outputs": [
    {
     "data": {
      "text/html": [
       "<div>\n",
       "<style scoped>\n",
       "    .dataframe tbody tr th:only-of-type {\n",
       "        vertical-align: middle;\n",
       "    }\n",
       "\n",
       "    .dataframe tbody tr th {\n",
       "        vertical-align: top;\n",
       "    }\n",
       "\n",
       "    .dataframe thead th {\n",
       "        text-align: right;\n",
       "    }\n",
       "</style>\n",
       "<table border=\"1\" class=\"dataframe\">\n",
       "  <thead>\n",
       "    <tr style=\"text-align: right;\">\n",
       "      <th></th>\n",
       "      <th>gameid</th>\n",
       "      <th>gamename</th>\n",
       "      <th>nratings</th>\n",
       "      <th>gamerank</th>\n",
       "      <th>predictions</th>\n",
       "    </tr>\n",
       "  </thead>\n",
       "  <tbody>\n",
       "    <tr>\n",
       "      <th>19</th>\n",
       "      <td>110327</td>\n",
       "      <td>Lords of Waterdeep</td>\n",
       "      <td>31175</td>\n",
       "      <td>44</td>\n",
       "      <td>8.197254</td>\n",
       "    </tr>\n",
       "    <tr>\n",
       "      <th>69</th>\n",
       "      <td>146021</td>\n",
       "      <td>Eldritch Horror</td>\n",
       "      <td>17877</td>\n",
       "      <td>42</td>\n",
       "      <td>7.720546</td>\n",
       "    </tr>\n",
       "    <tr>\n",
       "      <th>129</th>\n",
       "      <td>146508</td>\n",
       "      <td>T.I.M.E Stories</td>\n",
       "      <td>12468</td>\n",
       "      <td>35</td>\n",
       "      <td>7.441737</td>\n",
       "    </tr>\n",
       "    <tr>\n",
       "      <th>91</th>\n",
       "      <td>104162</td>\n",
       "      <td>Descent: Journeys in the Dark (Second Edition)</td>\n",
       "      <td>15637</td>\n",
       "      <td>67</td>\n",
       "      <td>7.374680</td>\n",
       "    </tr>\n",
       "    <tr>\n",
       "      <th>26</th>\n",
       "      <td>84876</td>\n",
       "      <td>The Castles of Burgundy</td>\n",
       "      <td>27173</td>\n",
       "      <td>10</td>\n",
       "      <td>7.287204</td>\n",
       "    </tr>\n",
       "    <tr>\n",
       "      <th>221</th>\n",
       "      <td>205059</td>\n",
       "      <td>Mansions of Madness: Second Edition</td>\n",
       "      <td>8527</td>\n",
       "      <td>20</td>\n",
       "      <td>7.254821</td>\n",
       "    </tr>\n",
       "    <tr>\n",
       "      <th>131</th>\n",
       "      <td>164153</td>\n",
       "      <td>Star Wars: Imperial Assault</td>\n",
       "      <td>12300</td>\n",
       "      <td>21</td>\n",
       "      <td>7.248716</td>\n",
       "    </tr>\n",
       "    <tr>\n",
       "      <th>10</th>\n",
       "      <td>70323</td>\n",
       "      <td>King of Tokyo</td>\n",
       "      <td>39195</td>\n",
       "      <td>196</td>\n",
       "      <td>7.236951</td>\n",
       "    </tr>\n",
       "    <tr>\n",
       "      <th>62</th>\n",
       "      <td>96848</td>\n",
       "      <td>Mage Knight Board Game</td>\n",
       "      <td>19449</td>\n",
       "      <td>16</td>\n",
       "      <td>7.206660</td>\n",
       "    </tr>\n",
       "    <tr>\n",
       "      <th>15</th>\n",
       "      <td>178900</td>\n",
       "      <td>Codenames</td>\n",
       "      <td>34348</td>\n",
       "      <td>36</td>\n",
       "      <td>7.205886</td>\n",
       "    </tr>\n",
       "    <tr>\n",
       "      <th>41</th>\n",
       "      <td>70919</td>\n",
       "      <td>Takenoko</td>\n",
       "      <td>21794</td>\n",
       "      <td>186</td>\n",
       "      <td>7.180090</td>\n",
       "    </tr>\n",
       "    <tr>\n",
       "      <th>73</th>\n",
       "      <td>128882</td>\n",
       "      <td>The Resistance: Avalon</td>\n",
       "      <td>17374</td>\n",
       "      <td>73</td>\n",
       "      <td>7.178977</td>\n",
       "    </tr>\n",
       "    <tr>\n",
       "      <th>38</th>\n",
       "      <td>18602</td>\n",
       "      <td>Caylus</td>\n",
       "      <td>22461</td>\n",
       "      <td>40</td>\n",
       "      <td>7.166570</td>\n",
       "    </tr>\n",
       "    <tr>\n",
       "      <th>104</th>\n",
       "      <td>181304</td>\n",
       "      <td>Mysterium</td>\n",
       "      <td>14520</td>\n",
       "      <td>132</td>\n",
       "      <td>7.136983</td>\n",
       "    </tr>\n",
       "    <tr>\n",
       "      <th>86</th>\n",
       "      <td>123260</td>\n",
       "      <td>Suburbia</td>\n",
       "      <td>15805</td>\n",
       "      <td>82</td>\n",
       "      <td>7.099278</td>\n",
       "    </tr>\n",
       "    <tr>\n",
       "      <th>185</th>\n",
       "      <td>2511</td>\n",
       "      <td>Sherlock Holmes Consulting Detective: The Tham...</td>\n",
       "      <td>9964</td>\n",
       "      <td>58</td>\n",
       "      <td>7.095163</td>\n",
       "    </tr>\n",
       "    <tr>\n",
       "      <th>151</th>\n",
       "      <td>102652</td>\n",
       "      <td>Sentinels of the Multiverse</td>\n",
       "      <td>11565</td>\n",
       "      <td>239</td>\n",
       "      <td>7.091568</td>\n",
       "    </tr>\n",
       "    <tr>\n",
       "      <th>32</th>\n",
       "      <td>173346</td>\n",
       "      <td>7 Wonders Duel</td>\n",
       "      <td>24654</td>\n",
       "      <td>9</td>\n",
       "      <td>7.090312</td>\n",
       "    </tr>\n",
       "    <tr>\n",
       "      <th>181</th>\n",
       "      <td>133038</td>\n",
       "      <td>Pathfinder Adventure Card Game: Rise of the Ru...</td>\n",
       "      <td>10074</td>\n",
       "      <td>250</td>\n",
       "      <td>7.090293</td>\n",
       "    </tr>\n",
       "    <tr>\n",
       "      <th>70</th>\n",
       "      <td>103885</td>\n",
       "      <td>Star Wars: X-Wing Miniatures Game</td>\n",
       "      <td>17825</td>\n",
       "      <td>52</td>\n",
       "      <td>7.085004</td>\n",
       "    </tr>\n",
       "  </tbody>\n",
       "</table>\n",
       "</div>"
      ],
      "text/plain": [
       "     gameid                                           gamename  nratings  \\\n",
       "19   110327                                 Lords of Waterdeep     31175   \n",
       "69   146021                                    Eldritch Horror     17877   \n",
       "129  146508                                    T.I.M.E Stories     12468   \n",
       "91   104162     Descent: Journeys in the Dark (Second Edition)     15637   \n",
       "26    84876                            The Castles of Burgundy     27173   \n",
       "221  205059                Mansions of Madness: Second Edition      8527   \n",
       "131  164153                        Star Wars: Imperial Assault     12300   \n",
       "10    70323                                      King of Tokyo     39195   \n",
       "62    96848                             Mage Knight Board Game     19449   \n",
       "15   178900                                          Codenames     34348   \n",
       "41    70919                                           Takenoko     21794   \n",
       "73   128882                             The Resistance: Avalon     17374   \n",
       "38    18602                                             Caylus     22461   \n",
       "104  181304                                          Mysterium     14520   \n",
       "86   123260                                           Suburbia     15805   \n",
       "185    2511  Sherlock Holmes Consulting Detective: The Tham...      9964   \n",
       "151  102652                        Sentinels of the Multiverse     11565   \n",
       "32   173346                                     7 Wonders Duel     24654   \n",
       "181  133038  Pathfinder Adventure Card Game: Rise of the Ru...     10074   \n",
       "70   103885                  Star Wars: X-Wing Miniatures Game     17825   \n",
       "\n",
       "     gamerank  predictions  \n",
       "19         44     8.197254  \n",
       "69         42     7.720546  \n",
       "129        35     7.441737  \n",
       "91         67     7.374680  \n",
       "26         10     7.287204  \n",
       "221        20     7.254821  \n",
       "131        21     7.248716  \n",
       "10        196     7.236951  \n",
       "62         16     7.206660  \n",
       "15         36     7.205886  \n",
       "41        186     7.180090  \n",
       "73         73     7.178977  \n",
       "38         40     7.166570  \n",
       "104       132     7.136983  \n",
       "86         82     7.099278  \n",
       "185        58     7.095163  \n",
       "151       239     7.091568  \n",
       "32          9     7.090312  \n",
       "181       250     7.090293  \n",
       "70         52     7.085004  "
      ]
     },
     "execution_count": 46,
     "metadata": {},
     "output_type": "execute_result"
    }
   ],
   "source": [
    "#Displaying top 20 games with k=50\n",
    "me_svd_50.head(20)"
   ]
  },
  {
   "cell_type": "markdown",
   "metadata": {},
   "source": [
    "> This list of games seem to be restricted to games within the top 200 or so. As it is, I am aware of all the games and have variations of some of the games listed such as Ticket to Ride: Europe and Dominion: Intrigue. I actually rate their sister games really highly which is why they appear."
   ]
  },
  {
   "cell_type": "code",
   "execution_count": 132,
   "metadata": {},
   "outputs": [
    {
     "data": {
      "image/png": "[encoded data removed]",
      "text/plain": [
       "<matplotlib.figure.Figure at 0x110340410>"
      ]
     },
     "metadata": {
      "image/png": {
       "height": 381,
       "width": 788
      }
     },
     "output_type": "display_data"
    }
   ],
   "source": [
    "fig, ax = plt.subplots(1,2, figsize=(13,6))\n",
    "sns.distplot(me_svd_50.head(20)['nratings'], ax=ax[0])\n",
    "sns.distplot(me_svd_50.head(20)['gamerank'], ax=ax[1])\n",
    "plt.show()"
   ]
  },
  {
   "cell_type": "markdown",
   "metadata": {},
   "source": [
    ">While the maximum number of ratings was in the 20,000s for the cosine similarity model, the SVD model is giving me games that hit the high 30,000s in number of ratings. A look at the gamerank distribution also shows that the games fall between ranks 1-200 which suggests less diversity from the top-ranked games."
   ]
  },
  {
   "cell_type": "markdown",
   "metadata": {},
   "source": [
    "> Let's look at the results for changing the number of latent factors starting with k=100"
   ]
  },
  {
   "cell_type": "code",
   "execution_count": 18,
   "metadata": {},
   "outputs": [
    {
     "name": "stdout",
     "output_type": "stream",
     "text": [
      "CPU times: user 2min 16s, sys: 6.28 s, total: 2min 22s\n",
      "Wall time: 1min 18s\n"
     ]
    }
   ],
   "source": [
    "#Train SVD model with k=100\n",
    "%time U, sigma, Vt = svd_train.train(k=100)"
   ]
  },
  {
   "cell_type": "code",
   "execution_count": 19,
   "metadata": {},
   "outputs": [
    {
     "name": "stderr",
     "output_type": "stream",
     "text": [
      "/Users/timmoti/anaconda/lib/python2.7/site-packages/ipykernel/__main__.py:42: FutureWarning: reshape is deprecated and will raise in a subsequent release. Please use .values.reshape(...) instead\n"
     ]
    },
    {
     "name": "stdout",
     "output_type": "stream",
     "text": [
      "CPU times: user 21.6 s, sys: 11.8 s, total: 33.5 s\n",
      "Wall time: 38.2 s\n"
     ]
    }
   ],
   "source": [
    "#Make predictions\n",
    "%time all_preds_svd100_train, test_preds_svd100 = svd_train.predict(U, sigma, Vt, test, mean)"
   ]
  },
  {
   "cell_type": "code",
   "execution_count": 20,
   "metadata": {},
   "outputs": [
    {
     "data": {
      "text/plain": [
       "1.2954613798828805"
      ]
     },
     "execution_count": 20,
     "metadata": {},
     "output_type": "execute_result"
    }
   ],
   "source": [
    "#Evaluate RMSE for k=100\n",
    "error_svd_100 = svd_train.get_rmse(y, test_preds_svd100)\n",
    "error_svd_100"
   ]
  },
  {
   "cell_type": "markdown",
   "metadata": {},
   "source": [
    "> The result is slightly worse than k=50 but still remains better than the RMSE for cosine similarity"
   ]
  },
  {
   "cell_type": "code",
   "execution_count": 42,
   "metadata": {
    "scrolled": true
   },
   "outputs": [
    {
     "name": "stdout",
     "output_type": "stream",
     "text": [
      "CPU times: user 2min 39s, sys: 3.91 s, total: 2min 43s\n",
      "Wall time: 1min 30s\n"
     ]
    }
   ],
   "source": [
    "#Train SVD model on entire df\n",
    "%time U, sigma, Vt = svd.train(k=100)"
   ]
  },
  {
   "cell_type": "code",
   "execution_count": 43,
   "metadata": {},
   "outputs": [
    {
     "name": "stderr",
     "output_type": "stream",
     "text": [
      "/Users/timmoti/anaconda/lib/python2.7/site-packages/ipykernel/__main__.py:42: FutureWarning: reshape is deprecated and will raise in a subsequent release. Please use .values.reshape(...) instead\n"
     ]
    },
    {
     "name": "stdout",
     "output_type": "stream",
     "text": [
      "CPU times: user 21.6 s, sys: 9.69 s, total: 31.3 s\n",
      "Wall time: 34.7 s\n"
     ]
    }
   ],
   "source": [
    "#Predict for entire df\n",
    "%time all_preds_svd100, test_preds_svd100 = svd.predict(U, sigma, Vt, test, mean)"
   ]
  },
  {
   "cell_type": "code",
   "execution_count": 44,
   "metadata": {
    "collapsed": true
   },
   "outputs": [],
   "source": [
    "#Pickle predictions\n",
    "pd.to_pickle(all_preds_svd100, 'svd100preds_pickle')"
   ]
  },
  {
   "cell_type": "code",
   "execution_count": 50,
   "metadata": {},
   "outputs": [
    {
     "name": "stdout",
     "output_type": "stream",
     "text": [
      "CPU times: user 6.48 ms, sys: 3.91 ms, total: 10.4 ms\n",
      "Wall time: 9.5 ms\n"
     ]
    }
   ],
   "source": [
    "#Recommend games for a specific user\n",
    "%time me_svd_100 = svd.recommend(df, 'Hilaryg', games, all_preds_svd100)"
   ]
  },
  {
   "cell_type": "code",
   "execution_count": 51,
   "metadata": {},
   "outputs": [
    {
     "data": {
      "text/html": [
       "<div>\n",
       "<style scoped>\n",
       "    .dataframe tbody tr th:only-of-type {\n",
       "        vertical-align: middle;\n",
       "    }\n",
       "\n",
       "    .dataframe tbody tr th {\n",
       "        vertical-align: top;\n",
       "    }\n",
       "\n",
       "    .dataframe thead th {\n",
       "        text-align: right;\n",
       "    }\n",
       "</style>\n",
       "<table border=\"1\" class=\"dataframe\">\n",
       "  <thead>\n",
       "    <tr style=\"text-align: right;\">\n",
       "      <th></th>\n",
       "      <th>gameid</th>\n",
       "      <th>gamename</th>\n",
       "      <th>nratings</th>\n",
       "      <th>gamerank</th>\n",
       "      <th>predictions</th>\n",
       "    </tr>\n",
       "  </thead>\n",
       "  <tbody>\n",
       "    <tr>\n",
       "      <th>32</th>\n",
       "      <td>173346</td>\n",
       "      <td>7 Wonders Duel</td>\n",
       "      <td>24654</td>\n",
       "      <td>9</td>\n",
       "      <td>7.573619</td>\n",
       "    </tr>\n",
       "    <tr>\n",
       "      <th>261</th>\n",
       "      <td>1115</td>\n",
       "      <td>Poker</td>\n",
       "      <td>7221</td>\n",
       "      <td>837</td>\n",
       "      <td>7.413376</td>\n",
       "    </tr>\n",
       "    <tr>\n",
       "      <th>82</th>\n",
       "      <td>132531</td>\n",
       "      <td>Roll for the Galaxy</td>\n",
       "      <td>16061</td>\n",
       "      <td>49</td>\n",
       "      <td>7.409192</td>\n",
       "    </tr>\n",
       "    <tr>\n",
       "      <th>112</th>\n",
       "      <td>154203</td>\n",
       "      <td>Imperial Settlers</td>\n",
       "      <td>13559</td>\n",
       "      <td>109</td>\n",
       "      <td>7.394173</td>\n",
       "    </tr>\n",
       "    <tr>\n",
       "      <th>86</th>\n",
       "      <td>123260</td>\n",
       "      <td>Suburbia</td>\n",
       "      <td>15805</td>\n",
       "      <td>82</td>\n",
       "      <td>7.342555</td>\n",
       "    </tr>\n",
       "    <tr>\n",
       "      <th>98</th>\n",
       "      <td>37046</td>\n",
       "      <td>Ghost Stories</td>\n",
       "      <td>14862</td>\n",
       "      <td>173</td>\n",
       "      <td>7.302493</td>\n",
       "    </tr>\n",
       "    <tr>\n",
       "      <th>101</th>\n",
       "      <td>155426</td>\n",
       "      <td>Castles of Mad King Ludwig</td>\n",
       "      <td>14629</td>\n",
       "      <td>68</td>\n",
       "      <td>7.300681</td>\n",
       "    </tr>\n",
       "    <tr>\n",
       "      <th>104</th>\n",
       "      <td>181304</td>\n",
       "      <td>Mysterium</td>\n",
       "      <td>14520</td>\n",
       "      <td>132</td>\n",
       "      <td>7.270232</td>\n",
       "    </tr>\n",
       "    <tr>\n",
       "      <th>41</th>\n",
       "      <td>70919</td>\n",
       "      <td>Takenoko</td>\n",
       "      <td>21794</td>\n",
       "      <td>186</td>\n",
       "      <td>7.223309</td>\n",
       "    </tr>\n",
       "    <tr>\n",
       "      <th>151</th>\n",
       "      <td>102652</td>\n",
       "      <td>Sentinels of the Multiverse</td>\n",
       "      <td>11565</td>\n",
       "      <td>239</td>\n",
       "      <td>7.194020</td>\n",
       "    </tr>\n",
       "    <tr>\n",
       "      <th>133</th>\n",
       "      <td>38453</td>\n",
       "      <td>Space Alert</td>\n",
       "      <td>12252</td>\n",
       "      <td>127</td>\n",
       "      <td>7.187816</td>\n",
       "    </tr>\n",
       "    <tr>\n",
       "      <th>100</th>\n",
       "      <td>100901</td>\n",
       "      <td>Flash Point: Fire Rescue</td>\n",
       "      <td>14669</td>\n",
       "      <td>238</td>\n",
       "      <td>7.175966</td>\n",
       "    </tr>\n",
       "    <tr>\n",
       "      <th>135</th>\n",
       "      <td>113294</td>\n",
       "      <td>Escape: The Curse of the Temple</td>\n",
       "      <td>12155</td>\n",
       "      <td>376</td>\n",
       "      <td>7.172839</td>\n",
       "    </tr>\n",
       "    <tr>\n",
       "      <th>113</th>\n",
       "      <td>158899</td>\n",
       "      <td>Colt Express</td>\n",
       "      <td>13488</td>\n",
       "      <td>277</td>\n",
       "      <td>7.170836</td>\n",
       "    </tr>\n",
       "    <tr>\n",
       "      <th>131</th>\n",
       "      <td>164153</td>\n",
       "      <td>Star Wars: Imperial Assault</td>\n",
       "      <td>12300</td>\n",
       "      <td>21</td>\n",
       "      <td>7.154054</td>\n",
       "    </tr>\n",
       "    <tr>\n",
       "      <th>160</th>\n",
       "      <td>161970</td>\n",
       "      <td>Alchemists</td>\n",
       "      <td>10942</td>\n",
       "      <td>74</td>\n",
       "      <td>7.153856</td>\n",
       "    </tr>\n",
       "    <tr>\n",
       "      <th>116</th>\n",
       "      <td>555</td>\n",
       "      <td>The Princes of Florence</td>\n",
       "      <td>13357</td>\n",
       "      <td>102</td>\n",
       "      <td>7.143642</td>\n",
       "    </tr>\n",
       "    <tr>\n",
       "      <th>84</th>\n",
       "      <td>12</td>\n",
       "      <td>Ra</td>\n",
       "      <td>15870</td>\n",
       "      <td>125</td>\n",
       "      <td>7.141369</td>\n",
       "    </tr>\n",
       "    <tr>\n",
       "      <th>108</th>\n",
       "      <td>148949</td>\n",
       "      <td>Istanbul</td>\n",
       "      <td>13965</td>\n",
       "      <td>87</td>\n",
       "      <td>7.129138</td>\n",
       "    </tr>\n",
       "    <tr>\n",
       "      <th>99</th>\n",
       "      <td>108745</td>\n",
       "      <td>Seasons</td>\n",
       "      <td>14782</td>\n",
       "      <td>137</td>\n",
       "      <td>7.126352</td>\n",
       "    </tr>\n",
       "  </tbody>\n",
       "</table>\n",
       "</div>"
      ],
      "text/plain": [
       "     gameid                         gamename  nratings  gamerank  predictions\n",
       "32   173346                   7 Wonders Duel     24654         9     7.573619\n",
       "261    1115                            Poker      7221       837     7.413376\n",
       "82   132531              Roll for the Galaxy     16061        49     7.409192\n",
       "112  154203                Imperial Settlers     13559       109     7.394173\n",
       "86   123260                         Suburbia     15805        82     7.342555\n",
       "98    37046                    Ghost Stories     14862       173     7.302493\n",
       "101  155426       Castles of Mad King Ludwig     14629        68     7.300681\n",
       "104  181304                        Mysterium     14520       132     7.270232\n",
       "41    70919                         Takenoko     21794       186     7.223309\n",
       "151  102652      Sentinels of the Multiverse     11565       239     7.194020\n",
       "133   38453                      Space Alert     12252       127     7.187816\n",
       "100  100901         Flash Point: Fire Rescue     14669       238     7.175966\n",
       "135  113294  Escape: The Curse of the Temple     12155       376     7.172839\n",
       "113  158899                     Colt Express     13488       277     7.170836\n",
       "131  164153      Star Wars: Imperial Assault     12300        21     7.154054\n",
       "160  161970                       Alchemists     10942        74     7.153856\n",
       "116     555          The Princes of Florence     13357       102     7.143642\n",
       "84       12                               Ra     15870       125     7.141369\n",
       "108  148949                         Istanbul     13965        87     7.129138\n",
       "99   108745                          Seasons     14782       137     7.126352"
      ]
     },
     "execution_count": 51,
     "metadata": {},
     "output_type": "execute_result"
    }
   ],
   "source": [
    "#Displaying top 20 games with k=100\n",
    "me_svd_100.head(20)"
   ]
  },
  {
   "cell_type": "markdown",
   "metadata": {},
   "source": [
    "> Most of the games recommended come from the top 100 games. One big surprise here is that tic-tac-toe was actually recommended. A quick check reveals that it is the bottom-ranked game from the 1807 in our dataset. The list is really different from the previous 2 but nothing I have not seen or heard before. Not much serendipity here."
   ]
  },
  {
   "cell_type": "code",
   "execution_count": 134,
   "metadata": {},
   "outputs": [
    {
     "data": {
      "image/png": "[encoded data removed]",
      "text/plain": [
       "<matplotlib.figure.Figure at 0x110a03d50>"
      ]
     },
     "metadata": {
      "image/png": {
       "height": 381,
       "width": 793
      }
     },
     "output_type": "display_data"
    }
   ],
   "source": [
    "fig, ax = plt.subplots(1,2, figsize=(13,6))\n",
    "sns.distplot(me_svd_100.head(20)['nratings'], ax=ax[0])\n",
    "sns.distplot(me_svd_100.head(20)['gamerank'], ax=ax[1])\n",
    "plt.show()"
   ]
  },
  {
   "cell_type": "markdown",
   "metadata": {},
   "source": [
    "> The lower end of number of ratings of games in this list seems to have shifted up with the majority beign at the 10,000s range. We can also see the outlier of the last-ranked game of our list that severely skews our gamerank distribution."
   ]
  },
  {
   "cell_type": "markdown",
   "metadata": {},
   "source": [
    "> How about training and SVD model with just 10 latent factors?"
   ]
  },
  {
   "cell_type": "code",
   "execution_count": 21,
   "metadata": {},
   "outputs": [
    {
     "name": "stdout",
     "output_type": "stream",
     "text": [
      "CPU times: user 34.5 s, sys: 5.84 s, total: 40.4 s\n",
      "Wall time: 29.1 s\n"
     ]
    }
   ],
   "source": [
    "#Train SVD model with k=10\n",
    "%time U, sigma, Vt = svd_train.train(k=10)"
   ]
  },
  {
   "cell_type": "code",
   "execution_count": 22,
   "metadata": {},
   "outputs": [
    {
     "name": "stderr",
     "output_type": "stream",
     "text": [
      "/Users/timmoti/anaconda/lib/python2.7/site-packages/ipykernel/__main__.py:42: FutureWarning: reshape is deprecated and will raise in a subsequent release. Please use .values.reshape(...) instead\n"
     ]
    },
    {
     "name": "stdout",
     "output_type": "stream",
     "text": [
      "CPU times: user 24.3 s, sys: 17.4 s, total: 41.7 s\n",
      "Wall time: 1min 7s\n"
     ]
    }
   ],
   "source": [
    "#Make predictions\n",
    "%time all_preds_svd10_train, test_preds_svd10 = svd_train.predict(U, sigma, Vt, test, mean)"
   ]
  },
  {
   "cell_type": "code",
   "execution_count": 23,
   "metadata": {},
   "outputs": [
    {
     "data": {
      "text/plain": [
       "1.2784756733580973"
      ]
     },
     "execution_count": 23,
     "metadata": {},
     "output_type": "execute_result"
    }
   ],
   "source": [
    "#Evaluate RMSE for k=10\n",
    "error_svd = svd_train.get_rmse(y, test_preds_svd10)\n",
    "error_svd"
   ]
  },
  {
   "cell_type": "markdown",
   "metadata": {},
   "source": [
    "> With 10 latent factors, I get my lowest RMSE score yet. Let's see what games it recommends to me."
   ]
  },
  {
   "cell_type": "code",
   "execution_count": 55,
   "metadata": {
    "scrolled": true
   },
   "outputs": [
    {
     "name": "stdout",
     "output_type": "stream",
     "text": [
      "CPU times: user 31.3 s, sys: 2.67 s, total: 34 s\n",
      "Wall time: 21.6 s\n"
     ]
    }
   ],
   "source": [
    "#Train SVD model on entire df\n",
    "%time U, sigma, Vt = svd.train(k=10)"
   ]
  },
  {
   "cell_type": "code",
   "execution_count": 56,
   "metadata": {},
   "outputs": [
    {
     "name": "stderr",
     "output_type": "stream",
     "text": [
      "/Users/timmoti/anaconda/lib/python2.7/site-packages/ipykernel/__main__.py:42: FutureWarning: reshape is deprecated and will raise in a subsequent release. Please use .values.reshape(...) instead\n"
     ]
    },
    {
     "name": "stdout",
     "output_type": "stream",
     "text": [
      "CPU times: user 20.3 s, sys: 10.7 s, total: 31.1 s\n",
      "Wall time: 40.9 s\n"
     ]
    }
   ],
   "source": [
    "#Predict for entire df\n",
    "%time all_preds_svd10, test_preds_svd10 = svd.predict(U, sigma, Vt, test, mean)"
   ]
  },
  {
   "cell_type": "code",
   "execution_count": 57,
   "metadata": {
    "collapsed": true
   },
   "outputs": [],
   "source": [
    "#Pickle predictions\n",
    "pd.to_pickle(all_preds_svd10, 'svd10preds_pickle')"
   ]
  },
  {
   "cell_type": "code",
   "execution_count": 58,
   "metadata": {},
   "outputs": [
    {
     "name": "stdout",
     "output_type": "stream",
     "text": [
      "CPU times: user 9.82 ms, sys: 24.4 ms, total: 34.2 ms\n",
      "Wall time: 63.6 ms\n"
     ]
    }
   ],
   "source": [
    "#Recommend games for a specific user\n",
    "%time me_svd_10 = svd.recommend(df, 'Hilaryg', games, all_preds_svd10)"
   ]
  },
  {
   "cell_type": "code",
   "execution_count": 59,
   "metadata": {
    "scrolled": false
   },
   "outputs": [
    {
     "data": {
      "text/html": [
       "<div>\n",
       "<style scoped>\n",
       "    .dataframe tbody tr th:only-of-type {\n",
       "        vertical-align: middle;\n",
       "    }\n",
       "\n",
       "    .dataframe tbody tr th {\n",
       "        vertical-align: top;\n",
       "    }\n",
       "\n",
       "    .dataframe thead th {\n",
       "        text-align: right;\n",
       "    }\n",
       "</style>\n",
       "<table border=\"1\" class=\"dataframe\">\n",
       "  <thead>\n",
       "    <tr style=\"text-align: right;\">\n",
       "      <th></th>\n",
       "      <th>gameid</th>\n",
       "      <th>gamename</th>\n",
       "      <th>nratings</th>\n",
       "      <th>gamerank</th>\n",
       "      <th>predictions</th>\n",
       "    </tr>\n",
       "  </thead>\n",
       "  <tbody>\n",
       "    <tr>\n",
       "      <th>52</th>\n",
       "      <td>161936</td>\n",
       "      <td>Pandemic Legacy: Season 1</td>\n",
       "      <td>20423</td>\n",
       "      <td>1</td>\n",
       "      <td>8.407412</td>\n",
       "    </tr>\n",
       "    <tr>\n",
       "      <th>4</th>\n",
       "      <td>68448</td>\n",
       "      <td>7 Wonders</td>\n",
       "      <td>55341</td>\n",
       "      <td>37</td>\n",
       "      <td>7.813177</td>\n",
       "    </tr>\n",
       "    <tr>\n",
       "      <th>5</th>\n",
       "      <td>9209</td>\n",
       "      <td>Ticket to Ride</td>\n",
       "      <td>50968</td>\n",
       "      <td>110</td>\n",
       "      <td>7.527346</td>\n",
       "    </tr>\n",
       "    <tr>\n",
       "      <th>19</th>\n",
       "      <td>110327</td>\n",
       "      <td>Lords of Waterdeep</td>\n",
       "      <td>31175</td>\n",
       "      <td>44</td>\n",
       "      <td>7.417455</td>\n",
       "    </tr>\n",
       "    <tr>\n",
       "      <th>32</th>\n",
       "      <td>173346</td>\n",
       "      <td>7 Wonders Duel</td>\n",
       "      <td>24654</td>\n",
       "      <td>9</td>\n",
       "      <td>7.410389</td>\n",
       "    </tr>\n",
       "    <tr>\n",
       "      <th>15</th>\n",
       "      <td>178900</td>\n",
       "      <td>Codenames</td>\n",
       "      <td>34348</td>\n",
       "      <td>36</td>\n",
       "      <td>7.341506</td>\n",
       "    </tr>\n",
       "    <tr>\n",
       "      <th>28</th>\n",
       "      <td>37111</td>\n",
       "      <td>Battlestar Galactica</td>\n",
       "      <td>26374</td>\n",
       "      <td>54</td>\n",
       "      <td>7.300955</td>\n",
       "    </tr>\n",
       "    <tr>\n",
       "      <th>53</th>\n",
       "      <td>169786</td>\n",
       "      <td>Scythe</td>\n",
       "      <td>20379</td>\n",
       "      <td>8</td>\n",
       "      <td>7.282874</td>\n",
       "    </tr>\n",
       "    <tr>\n",
       "      <th>129</th>\n",
       "      <td>146508</td>\n",
       "      <td>T.I.M.E Stories</td>\n",
       "      <td>12468</td>\n",
       "      <td>35</td>\n",
       "      <td>7.280520</td>\n",
       "    </tr>\n",
       "    <tr>\n",
       "      <th>78</th>\n",
       "      <td>170216</td>\n",
       "      <td>Blood Rage</td>\n",
       "      <td>16362</td>\n",
       "      <td>17</td>\n",
       "      <td>7.228432</td>\n",
       "    </tr>\n",
       "    <tr>\n",
       "      <th>10</th>\n",
       "      <td>70323</td>\n",
       "      <td>King of Tokyo</td>\n",
       "      <td>39195</td>\n",
       "      <td>196</td>\n",
       "      <td>7.215548</td>\n",
       "    </tr>\n",
       "    <tr>\n",
       "      <th>69</th>\n",
       "      <td>146021</td>\n",
       "      <td>Eldritch Horror</td>\n",
       "      <td>17877</td>\n",
       "      <td>42</td>\n",
       "      <td>7.212711</td>\n",
       "    </tr>\n",
       "    <tr>\n",
       "      <th>95</th>\n",
       "      <td>167791</td>\n",
       "      <td>Terraforming Mars</td>\n",
       "      <td>15281</td>\n",
       "      <td>6</td>\n",
       "      <td>7.173146</td>\n",
       "    </tr>\n",
       "    <tr>\n",
       "      <th>26</th>\n",
       "      <td>84876</td>\n",
       "      <td>The Castles of Burgundy</td>\n",
       "      <td>27173</td>\n",
       "      <td>10</td>\n",
       "      <td>7.150654</td>\n",
       "    </tr>\n",
       "    <tr>\n",
       "      <th>174</th>\n",
       "      <td>187645</td>\n",
       "      <td>Star Wars: Rebellion</td>\n",
       "      <td>10240</td>\n",
       "      <td>5</td>\n",
       "      <td>7.142215</td>\n",
       "    </tr>\n",
       "    <tr>\n",
       "      <th>131</th>\n",
       "      <td>164153</td>\n",
       "      <td>Star Wars: Imperial Assault</td>\n",
       "      <td>12300</td>\n",
       "      <td>21</td>\n",
       "      <td>7.140594</td>\n",
       "    </tr>\n",
       "    <tr>\n",
       "      <th>55</th>\n",
       "      <td>39463</td>\n",
       "      <td>Cosmic Encounter</td>\n",
       "      <td>20157</td>\n",
       "      <td>89</td>\n",
       "      <td>7.133390</td>\n",
       "    </tr>\n",
       "    <tr>\n",
       "      <th>804</th>\n",
       "      <td>11901</td>\n",
       "      <td>Tic-Tac-Toe</td>\n",
       "      <td>2493</td>\n",
       "      <td>14344</td>\n",
       "      <td>7.128381</td>\n",
       "    </tr>\n",
       "    <tr>\n",
       "      <th>221</th>\n",
       "      <td>205059</td>\n",
       "      <td>Mansions of Madness: Second Edition</td>\n",
       "      <td>8527</td>\n",
       "      <td>20</td>\n",
       "      <td>7.117927</td>\n",
       "    </tr>\n",
       "    <tr>\n",
       "      <th>91</th>\n",
       "      <td>104162</td>\n",
       "      <td>Descent: Journeys in the Dark (Second Edition)</td>\n",
       "      <td>15637</td>\n",
       "      <td>67</td>\n",
       "      <td>7.096213</td>\n",
       "    </tr>\n",
       "  </tbody>\n",
       "</table>\n",
       "</div>"
      ],
      "text/plain": [
       "     gameid                                        gamename  nratings  \\\n",
       "52   161936                       Pandemic Legacy: Season 1     20423   \n",
       "4     68448                                       7 Wonders     55341   \n",
       "5      9209                                  Ticket to Ride     50968   \n",
       "19   110327                              Lords of Waterdeep     31175   \n",
       "32   173346                                  7 Wonders Duel     24654   \n",
       "15   178900                                       Codenames     34348   \n",
       "28    37111                            Battlestar Galactica     26374   \n",
       "53   169786                                          Scythe     20379   \n",
       "129  146508                                 T.I.M.E Stories     12468   \n",
       "78   170216                                      Blood Rage     16362   \n",
       "10    70323                                   King of Tokyo     39195   \n",
       "69   146021                                 Eldritch Horror     17877   \n",
       "95   167791                               Terraforming Mars     15281   \n",
       "26    84876                         The Castles of Burgundy     27173   \n",
       "174  187645                            Star Wars: Rebellion     10240   \n",
       "131  164153                     Star Wars: Imperial Assault     12300   \n",
       "55    39463                                Cosmic Encounter     20157   \n",
       "804   11901                                     Tic-Tac-Toe      2493   \n",
       "221  205059             Mansions of Madness: Second Edition      8527   \n",
       "91   104162  Descent: Journeys in the Dark (Second Edition)     15637   \n",
       "\n",
       "     gamerank  predictions  \n",
       "52          1     8.407412  \n",
       "4          37     7.813177  \n",
       "5         110     7.527346  \n",
       "19         44     7.417455  \n",
       "32          9     7.410389  \n",
       "15         36     7.341506  \n",
       "28         54     7.300955  \n",
       "53          8     7.282874  \n",
       "129        35     7.280520  \n",
       "78         17     7.228432  \n",
       "10        196     7.215548  \n",
       "69         42     7.212711  \n",
       "95          6     7.173146  \n",
       "26         10     7.150654  \n",
       "174         5     7.142215  \n",
       "131        21     7.140594  \n",
       "55         89     7.133390  \n",
       "804     14344     7.128381  \n",
       "221        20     7.117927  \n",
       "91         67     7.096213  "
      ]
     },
     "execution_count": 59,
     "metadata": {},
     "output_type": "execute_result"
    }
   ],
   "source": [
    "#Displaying top 20 games with k=10\n",
    "me_svd_10.head(20)"
   ]
  },
  {
   "cell_type": "markdown",
   "metadata": {},
   "source": [
    ">The majority of these games are within the top 100 games which suggests that they are highly popular and well-regarded. Let's take a look at the distributions of the number of ratings and gamerank"
   ]
  },
  {
   "cell_type": "code",
   "execution_count": 141,
   "metadata": {},
   "outputs": [
    {
     "data": {
      "image/png": "[encoded data removed]",
      "text/plain": [
       "<matplotlib.figure.Figure at 0x111991950>"
      ]
     },
     "metadata": {
      "image/png": {
       "height": 381,
       "width": 788
      }
     },
     "output_type": "display_data"
    }
   ],
   "source": [
    "fig, ax = plt.subplots(1,2, figsize=(13,6))\n",
    "sns.distplot(me_svd_10.head(20)['nratings'], ax=ax[0])\n",
    "sns.distplot(me_svd_10.head(20)['gamerank'], ax=ax[1])\n",
    "plt.show()"
   ]
  },
  {
   "cell_type": "markdown",
   "metadata": {},
   "source": [
    "> As suspected, this list contains the top regarded games on BGG. This can be observd through the smaller range of games recommended in terms of gamerank from 1-150 and the inclusion of a game with a high number of ratings, Carcassone with 70895 ratings to be exact. The lower end of the number of ratings has also shifted to games where at least 10,000 users have rated the game."
   ]
  },
  {
   "cell_type": "markdown",
   "metadata": {},
   "source": [
    "### Latent Factor method - Non-Negative Matrix Factorization with Alternating Least Squares\n",
    "> In this final model, we will attempt to factorize the ratings matrix using the Alternating Least Squares method of minimizing the cost function. It works by holding one set of latent factors, either the user or item vector, constant at any one point in time while solving for the other. It then alternates until convergence to a minimum. As opposed to SVD, bias terms are added to the cost function and eigenvalues are not calculated.\n",
    "\n",
    "![als algorithm](./assets/als_algo.png)\n",
    "\n",
    "> A class is built off the base Recommender class and a grid search was applied to find the best hyperparameters of regularization, number of iterations of the alternating least squares step as well as the optimal number of latent factors. \n",
    "\n"
   ]
  },
  {
   "cell_type": "code",
   "execution_count": 24,
   "metadata": {
    "collapsed": true
   },
   "outputs": [],
   "source": [
    "from numpy.linalg import solve\n",
    "class ALSMF(Recommender):\n",
    "    def __init__(self, \n",
    "                 ratings, \n",
    "                 n_factors=40, \n",
    "                 item_reg=0.0, \n",
    "                 user_reg=0.0,\n",
    "                 verbose=False):\n",
    "        \"\"\"\n",
    "        Train a matrix factorization model to predict empty \n",
    "        entries in a matrix. The terminology assumes a \n",
    "        ratings matrix which is ~ user x item\n",
    "        \n",
    "        Params\n",
    "        ======\n",
    "        ratings : (ndarray)\n",
    "            User x Item matrix with corresponding ratings\n",
    "        \n",
    "        n_factors : (int)\n",
    "            Number of latent factors to use in matrix \n",
    "            factorization model\n",
    "        \n",
    "        item_reg : (float)\n",
    "            Regularization term for item latent factors\n",
    "        \n",
    "        user_reg : (float)\n",
    "            Regularization term for user latent factors\n",
    "        \n",
    "        verbose : (bool)\n",
    "            Whether or not to printout training progress\n",
    "        \"\"\"\n",
    "        self.ratings = ratings\n",
    "        self.n_users, self.n_items = ratings.shape\n",
    "        self.n_factors = n_factors\n",
    "        self.item_reg = item_reg\n",
    "        self.user_reg = user_reg\n",
    "        self._v = verbose\n",
    "        \n",
    "    def als_step(self, latent_vectors, fixed_vecs, ratings, _lambda, type='user'):\n",
    "        \"\"\"\n",
    "        One of the two ALS steps. Solve for the latent vectors\n",
    "        specified by type.\n",
    "        \"\"\"\n",
    "        if type == 'user':\n",
    "            # Precompute\n",
    "            YTY = fixed_vecs.T.dot(fixed_vecs)\n",
    "            lambdaI = np.eye(YTY.shape[0]) * _lambda\n",
    "\n",
    "            for u in xrange(latent_vectors.shape[0]):\n",
    "                latent_vectors[u, :] = solve((YTY + lambdaI), \n",
    "                                             ratings[u, :].dot(fixed_vecs))\n",
    "        elif type == 'item':\n",
    "            # Precompute\n",
    "            XTX = fixed_vecs.T.dot(fixed_vecs)\n",
    "            lambdaI = np.eye(XTX.shape[0]) * _lambda\n",
    "            \n",
    "            for i in xrange(latent_vectors.shape[0]):\n",
    "                latent_vectors[i, :] = solve((XTX + lambdaI), \n",
    "                                             ratings[:, i].T.dot(fixed_vecs))\n",
    "        return latent_vectors\n",
    "    \n",
    "    def train(self, n_iter=10):\n",
    "        \"\"\" Train model for n_iter iterations from scratch.\"\"\"\n",
    "        # initialize latent vectors\n",
    "        self.user_vecs = np.random.random((self.n_users, self.n_factors))\n",
    "        self.item_vecs = np.random.random((self.n_items, self.n_factors))\n",
    "        \n",
    "        self.partial_train(n_iter)\n",
    "    \n",
    "    def partial_train(self, n_iter):\n",
    "        \"\"\" \n",
    "        Train model for n_iter iterations. Can be \n",
    "        called multiple times for further training.\n",
    "        \"\"\"\n",
    "        ctr = 1\n",
    "        while ctr <= n_iter:\n",
    "            if ctr % 10 == 0 and self._v:\n",
    "                print '\\tcurrent iteration: {}'.format(ctr)\n",
    "            self.user_vecs = self.als_step(self.user_vecs, \n",
    "                                           self.item_vecs, \n",
    "                                           self.ratings, \n",
    "                                           self.user_reg, \n",
    "                                           type='user')\n",
    "            self.item_vecs = self.als_step(self.item_vecs, \n",
    "                                           self.user_vecs, \n",
    "                                           self.ratings, \n",
    "                                           self.item_reg, \n",
    "                                           type='item')\n",
    "            ctr += 1\n",
    "    \n",
    "    def predict(self, test, mean):\n",
    "        \"\"\" \n",
    "        Predicts ratings based on user and \n",
    "        item latent factors \n",
    "        \"\"\"\n",
    "        all_predictions = self.user_vecs.dot(self.item_vecs.T) + mean.reshape(-1, 1)\n",
    "        test_predictions = all_predictions[test.fillna(0).as_matrix().nonzero()]\n",
    "        return all_predictions, test_predictions\n",
    "    \n",
    "    def recommend(self, ratings, user, games, predictions):\n",
    "        '''\n",
    "        Provides recommendations for the specified user\n",
    "        \n",
    "        Params\n",
    "        ======\n",
    "        user : (string)\n",
    "            username with at least 10 ratings in database\n",
    "        \n",
    "        games : (Dataframe)\n",
    "            Dataframe of game list\n",
    "        \n",
    "        predictions : (nd_array)\n",
    "            predictions of entire ratings matrix\n",
    "        '''\n",
    "        user_idx = ratings.index.get_loc(user)\n",
    "        preds = predictions[user_idx]\n",
    "        rated = ratings.loc[user].fillna(0).as_matrix().nonzero()\n",
    "\n",
    "        mask = np.ones_like(preds, dtype=bool)\n",
    "        mask[rated] = False\n",
    "        preds[~mask] = 0\n",
    "\n",
    "        predictions = pd.Series(preds, index=ratings.columns, name='predictions')\n",
    "        recommendations = games.join(predictions, on='gameid')\n",
    "        return recommendations.sort_values('predictions', ascending=False) "
   ]
  },
  {
   "cell_type": "code",
   "execution_count": 36,
   "metadata": {
    "scrolled": false
   },
   "outputs": [
    {
     "name": "stdout",
     "output_type": "stream",
     "text": [
      "Factors: 5\n",
      "Regularization: 0.1\n",
      "Iterations: 1\n"
     ]
    },
    {
     "name": "stderr",
     "output_type": "stream",
     "text": [
      "/Users/timmoti/anaconda/lib/python2.7/site-packages/ipykernel/__main__.py:96: FutureWarning: reshape is deprecated and will raise in a subsequent release. Please use .values.reshape(...) instead\n"
     ]
    },
    {
     "name": "stdout",
     "output_type": "stream",
     "text": [
      "New optimal hyperparameters\n",
      "model        <__main__.ALSMF object at 0x122e40b10>\n",
      "n_factors                                         5\n",
      "n_iter                                            1\n",
      "reg                                             0.1\n",
      "test_rmse                                   1.32028\n",
      "dtype: object\n",
      "Iterations: 10\n",
      "New optimal hyperparameters\n",
      "model        <__main__.ALSMF object at 0x100744310>\n",
      "n_factors                                         5\n",
      "n_iter                                           10\n",
      "reg                                             0.1\n",
      "test_rmse                                   1.28112\n",
      "dtype: object\n",
      "Iterations: 40\n",
      "New optimal hyperparameters\n",
      "model        <__main__.ALSMF object at 0x122e44250>\n",
      "n_factors                                         5\n",
      "n_iter                                           40\n",
      "reg                                             0.1\n",
      "test_rmse                                   1.28057\n",
      "dtype: object\n",
      "Regularization: 1.0\n",
      "Iterations: 1\n",
      "Iterations: 10\n",
      "Iterations: 40\n",
      "Regularization: 10.0\n",
      "Iterations: 1\n",
      "Iterations: 10\n",
      "New optimal hyperparameters\n",
      "model        <__main__.ALSMF object at 0x122e44290>\n",
      "n_factors                                         5\n",
      "n_iter                                           10\n",
      "reg                                              10\n",
      "test_rmse                                   1.28004\n",
      "dtype: object\n",
      "Iterations: 40\n",
      "Regularization: 100.0\n",
      "Iterations: 1\n",
      "Iterations: 10\n",
      "Iterations: 40\n",
      "Factors: 10\n",
      "Regularization: 0.1\n",
      "Iterations: 1\n",
      "Iterations: 10\n",
      "New optimal hyperparameters\n",
      "model        <__main__.ALSMF object at 0x122e40a10>\n",
      "n_factors                                        10\n",
      "n_iter                                           10\n",
      "reg                                             0.1\n",
      "test_rmse                                   1.27892\n",
      "dtype: object\n",
      "Iterations: 40\n",
      "New optimal hyperparameters\n",
      "model        <__main__.ALSMF object at 0x122e44290>\n",
      "n_factors                                        10\n",
      "n_iter                                           40\n",
      "reg                                             0.1\n",
      "test_rmse                                   1.27808\n",
      "dtype: object\n",
      "Regularization: 1.0\n",
      "Iterations: 1\n",
      "Iterations: 10\n",
      "Iterations: 40\n",
      "Regularization: 10.0\n",
      "Iterations: 1\n",
      "Iterations: 10\n",
      "Iterations: 40\n",
      "Regularization: 100.0\n",
      "Iterations: 1\n",
      "Iterations: 10\n",
      "Iterations: 40\n",
      "Factors: 20\n",
      "Regularization: 0.1\n",
      "Iterations: 1\n",
      "Iterations: 10\n",
      "Iterations: 40\n",
      "Regularization: 1.0\n",
      "Iterations: 1\n",
      "Iterations: 10\n",
      "Iterations: 40\n",
      "Regularization: 10.0\n",
      "Iterations: 1\n",
      "Iterations: 10\n",
      "Iterations: 40\n",
      "Regularization: 100.0\n",
      "Iterations: 1\n",
      "Iterations: 10\n",
      "Iterations: 40\n",
      "CPU times: user 2h 33min 11s, sys: 9min 17s, total: 2h 42min 28s\n",
      "Wall time: 5h 11min 6s\n"
     ]
    }
   ],
   "source": [
    "#Gridsearch of best parameters for ALS matrix factorization of ratings matrix\n",
    "%%time\n",
    "latent_factors = [5, 10, 20]\n",
    "regularizations = [0.1, 1., 10., 100.]\n",
    "regularizations.sort()\n",
    "iter_array = [1, 10, 40]\n",
    "\n",
    "best_params = {}\n",
    "best_params['n_factors'] = latent_factors[0]\n",
    "best_params['reg'] = regularizations[0]\n",
    "best_params['n_iter'] = 0\n",
    "best_params['test_rmse'] = np.inf\n",
    "best_params['model'] = None\n",
    "\n",
    "for fact in latent_factors:\n",
    "    print 'Factors: {}'.format(fact)\n",
    "    for reg in regularizations:\n",
    "        print 'Regularization: {}'.format(reg)\n",
    "        for itera in iter_array:\n",
    "            print 'Iterations: {}'.format(itera)\n",
    "            MF_ALS = ALSMF(train_normed, n_factors=fact, \\\n",
    "                                user_reg=reg, item_reg=reg)\n",
    "            MF_ALS.train(n_iter = itera)\n",
    "            all_predictions, test_predictions = MF_ALS.predict(test, mean)\n",
    "            test_rmse = MF_ALS.get_rmse(y, test_predictions)\n",
    "            if test_rmse < best_params['test_rmse']:\n",
    "                best_params['n_factors'] = fact\n",
    "                best_params['reg'] = reg\n",
    "                best_params['n_iter'] = itera\n",
    "                best_params['test_rmse'] = test_rmse\n",
    "                best_params['model'] = MF_ALS\n",
    "                print 'New optimal hyperparameters'\n",
    "                print pd.Series(best_params)"
   ]
  },
  {
   "cell_type": "markdown",
   "metadata": {},
   "source": [
    "> We see that the best parameters are 40 iterations, of 10 factors with a regularization value of 0.1 in order to achieve an RMSE of 1.27808. "
   ]
  },
  {
   "cell_type": "code",
   "execution_count": 25,
   "metadata": {
    "collapsed": true
   },
   "outputs": [],
   "source": [
    "#Instatiate ALSMF class\n",
    "als_train = ALSMF(train_normed, n_factors=10, item_reg=0.1, user_reg=0.1)"
   ]
  },
  {
   "cell_type": "code",
   "execution_count": 26,
   "metadata": {},
   "outputs": [
    {
     "name": "stdout",
     "output_type": "stream",
     "text": [
      "CPU times: user 8min 41s, sys: 6.56 s, total: 8min 47s\n",
      "Wall time: 8min 59s\n"
     ]
    }
   ],
   "source": [
    "#Train model \n",
    "%time als_train.train(40)"
   ]
  },
  {
   "cell_type": "code",
   "execution_count": 27,
   "metadata": {
    "scrolled": true
   },
   "outputs": [
    {
     "name": "stderr",
     "output_type": "stream",
     "text": [
      "/Users/timmoti/anaconda/lib/python2.7/site-packages/ipykernel/__main__.py:96: FutureWarning: reshape is deprecated and will raise in a subsequent release. Please use .values.reshape(...) instead\n"
     ]
    },
    {
     "name": "stdout",
     "output_type": "stream",
     "text": [
      "CPU times: user 18.9 s, sys: 10.6 s, total: 29.5 s\n",
      "Wall time: 35.1 s\n"
     ]
    }
   ],
   "source": [
    "#Make predictions for test set\n",
    "%time all_preds_train, test_preds_train = als_train.predict(test, mean)"
   ]
  },
  {
   "cell_type": "code",
   "execution_count": 28,
   "metadata": {},
   "outputs": [
    {
     "ename": "NameError",
     "evalue": "name 'als' is not defined",
     "output_type": "error",
     "traceback": [
      "\u001b[0;31m---------------------------------------------------------------------------\u001b[0m",
      "\u001b[0;31mNameError\u001b[0m                                 Traceback (most recent call last)",
      "\u001b[0;32m<ipython-input-28-46302d213d2d>\u001b[0m in \u001b[0;36m<module>\u001b[0;34m()\u001b[0m\n\u001b[1;32m      1\u001b[0m \u001b[0;31m#Evaluate RMSE on test set\u001b[0m\u001b[0;34m\u001b[0m\u001b[0;34m\u001b[0m\u001b[0m\n\u001b[0;32m----> 2\u001b[0;31m \u001b[0merror_als\u001b[0m \u001b[0;34m=\u001b[0m \u001b[0mals\u001b[0m\u001b[0;34m.\u001b[0m\u001b[0mget_rmse\u001b[0m\u001b[0;34m(\u001b[0m\u001b[0my\u001b[0m\u001b[0;34m,\u001b[0m \u001b[0mtest_preds_train\u001b[0m\u001b[0;34m)\u001b[0m\u001b[0;34m\u001b[0m\u001b[0m\n\u001b[0m\u001b[1;32m      3\u001b[0m \u001b[0merror_als\u001b[0m\u001b[0;34m\u001b[0m\u001b[0m\n",
      "\u001b[0;31mNameError\u001b[0m: name 'als' is not defined"
     ]
    }
   ],
   "source": [
    "#Evaluate RMSE on test set\n",
    "error_als = als.get_rmse(y, test_preds_train)\n",
    "error_als"
   ]
  },
  {
   "cell_type": "markdown",
   "metadata": {},
   "source": [
    "> The error looks to be the lowest yet. We will do a comparison below across the different models. Before that, let's look at the recommendations generated by this model."
   ]
  },
  {
   "cell_type": "code",
   "execution_count": 32,
   "metadata": {
    "collapsed": true
   },
   "outputs": [],
   "source": [
    "#Instatiate ALSMF class for full data\n",
    "als = ALSMF(df_normed, n_factors=10, item_reg=0.1, user_reg=0.1)"
   ]
  },
  {
   "cell_type": "code",
   "execution_count": 33,
   "metadata": {},
   "outputs": [
    {
     "name": "stdout",
     "output_type": "stream",
     "text": [
      "CPU times: user 8min 48s, sys: 5.79 s, total: 8min 54s\n",
      "Wall time: 9min 8s\n"
     ]
    }
   ],
   "source": [
    "#Train model on whole dataset\n",
    "%time als.train(40)"
   ]
  },
  {
   "cell_type": "code",
   "execution_count": 34,
   "metadata": {
    "collapsed": true
   },
   "outputs": [],
   "source": [
    "#Save model to pickle\n",
    "pd.to_pickle(als, 'alsmodel_pickle')"
   ]
  },
  {
   "cell_type": "code",
   "execution_count": 35,
   "metadata": {},
   "outputs": [
    {
     "name": "stderr",
     "output_type": "stream",
     "text": [
      "/Users/timmoti/anaconda/lib/python2.7/site-packages/ipykernel/__main__.py:96: FutureWarning: reshape is deprecated and will raise in a subsequent release. Please use .values.reshape(...) instead\n"
     ]
    },
    {
     "name": "stdout",
     "output_type": "stream",
     "text": [
      "CPU times: user 19.7 s, sys: 10.4 s, total: 30.1 s\n",
      "Wall time: 37.5 s\n"
     ]
    }
   ],
   "source": [
    "#Make predictions for entire dataset\n",
    "%time all_preds, test_preds= als_train.predict(test, mean)"
   ]
  },
  {
   "cell_type": "code",
   "execution_count": 36,
   "metadata": {
    "collapsed": true
   },
   "outputs": [],
   "source": [
    "#Save predictions to pickle\n",
    "pd.to_pickle(all_preds, 'alspreds_pickle')"
   ]
  },
  {
   "cell_type": "code",
   "execution_count": 38,
   "metadata": {},
   "outputs": [
    {
     "data": {
      "text/html": [
       "<div>\n",
       "<style scoped>\n",
       "    .dataframe tbody tr th:only-of-type {\n",
       "        vertical-align: middle;\n",
       "    }\n",
       "\n",
       "    .dataframe tbody tr th {\n",
       "        vertical-align: top;\n",
       "    }\n",
       "\n",
       "    .dataframe thead th {\n",
       "        text-align: right;\n",
       "    }\n",
       "</style>\n",
       "<table border=\"1\" class=\"dataframe\">\n",
       "  <thead>\n",
       "    <tr style=\"text-align: right;\">\n",
       "      <th></th>\n",
       "      <th>gameid</th>\n",
       "      <th>gamename</th>\n",
       "      <th>nratings</th>\n",
       "      <th>gamerank</th>\n",
       "      <th>predictions</th>\n",
       "    </tr>\n",
       "  </thead>\n",
       "  <tbody>\n",
       "    <tr>\n",
       "      <th>33</th>\n",
       "      <td>40834</td>\n",
       "      <td>Dominion: Intrigue</td>\n",
       "      <td>24025</td>\n",
       "      <td>51</td>\n",
       "      <td>8.394050</td>\n",
       "    </tr>\n",
       "    <tr>\n",
       "      <th>1</th>\n",
       "      <td>822</td>\n",
       "      <td>Carcassonne</td>\n",
       "      <td>70895</td>\n",
       "      <td>130</td>\n",
       "      <td>7.777819</td>\n",
       "    </tr>\n",
       "    <tr>\n",
       "      <th>34</th>\n",
       "      <td>463</td>\n",
       "      <td>Magic: The Gathering</td>\n",
       "      <td>23999</td>\n",
       "      <td>148</td>\n",
       "      <td>7.671080</td>\n",
       "    </tr>\n",
       "    <tr>\n",
       "      <th>52</th>\n",
       "      <td>161936</td>\n",
       "      <td>Pandemic Legacy: Season 1</td>\n",
       "      <td>20423</td>\n",
       "      <td>1</td>\n",
       "      <td>7.621510</td>\n",
       "    </tr>\n",
       "    <tr>\n",
       "      <th>24</th>\n",
       "      <td>12333</td>\n",
       "      <td>Twilight Struggle</td>\n",
       "      <td>28657</td>\n",
       "      <td>3</td>\n",
       "      <td>7.621337</td>\n",
       "    </tr>\n",
       "    <tr>\n",
       "      <th>13</th>\n",
       "      <td>14996</td>\n",
       "      <td>Ticket to Ride: Europe</td>\n",
       "      <td>37944</td>\n",
       "      <td>85</td>\n",
       "      <td>7.601219</td>\n",
       "    </tr>\n",
       "    <tr>\n",
       "      <th>89</th>\n",
       "      <td>25613</td>\n",
       "      <td>Through the Ages: A Story of Civilization</td>\n",
       "      <td>15699</td>\n",
       "      <td>18</td>\n",
       "      <td>7.598921</td>\n",
       "    </tr>\n",
       "    <tr>\n",
       "      <th>43</th>\n",
       "      <td>124742</td>\n",
       "      <td>Android: Netrunner</td>\n",
       "      <td>21275</td>\n",
       "      <td>33</td>\n",
       "      <td>7.582674</td>\n",
       "    </tr>\n",
       "    <tr>\n",
       "      <th>59</th>\n",
       "      <td>35677</td>\n",
       "      <td>Le Havre</td>\n",
       "      <td>19825</td>\n",
       "      <td>31</td>\n",
       "      <td>7.565839</td>\n",
       "    </tr>\n",
       "    <tr>\n",
       "      <th>38</th>\n",
       "      <td>18602</td>\n",
       "      <td>Caylus</td>\n",
       "      <td>22461</td>\n",
       "      <td>40</td>\n",
       "      <td>7.545787</td>\n",
       "    </tr>\n",
       "    <tr>\n",
       "      <th>44</th>\n",
       "      <td>72125</td>\n",
       "      <td>Eclipse</td>\n",
       "      <td>21231</td>\n",
       "      <td>24</td>\n",
       "      <td>7.545444</td>\n",
       "    </tr>\n",
       "    <tr>\n",
       "      <th>26</th>\n",
       "      <td>84876</td>\n",
       "      <td>The Castles of Burgundy</td>\n",
       "      <td>27173</td>\n",
       "      <td>10</td>\n",
       "      <td>7.545276</td>\n",
       "    </tr>\n",
       "    <tr>\n",
       "      <th>32</th>\n",
       "      <td>173346</td>\n",
       "      <td>7 Wonders Duel</td>\n",
       "      <td>24654</td>\n",
       "      <td>9</td>\n",
       "      <td>7.502376</td>\n",
       "    </tr>\n",
       "    <tr>\n",
       "      <th>67</th>\n",
       "      <td>93</td>\n",
       "      <td>El Grande</td>\n",
       "      <td>19020</td>\n",
       "      <td>50</td>\n",
       "      <td>7.450910</td>\n",
       "    </tr>\n",
       "    <tr>\n",
       "      <th>29</th>\n",
       "      <td>120677</td>\n",
       "      <td>Terra Mystica</td>\n",
       "      <td>25928</td>\n",
       "      <td>7</td>\n",
       "      <td>7.442136</td>\n",
       "    </tr>\n",
       "    <tr>\n",
       "      <th>68</th>\n",
       "      <td>102794</td>\n",
       "      <td>Caverna: The Cave Farmers</td>\n",
       "      <td>18401</td>\n",
       "      <td>11</td>\n",
       "      <td>7.439929</td>\n",
       "    </tr>\n",
       "    <tr>\n",
       "      <th>48</th>\n",
       "      <td>42</td>\n",
       "      <td>Tigris &amp; Euphrates</td>\n",
       "      <td>20850</td>\n",
       "      <td>62</td>\n",
       "      <td>7.424416</td>\n",
       "    </tr>\n",
       "    <tr>\n",
       "      <th>161</th>\n",
       "      <td>215</td>\n",
       "      <td>Tichu</td>\n",
       "      <td>10873</td>\n",
       "      <td>105</td>\n",
       "      <td>7.420073</td>\n",
       "    </tr>\n",
       "    <tr>\n",
       "      <th>62</th>\n",
       "      <td>96848</td>\n",
       "      <td>Mage Knight Board Game</td>\n",
       "      <td>19449</td>\n",
       "      <td>16</td>\n",
       "      <td>7.419129</td>\n",
       "    </tr>\n",
       "    <tr>\n",
       "      <th>82</th>\n",
       "      <td>132531</td>\n",
       "      <td>Roll for the Galaxy</td>\n",
       "      <td>16061</td>\n",
       "      <td>49</td>\n",
       "      <td>7.406008</td>\n",
       "    </tr>\n",
       "  </tbody>\n",
       "</table>\n",
       "</div>"
      ],
      "text/plain": [
       "     gameid                                   gamename  nratings  gamerank  \\\n",
       "33    40834                         Dominion: Intrigue     24025        51   \n",
       "1       822                                Carcassonne     70895       130   \n",
       "34      463                       Magic: The Gathering     23999       148   \n",
       "52   161936                  Pandemic Legacy: Season 1     20423         1   \n",
       "24    12333                          Twilight Struggle     28657         3   \n",
       "13    14996                     Ticket to Ride: Europe     37944        85   \n",
       "89    25613  Through the Ages: A Story of Civilization     15699        18   \n",
       "43   124742                         Android: Netrunner     21275        33   \n",
       "59    35677                                   Le Havre     19825        31   \n",
       "38    18602                                     Caylus     22461        40   \n",
       "44    72125                                    Eclipse     21231        24   \n",
       "26    84876                    The Castles of Burgundy     27173        10   \n",
       "32   173346                             7 Wonders Duel     24654         9   \n",
       "67       93                                  El Grande     19020        50   \n",
       "29   120677                              Terra Mystica     25928         7   \n",
       "68   102794                  Caverna: The Cave Farmers     18401        11   \n",
       "48       42                         Tigris & Euphrates     20850        62   \n",
       "161     215                                      Tichu     10873       105   \n",
       "62    96848                     Mage Knight Board Game     19449        16   \n",
       "82   132531                        Roll for the Galaxy     16061        49   \n",
       "\n",
       "     predictions  \n",
       "33      8.394050  \n",
       "1       7.777819  \n",
       "34      7.671080  \n",
       "52      7.621510  \n",
       "24      7.621337  \n",
       "13      7.601219  \n",
       "89      7.598921  \n",
       "43      7.582674  \n",
       "59      7.565839  \n",
       "38      7.545787  \n",
       "44      7.545444  \n",
       "26      7.545276  \n",
       "32      7.502376  \n",
       "67      7.450910  \n",
       "29      7.442136  \n",
       "68      7.439929  \n",
       "48      7.424416  \n",
       "161     7.420073  \n",
       "62      7.419129  \n",
       "82      7.406008  "
      ]
     },
     "execution_count": 38,
     "metadata": {},
     "output_type": "execute_result"
    }
   ],
   "source": [
    "#Predict for a specified user\n",
    "me_als = als.recommend(df, 'passthedynamite', games, all_preds)\n",
    "me_als.head(20)"
   ]
  },
  {
   "cell_type": "markdown",
   "metadata": {},
   "source": [
    "> Much like the SVD model with 10 latent factors , the results for this list of 20 consists of games that are high in the board game geek rankings and looks very similar to that list."
   ]
  },
  {
   "cell_type": "code",
   "execution_count": 156,
   "metadata": {},
   "outputs": [
    {
     "data": {
      "image/png": "[encoded data removed]",
      "text/plain": [
       "<matplotlib.figure.Figure at 0x111991fd0>"
      ]
     },
     "metadata": {
      "image/png": {
       "height": 381,
       "width": 788
      }
     },
     "output_type": "display_data"
    }
   ],
   "source": [
    "fig, ax = plt.subplots(1,2, figsize=(13,6))\n",
    "sns.distplot(me_als.head(20)['nratings'], ax=ax[0])\n",
    "sns.distplot(me_als.head(20)['gamerank'], ax=ax[1])\n",
    "plt.show()"
   ]
  },
  {
   "cell_type": "markdown",
   "metadata": {},
   "source": [
    "> The plots for the non-negative matrix factorization model looks just like that for SVD with 10 latent factors"
   ]
  },
  {
   "cell_type": "code",
   "execution_count": null,
   "metadata": {
    "collapsed": true
   },
   "outputs": [],
   "source": [
    "#Comparison of RMSE across models\n",
    "pd.DataFrame()"
   ]
  },
  {
   "cell_type": "markdown",
   "metadata": {},
   "source": [
    "## Which model to choose?\n",
    "> We have seen the results of the recommendations and the RMSE scores. Judging solely by the RMSE scores we are inclined to conclude that matrix factorization with 10 latent factors (SVD or NNMF) yields the most accurate scores. However, the top 20 lists they produce seem to only include games that are already popular on the website, which begs the question, what determines popularity of a game, the number of ratings or its rank?"
   ]
  },
  {
   "cell_type": "code",
   "execution_count": null,
   "metadata": {
    "collapsed": true
   },
   "outputs": [],
   "source": []
  },
  {
   "cell_type": "code",
   "execution_count": null,
   "metadata": {
    "collapsed": true
   },
   "outputs": [],
   "source": [
    "df[13].mean()"
   ]
  },
  {
   "cell_type": "code",
   "execution_count": 170,
   "metadata": {},
   "outputs": [
    {
     "data": {
      "image/png": "[encoded data removed]",
      "text/plain": [
       "<matplotlib.figure.Figure at 0x11e6a3310>"
      ]
     },
     "metadata": {
      "image/png": {
       "height": 425,
       "width": 439
      }
     },
     "output_type": "display_data"
    }
   ],
   "source": [
    "#Plot scatterplot of number of ratings vs gamerank\n",
    "sns.jointplot(games['nratings'], games['gamerank'])\n",
    "plt.show()"
   ]
  },
  {
   "cell_type": "markdown",
   "metadata": {},
   "source": [
    "> A quick look at the correlation between both variables suggests that there is little to no correlation between a game's rank and how many users have rated it. That being said, we can observe that the most rated games tend to trend near the top of the rankings. It is safe to say that both measures determine a game's popularity.     \n",
    "\n",
    "> Users that rate games on the site are quite a serious bunch and most likely would have looked for games via the ranking system first. The thing is, not all games on the top 100-200 will appeal to everyone and there is merit to recommending popular games that you will likely enjoy. However, the sense of serendipity is not there with lists that are too 'rigid' in their presentation. I was actually pleasantly surprised to discover a new game that was recommended to me via the 'lesser' cosine similarity algorithm.\n",
    "\n",
    "> The quality of a board game recommender system also depends on what it is positioned to accomplish. If it is to help one narrow down the choices of games to play or purchase next, it would seem that having high accuracy on the most popular games would help. On the other hand, if it is to discover new games on a regular basis, a less accurate but more serendipitous version would be ideal.\n",
    "\n",
    "> An ideal boardgame recommender system for BoardGameGeek users, at least to me personally, would be one that recommends me games from the popular bunch to look out for but also throws in some surprises with games that are further down the ranking order. Perhaps even 2 sets of top 20s with explanations such as \"High-ranked games you might like' and 'Hidden gems similar to your taste'"
   ]
  },
  {
   "cell_type": "markdown",
   "metadata": {},
   "source": [
    "## One last thing"
   ]
  },
  {
   "cell_type": "markdown",
   "metadata": {},
   "source": [
    "> Recommender systems are as much an art as a science. Getting the best offline scores might not necessarily translate to consumer satisfaction. A good recommender system should get to know the end user really well over time but not too well. It is somewhat analagous to a marriage. Too much knowledge and understanding can lead to boredom. \n",
    "\n",
    ">In my opinion, a good recommender system should adjust its recommendations based on factors like context and time, creating somewhat of a snowball effect as the user continues using it. It takes some skill in deciding what items to display for serendipity, how often to display them, when to display them and at what percentage of the list. \n",
    "\n",
    ">Ultimately it should gain the trust of the user while keeping things fresh."
   ]
  },
  {
   "cell_type": "markdown",
   "metadata": {},
   "source": [
    "## What's next?\n",
    "> In part 3, we will be building a web app using flask, deploy it to the cloud and possibly get some online evaluation from actual Boardgamegeek users. \n",
    "\n",
    "> As for further modeling work, here are some areas that can be further investigated.\n",
    "1. Acquire game features and build a content-based filtering recommender\n",
    "2. Evaluate with ranking metrics such as Mean Average Precision @ k\n",
    "3. Modeling with a graph-based network like neo4j\n",
    "4. Apply wide and deep learning for better memorization and generalization\n",
    "5. Explore the application of a hybrid recommender model\n",
    "6. Explore group recommendations which aggregates a group's gaming interests together to recommend games\n",
    "7. Assess a computationally less expensive approach to user-user cosine similarity"
   ]
  },
  {
   "cell_type": "code",
   "execution_count": null,
   "metadata": {
    "collapsed": true
   },
   "outputs": [],
   "source": []
  }
 ],
 "metadata": {
  "anaconda-cloud": {},
  "kernelspec": {
   "display_name": "Python 2",
   "language": "python",
   "name": "python2"
  },
  "language_info": {
   "codemirror_mode": {
    "name": "ipython",
    "version": 2
   },
   "file_extension": ".py",
   "mimetype": "text/x-python",
   "name": "python",
   "nbconvert_exporter": "python",
   "pygments_lexer": "ipython2",
   "version": "2.7.9"
  }
 },
 "nbformat": 4,
 "nbformat_minor": 1
}
