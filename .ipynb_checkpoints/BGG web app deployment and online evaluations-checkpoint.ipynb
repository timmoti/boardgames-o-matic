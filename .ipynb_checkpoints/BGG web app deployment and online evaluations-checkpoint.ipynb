{
 "cells": [
  {
   "cell_type": "markdown",
   "metadata": {},
   "source": [
    "# Building a Boardgame Recommender System for BoardGameGeek users\n",
    "\n",
    "## Part 3: Web app deployment and online evaluations\n",
    "*by Timothy Tan*\n",
    "\n",
    "---\n",
    "\n",
    "> In this final part of our trilogy, we will be building a web app using flask, HTML and CSS. The app will be hosted on an AWS EC2 instance, which due to our large pickled file sizes, has to be upgraded to one with 16GB ram and 4 virtual CPUs. The ultimate aim is to deploy a functioning app that is able to generate recommendations based on 3 different algorithms, SVD with 50 latent factors (SVD50), Non-negative matrix factorization with Weighted Alternating Least Squares (ALS) and Cosine Similarity."
   ]
  },
  {
   "cell_type": "markdown",
   "metadata": {},
   "source": [
    "### Developing the flask app"
   ]
  },
  {
   "cell_type": "markdown",
   "metadata": {},
   "source": [
    "> In the flask environment, we have a controller.py file, which contains the routes and logic flow from one HTML file to the next. We also store our recommendation functions for each algorithm in there for quick processing and delivery. Our predictions and item-item similarity matrix are passed in as pickled files and are stored directly into the EC2 instance. The app's files are stored in a github repository where they are synced automatically between the AWS servers and Github's via a bash script utilizing crontabs.\n",
    "\n",
    "> The flow for a potential respondent is as follows: they first enter their username on Boardgamegeek.com into an input text field. The first list of 20 games will be displayed. They will have to rate the list in a binary format, which will take them to the next page where the method used to generate the list is briefly mentioned. Clicking on 'New List' brings them to the next list of 20 games. The lists generated are always in the same sequential flow: SVD50, ALS and finally Cosine Similarity.\n",
    "\n",
    "> In doing so, I am inadvertently experimenting on live subjects, to see which model churns out lists that best resonate with them, and help them in their research for the next game they should put on their gaming table."
   ]
  },
  {
   "cell_type": "markdown",
   "metadata": {},
   "source": [
    "### Analyzing the online evaluation results"
   ]
  },
  {
   "cell_type": "code",
   "execution_count": 123,
   "metadata": {
    "collapsed": true
   },
   "outputs": [],
   "source": [
    "import pandas as pd\n",
    "import numpy as np\n"
   ]
  },
  {
   "cell_type": "code",
   "execution_count": 90,
   "metadata": {},
   "outputs": [],
   "source": [
    "#Read comma-separated txt file into a dataframe\n",
    "data = pd.read_csv('result.txt', sep=\",\", header=None)\n",
    "data.columns = ['username', 'algo', 'liked']"
   ]
  },
  {
   "cell_type": "code",
   "execution_count": 91,
   "metadata": {},
   "outputs": [
    {
     "data": {
      "text/html": [
       "<div>\n",
       "<style scoped>\n",
       "    .dataframe tbody tr th:only-of-type {\n",
       "        vertical-align: middle;\n",
       "    }\n",
       "\n",
       "    .dataframe tbody tr th {\n",
       "        vertical-align: top;\n",
       "    }\n",
       "\n",
       "    .dataframe thead th {\n",
       "        text-align: right;\n",
       "    }\n",
       "</style>\n",
       "<table border=\"1\" class=\"dataframe\">\n",
       "  <thead>\n",
       "    <tr style=\"text-align: right;\">\n",
       "      <th></th>\n",
       "      <th>username</th>\n",
       "      <th>algo</th>\n",
       "      <th>liked</th>\n",
       "    </tr>\n",
       "  </thead>\n",
       "  <tbody>\n",
       "    <tr>\n",
       "      <th>0</th>\n",
       "      <td>passthedynamite</td>\n",
       "      <td>svd</td>\n",
       "      <td>1</td>\n",
       "    </tr>\n",
       "    <tr>\n",
       "      <th>1</th>\n",
       "      <td>passthedynamite</td>\n",
       "      <td>als</td>\n",
       "      <td>1</td>\n",
       "    </tr>\n",
       "    <tr>\n",
       "      <th>2</th>\n",
       "      <td>passthedynamite</td>\n",
       "      <td>cos</td>\n",
       "      <td>1</td>\n",
       "    </tr>\n",
       "    <tr>\n",
       "      <th>3</th>\n",
       "      <td>manueld</td>\n",
       "      <td>svd</td>\n",
       "      <td>1</td>\n",
       "    </tr>\n",
       "    <tr>\n",
       "      <th>4</th>\n",
       "      <td>DobbelB</td>\n",
       "      <td>svd</td>\n",
       "      <td>0</td>\n",
       "    </tr>\n",
       "  </tbody>\n",
       "</table>\n",
       "</div>"
      ],
      "text/plain": [
       "          username algo  liked\n",
       "0  passthedynamite  svd      1\n",
       "1  passthedynamite  als      1\n",
       "2  passthedynamite  cos      1\n",
       "3          manueld  svd      1\n",
       "4          DobbelB  svd      0"
      ]
     },
     "execution_count": 91,
     "metadata": {},
     "output_type": "execute_result"
    }
   ],
   "source": [
    "data.head()"
   ]
  },
  {
   "cell_type": "code",
   "execution_count": 92,
   "metadata": {},
   "outputs": [
    {
     "name": "stdout",
     "output_type": "stream",
     "text": [
      "<class 'pandas.core.frame.DataFrame'>\n",
      "RangeIndex: 279 entries, 0 to 278\n",
      "Data columns (total 3 columns):\n",
      "username    279 non-null object\n",
      "algo        279 non-null object\n",
      "liked       279 non-null int64\n",
      "dtypes: int64(1), object(2)\n",
      "memory usage: 6.6+ KB\n"
     ]
    }
   ],
   "source": [
    "data.info()"
   ]
  },
  {
   "cell_type": "code",
   "execution_count": 126,
   "metadata": {},
   "outputs": [
    {
     "data": {
      "text/plain": [
       "120"
      ]
     },
     "execution_count": 126,
     "metadata": {},
     "output_type": "execute_result"
    }
   ],
   "source": [
    "#Total number of unique usernames\n",
    "unique_users = data['username'].nunique()\n",
    "unique_users"
   ]
  },
  {
   "cell_type": "code",
   "execution_count": 94,
   "metadata": {
    "scrolled": true
   },
   "outputs": [
    {
     "data": {
      "text/html": [
       "<div>\n",
       "<style scoped>\n",
       "    .dataframe tbody tr th:only-of-type {\n",
       "        vertical-align: middle;\n",
       "    }\n",
       "\n",
       "    .dataframe tbody tr th {\n",
       "        vertical-align: top;\n",
       "    }\n",
       "\n",
       "    .dataframe thead th {\n",
       "        text-align: right;\n",
       "    }\n",
       "</style>\n",
       "<table border=\"1\" class=\"dataframe\">\n",
       "  <thead>\n",
       "    <tr style=\"text-align: right;\">\n",
       "      <th></th>\n",
       "      <th>username</th>\n",
       "      <th>algo</th>\n",
       "      <th>liked</th>\n",
       "    </tr>\n",
       "  </thead>\n",
       "  <tbody>\n",
       "    <tr>\n",
       "      <th>250</th>\n",
       "      <td>R0land1199</td>\n",
       "      <td>svd</td>\n",
       "      <td>1</td>\n",
       "    </tr>\n",
       "  </tbody>\n",
       "</table>\n",
       "</div>"
      ],
      "text/plain": [
       "       username algo  liked\n",
       "250  R0land1199  svd      1"
      ]
     },
     "execution_count": 94,
     "metadata": {},
     "output_type": "execute_result"
    }
   ],
   "source": [
    "data[data.duplicated()]"
   ]
  },
  {
   "cell_type": "markdown",
   "metadata": {},
   "source": [
    "> Not sure how there can be a duplicate. Probably occured when I was updating the web app."
   ]
  },
  {
   "cell_type": "code",
   "execution_count": 95,
   "metadata": {},
   "outputs": [],
   "source": [
    "#Drop duplicate\n",
    "data.drop(250, inplace=True)"
   ]
  },
  {
   "cell_type": "code",
   "execution_count": 96,
   "metadata": {},
   "outputs": [
    {
     "data": {
      "text/plain": [
       "(278, 3)"
      ]
     },
     "execution_count": 96,
     "metadata": {},
     "output_type": "execute_result"
    }
   ],
   "source": [
    "data.shape"
   ]
  },
  {
   "cell_type": "code",
   "execution_count": 104,
   "metadata": {},
   "outputs": [],
   "source": [
    "#Groupby username to count the total number of lists each respondent liked.\n",
    "liked = data.groupby('username')['liked'].sum()"
   ]
  },
  {
   "cell_type": "code",
   "execution_count": 125,
   "metadata": {},
   "outputs": [
    {
     "data": {
      "text/plain": [
       "86"
      ]
     },
     "execution_count": 125,
     "metadata": {},
     "output_type": "execute_result"
    }
   ],
   "source": [
    "#Number of users that liked at least 1 list\n",
    "liked_one = liked[liked > 0].count()\n",
    "liked_one"
   ]
  },
  {
   "cell_type": "code",
   "execution_count": 128,
   "metadata": {},
   "outputs": [
    {
     "data": {
      "text/plain": [
       "0.7166666666666667"
      ]
     },
     "execution_count": 128,
     "metadata": {},
     "output_type": "execute_result"
    }
   ],
   "source": [
    "percentage_liked = float(liked_one)/unique_users\n",
    "percentage_liked"
   ]
  },
  {
   "cell_type": "markdown",
   "metadata": {},
   "source": [
    "> This value evaluates the usefulness of the app itself. More than 2/3s of respondents can use at least one of the lists to help them find new games that should probably like."
   ]
  },
  {
   "cell_type": "code",
   "execution_count": 108,
   "metadata": {
    "scrolled": true
   },
   "outputs": [],
   "source": [
    "#Using groupby again to count the number of lists each repondent actually rated.\n",
    "count = data.groupby(['username']).count()"
   ]
  },
  {
   "cell_type": "code",
   "execution_count": 109,
   "metadata": {},
   "outputs": [
    {
     "data": {
      "text/html": [
       "<div>\n",
       "<style scoped>\n",
       "    .dataframe tbody tr th:only-of-type {\n",
       "        vertical-align: middle;\n",
       "    }\n",
       "\n",
       "    .dataframe tbody tr th {\n",
       "        vertical-align: top;\n",
       "    }\n",
       "\n",
       "    .dataframe thead th {\n",
       "        text-align: right;\n",
       "    }\n",
       "</style>\n",
       "<table border=\"1\" class=\"dataframe\">\n",
       "  <thead>\n",
       "    <tr style=\"text-align: right;\">\n",
       "      <th></th>\n",
       "      <th>algo</th>\n",
       "      <th>liked</th>\n",
       "    </tr>\n",
       "    <tr>\n",
       "      <th>username</th>\n",
       "      <th></th>\n",
       "      <th></th>\n",
       "    </tr>\n",
       "  </thead>\n",
       "  <tbody>\n",
       "    <tr>\n",
       "      <th>123ABC</th>\n",
       "      <td>1</td>\n",
       "      <td>1</td>\n",
       "    </tr>\n",
       "    <tr>\n",
       "      <th>Abiezer Coppe</th>\n",
       "      <td>1</td>\n",
       "      <td>1</td>\n",
       "    </tr>\n",
       "    <tr>\n",
       "      <th>Adamvic</th>\n",
       "      <td>1</td>\n",
       "      <td>1</td>\n",
       "    </tr>\n",
       "    <tr>\n",
       "      <th>AlexFS</th>\n",
       "      <td>2</td>\n",
       "      <td>2</td>\n",
       "    </tr>\n",
       "    <tr>\n",
       "      <th>Black Alexidor</th>\n",
       "      <td>2</td>\n",
       "      <td>2</td>\n",
       "    </tr>\n",
       "  </tbody>\n",
       "</table>\n",
       "</div>"
      ],
      "text/plain": [
       "                algo  liked\n",
       "username                   \n",
       "123ABC             1      1\n",
       "Abiezer Coppe      1      1\n",
       "Adamvic            1      1\n",
       "AlexFS             2      2\n",
       "Black Alexidor     2      2"
      ]
     },
     "execution_count": 109,
     "metadata": {},
     "output_type": "execute_result"
    }
   ],
   "source": [
    "count.head()"
   ]
  },
  {
   "cell_type": "code",
   "execution_count": 132,
   "metadata": {
    "scrolled": true
   },
   "outputs": [
    {
     "data": {
      "text/plain": [
       "69"
      ]
     },
     "execution_count": 132,
     "metadata": {},
     "output_type": "execute_result"
    }
   ],
   "source": [
    "#Number of unique usernames that rated all 3 lists\n",
    "all_3 = count[count['algo'] == 3].count()[0]\n",
    "all_3"
   ]
  },
  {
   "cell_type": "code",
   "execution_count": 134,
   "metadata": {},
   "outputs": [
    {
     "data": {
      "text/plain": [
       "0.575"
      ]
     },
     "execution_count": 134,
     "metadata": {},
     "output_type": "execute_result"
    }
   ],
   "source": [
    "percentage_all_3 = float(all_3)/unique_users\n",
    "percentage_all_3"
   ]
  },
  {
   "cell_type": "markdown",
   "metadata": {},
   "source": [
    "> This value evaluates the UX/UI component of the web app. Slightly more than half of respondents actually managed to see all 3 lists. I had to iterate over the front page to include new instructions to rate all 3 lists before exiting, in a bid to boost users that go to full completion of the 'survey'."
   ]
  },
  {
   "cell_type": "code",
   "execution_count": 111,
   "metadata": {
    "collapsed": true
   },
   "outputs": [],
   "source": [
    "#Store users that rated all 3 as we will be using it to evaluate the models efficacy\n",
    "df = count[count['algo'] == 3]"
   ]
  },
  {
   "cell_type": "code",
   "execution_count": 112,
   "metadata": {},
   "outputs": [
    {
     "data": {
      "text/html": [
       "<div>\n",
       "<style scoped>\n",
       "    .dataframe tbody tr th:only-of-type {\n",
       "        vertical-align: middle;\n",
       "    }\n",
       "\n",
       "    .dataframe tbody tr th {\n",
       "        vertical-align: top;\n",
       "    }\n",
       "\n",
       "    .dataframe thead th {\n",
       "        text-align: right;\n",
       "    }\n",
       "</style>\n",
       "<table border=\"1\" class=\"dataframe\">\n",
       "  <thead>\n",
       "    <tr style=\"text-align: right;\">\n",
       "      <th></th>\n",
       "      <th>algo</th>\n",
       "      <th>liked</th>\n",
       "    </tr>\n",
       "    <tr>\n",
       "      <th>username</th>\n",
       "      <th></th>\n",
       "      <th></th>\n",
       "    </tr>\n",
       "  </thead>\n",
       "  <tbody>\n",
       "    <tr>\n",
       "      <th>Carthoris</th>\n",
       "      <td>3</td>\n",
       "      <td>3</td>\n",
       "    </tr>\n",
       "    <tr>\n",
       "      <th>Darzebass</th>\n",
       "      <td>3</td>\n",
       "      <td>3</td>\n",
       "    </tr>\n",
       "    <tr>\n",
       "      <th>DobbelB</th>\n",
       "      <td>3</td>\n",
       "      <td>3</td>\n",
       "    </tr>\n",
       "    <tr>\n",
       "      <th>EliasDKehr</th>\n",
       "      <td>3</td>\n",
       "      <td>3</td>\n",
       "    </tr>\n",
       "    <tr>\n",
       "      <th>FrozenHoHos</th>\n",
       "      <td>3</td>\n",
       "      <td>3</td>\n",
       "    </tr>\n",
       "  </tbody>\n",
       "</table>\n",
       "</div>"
      ],
      "text/plain": [
       "             algo  liked\n",
       "username                \n",
       "Carthoris       3      3\n",
       "Darzebass       3      3\n",
       "DobbelB         3      3\n",
       "EliasDKehr      3      3\n",
       "FrozenHoHos     3      3"
      ]
     },
     "execution_count": 112,
     "metadata": {},
     "output_type": "execute_result"
    }
   ],
   "source": [
    "df.head()"
   ]
  },
  {
   "cell_type": "code",
   "execution_count": 113,
   "metadata": {
    "scrolled": true
   },
   "outputs": [
    {
     "data": {
      "text/plain": [
       "0      passthedynamite\n",
       "1      passthedynamite\n",
       "2      passthedynamite\n",
       "3              manueld\n",
       "4              DobbelB\n",
       "5              DobbelB\n",
       "6              DobbelB\n",
       "7           owenwill21\n",
       "8        Abiezer Coppe\n",
       "9           willshaw67\n",
       "10          willshaw67\n",
       "11          willshaw67\n",
       "12              ins3kT\n",
       "13              ins3kT\n",
       "14              ins3kT\n",
       "15            Windmark\n",
       "16            Windmark\n",
       "17            Windmark\n",
       "18           MADG0BLIN\n",
       "19       rubberchicken\n",
       "20       rubberchicken\n",
       "21       rubberchicken\n",
       "22              AlexFS\n",
       "23              AlexFS\n",
       "24            Geekorok\n",
       "25             Stivers\n",
       "26           revgiblet\n",
       "27             Verglas\n",
       "28           revgiblet\n",
       "29     TatertotEatalot\n",
       "            ...       \n",
       "248            vdwoord\n",
       "249         R0land1199\n",
       "251         R0land1199\n",
       "252         R0land1199\n",
       "253          jaredkass\n",
       "254          jaredkass\n",
       "255           amuromax\n",
       "256           amuromax\n",
       "257            lambo89\n",
       "258            lambo89\n",
       "259            lambo89\n",
       "260          constancy\n",
       "261          constancy\n",
       "262          constancy\n",
       "263              Suzor\n",
       "264            floppei\n",
       "265            floppei\n",
       "266            floppei\n",
       "267           mcpranno\n",
       "268           mcpranno\n",
       "269           mcpranno\n",
       "270           drobison\n",
       "271           drobison\n",
       "272           drobison\n",
       "273               bard\n",
       "274               bard\n",
       "275               bard\n",
       "276              cpf86\n",
       "277              cpf86\n",
       "278              cpf86\n",
       "Name: username, Length: 278, dtype: object"
      ]
     },
     "execution_count": 113,
     "metadata": {},
     "output_type": "execute_result"
    }
   ],
   "source": [
    "data['username']"
   ]
  },
  {
   "cell_type": "code",
   "execution_count": 114,
   "metadata": {
    "scrolled": true
   },
   "outputs": [
    {
     "data": {
      "text/plain": [
       "Index([u'Carthoris', u'Darzebass', u'DobbelB', u'EliasDKehr', u'FrozenHoHos',\n",
       "       u'Haschim', u'Ilikegames', u'Kalakazo', u'Kisco', u'Mentat1231',\n",
       "       u'PYREST', u'R0land1199', u'Ranior', u'Ren3', u'Rushifell', u'Santiago',\n",
       "       u'Scrabbler', u'SonyBlack', u'Sparklie', u'Spyzou', u'TatertotEatalot',\n",
       "       u'Verglas', u'Wight1984', u'Windmark', u'aaj94', u'acedaryl1', u'adamw',\n",
       "       u'ajsoares', u'alenen', u'alleserik', u'bard', u'bengkohn',\n",
       "       u'bitatmoonl', u'brewdinar', u'coltbeatsall', u'constancy', u'cpf86',\n",
       "       u'damonstea', u'dizzybit', u'drobison', u'floppei', u'gatchaman',\n",
       "       u'greendayfan333', u'ins3kT', u'jdw734', u'jmdsplotter', u'jujulautre',\n",
       "       u'lambo89', u'lee elektrik', u'lekky', u'lokipm', u'marronigus',\n",
       "       u'mcpranno', u'meomwt', u'mildthrill', u'ovis', u'passthedynamite',\n",
       "       u'picklethehutt', u'randall', u'revgiblet', u'rubberchicken',\n",
       "       u'shutterbugtn', u'smwoz17', u'team_bonnie', u'terrakhan', u'tfoz15',\n",
       "       u'thebilliard5', u'vdwoord', u'willshaw67'],\n",
       "      dtype='object', name=u'username')"
      ]
     },
     "execution_count": 114,
     "metadata": {},
     "output_type": "execute_result"
    }
   ],
   "source": [
    "df.index"
   ]
  },
  {
   "cell_type": "code",
   "execution_count": 115,
   "metadata": {},
   "outputs": [
    {
     "data": {
      "text/plain": [
       "Int64Index([  0,   1,   2,   3,   4,   5,   6,   7,   8,   9,\n",
       "            ...\n",
       "            269, 270, 271, 272, 273, 274, 275, 276, 277, 278],\n",
       "           dtype='int64', length=278)"
      ]
     },
     "execution_count": 115,
     "metadata": {},
     "output_type": "execute_result"
    }
   ],
   "source": [
    "data['username'].index"
   ]
  },
  {
   "cell_type": "code",
   "execution_count": 116,
   "metadata": {},
   "outputs": [],
   "source": [
    "#Extract indices of the main dataframe where users did not rate all 3 lists. Use these indices to drop those users \n",
    "#from the main dataframe\n",
    "drop_list = []\n",
    "for name in data['username']:\n",
    "    if name not in df.index:\n",
    "        drop_list.extend(np.where(data['username'] == name)[0].tolist())\n"
   ]
  },
  {
   "cell_type": "code",
   "execution_count": 117,
   "metadata": {
    "scrolled": true
   },
   "outputs": [
    {
     "data": {
      "text/plain": [
       "111"
      ]
     },
     "execution_count": 117,
     "metadata": {},
     "output_type": "execute_result"
    }
   ],
   "source": [
    "len(drop_list)"
   ]
  },
  {
   "cell_type": "code",
   "execution_count": 118,
   "metadata": {},
   "outputs": [],
   "source": [
    "df_final = data.drop(drop_list)"
   ]
  },
  {
   "cell_type": "code",
   "execution_count": 119,
   "metadata": {
    "scrolled": true
   },
   "outputs": [
    {
     "data": {
      "text/html": [
       "<div>\n",
       "<style scoped>\n",
       "    .dataframe tbody tr th:only-of-type {\n",
       "        vertical-align: middle;\n",
       "    }\n",
       "\n",
       "    .dataframe tbody tr th {\n",
       "        vertical-align: top;\n",
       "    }\n",
       "\n",
       "    .dataframe thead th {\n",
       "        text-align: right;\n",
       "    }\n",
       "</style>\n",
       "<table border=\"1\" class=\"dataframe\">\n",
       "  <thead>\n",
       "    <tr style=\"text-align: right;\">\n",
       "      <th></th>\n",
       "      <th>username</th>\n",
       "      <th>algo</th>\n",
       "      <th>liked</th>\n",
       "    </tr>\n",
       "  </thead>\n",
       "  <tbody>\n",
       "    <tr>\n",
       "      <th>0</th>\n",
       "      <td>passthedynamite</td>\n",
       "      <td>svd</td>\n",
       "      <td>1</td>\n",
       "    </tr>\n",
       "    <tr>\n",
       "      <th>1</th>\n",
       "      <td>passthedynamite</td>\n",
       "      <td>als</td>\n",
       "      <td>1</td>\n",
       "    </tr>\n",
       "    <tr>\n",
       "      <th>2</th>\n",
       "      <td>passthedynamite</td>\n",
       "      <td>cos</td>\n",
       "      <td>1</td>\n",
       "    </tr>\n",
       "    <tr>\n",
       "      <th>4</th>\n",
       "      <td>DobbelB</td>\n",
       "      <td>svd</td>\n",
       "      <td>0</td>\n",
       "    </tr>\n",
       "    <tr>\n",
       "      <th>5</th>\n",
       "      <td>DobbelB</td>\n",
       "      <td>als</td>\n",
       "      <td>1</td>\n",
       "    </tr>\n",
       "    <tr>\n",
       "      <th>6</th>\n",
       "      <td>DobbelB</td>\n",
       "      <td>cos</td>\n",
       "      <td>1</td>\n",
       "    </tr>\n",
       "    <tr>\n",
       "      <th>9</th>\n",
       "      <td>willshaw67</td>\n",
       "      <td>svd</td>\n",
       "      <td>0</td>\n",
       "    </tr>\n",
       "    <tr>\n",
       "      <th>10</th>\n",
       "      <td>willshaw67</td>\n",
       "      <td>als</td>\n",
       "      <td>1</td>\n",
       "    </tr>\n",
       "    <tr>\n",
       "      <th>11</th>\n",
       "      <td>willshaw67</td>\n",
       "      <td>cos</td>\n",
       "      <td>0</td>\n",
       "    </tr>\n",
       "    <tr>\n",
       "      <th>12</th>\n",
       "      <td>ins3kT</td>\n",
       "      <td>svd</td>\n",
       "      <td>1</td>\n",
       "    </tr>\n",
       "    <tr>\n",
       "      <th>13</th>\n",
       "      <td>ins3kT</td>\n",
       "      <td>als</td>\n",
       "      <td>1</td>\n",
       "    </tr>\n",
       "    <tr>\n",
       "      <th>14</th>\n",
       "      <td>ins3kT</td>\n",
       "      <td>cos</td>\n",
       "      <td>1</td>\n",
       "    </tr>\n",
       "    <tr>\n",
       "      <th>15</th>\n",
       "      <td>Windmark</td>\n",
       "      <td>svd</td>\n",
       "      <td>1</td>\n",
       "    </tr>\n",
       "    <tr>\n",
       "      <th>16</th>\n",
       "      <td>Windmark</td>\n",
       "      <td>als</td>\n",
       "      <td>1</td>\n",
       "    </tr>\n",
       "    <tr>\n",
       "      <th>17</th>\n",
       "      <td>Windmark</td>\n",
       "      <td>cos</td>\n",
       "      <td>1</td>\n",
       "    </tr>\n",
       "    <tr>\n",
       "      <th>19</th>\n",
       "      <td>rubberchicken</td>\n",
       "      <td>svd</td>\n",
       "      <td>1</td>\n",
       "    </tr>\n",
       "    <tr>\n",
       "      <th>20</th>\n",
       "      <td>rubberchicken</td>\n",
       "      <td>als</td>\n",
       "      <td>1</td>\n",
       "    </tr>\n",
       "    <tr>\n",
       "      <th>21</th>\n",
       "      <td>rubberchicken</td>\n",
       "      <td>cos</td>\n",
       "      <td>1</td>\n",
       "    </tr>\n",
       "    <tr>\n",
       "      <th>26</th>\n",
       "      <td>revgiblet</td>\n",
       "      <td>svd</td>\n",
       "      <td>1</td>\n",
       "    </tr>\n",
       "    <tr>\n",
       "      <th>27</th>\n",
       "      <td>Verglas</td>\n",
       "      <td>svd</td>\n",
       "      <td>0</td>\n",
       "    </tr>\n",
       "    <tr>\n",
       "      <th>28</th>\n",
       "      <td>revgiblet</td>\n",
       "      <td>als</td>\n",
       "      <td>0</td>\n",
       "    </tr>\n",
       "    <tr>\n",
       "      <th>29</th>\n",
       "      <td>TatertotEatalot</td>\n",
       "      <td>svd</td>\n",
       "      <td>0</td>\n",
       "    </tr>\n",
       "    <tr>\n",
       "      <th>30</th>\n",
       "      <td>Verglas</td>\n",
       "      <td>als</td>\n",
       "      <td>0</td>\n",
       "    </tr>\n",
       "    <tr>\n",
       "      <th>32</th>\n",
       "      <td>TatertotEatalot</td>\n",
       "      <td>als</td>\n",
       "      <td>1</td>\n",
       "    </tr>\n",
       "    <tr>\n",
       "      <th>33</th>\n",
       "      <td>revgiblet</td>\n",
       "      <td>cos</td>\n",
       "      <td>1</td>\n",
       "    </tr>\n",
       "    <tr>\n",
       "      <th>34</th>\n",
       "      <td>TatertotEatalot</td>\n",
       "      <td>cos</td>\n",
       "      <td>0</td>\n",
       "    </tr>\n",
       "    <tr>\n",
       "      <th>35</th>\n",
       "      <td>Verglas</td>\n",
       "      <td>cos</td>\n",
       "      <td>1</td>\n",
       "    </tr>\n",
       "    <tr>\n",
       "      <th>37</th>\n",
       "      <td>Mentat1231</td>\n",
       "      <td>svd</td>\n",
       "      <td>0</td>\n",
       "    </tr>\n",
       "    <tr>\n",
       "      <th>38</th>\n",
       "      <td>Mentat1231</td>\n",
       "      <td>als</td>\n",
       "      <td>0</td>\n",
       "    </tr>\n",
       "    <tr>\n",
       "      <th>39</th>\n",
       "      <td>Mentat1231</td>\n",
       "      <td>cos</td>\n",
       "      <td>1</td>\n",
       "    </tr>\n",
       "    <tr>\n",
       "      <th>...</th>\n",
       "      <td>...</td>\n",
       "      <td>...</td>\n",
       "      <td>...</td>\n",
       "    </tr>\n",
       "    <tr>\n",
       "      <th>243</th>\n",
       "      <td>vdwoord</td>\n",
       "      <td>svd</td>\n",
       "      <td>0</td>\n",
       "    </tr>\n",
       "    <tr>\n",
       "      <th>244</th>\n",
       "      <td>lee elektrik</td>\n",
       "      <td>svd</td>\n",
       "      <td>1</td>\n",
       "    </tr>\n",
       "    <tr>\n",
       "      <th>245</th>\n",
       "      <td>lee elektrik</td>\n",
       "      <td>als</td>\n",
       "      <td>0</td>\n",
       "    </tr>\n",
       "    <tr>\n",
       "      <th>246</th>\n",
       "      <td>lee elektrik</td>\n",
       "      <td>cos</td>\n",
       "      <td>1</td>\n",
       "    </tr>\n",
       "    <tr>\n",
       "      <th>247</th>\n",
       "      <td>vdwoord</td>\n",
       "      <td>als</td>\n",
       "      <td>0</td>\n",
       "    </tr>\n",
       "    <tr>\n",
       "      <th>248</th>\n",
       "      <td>vdwoord</td>\n",
       "      <td>cos</td>\n",
       "      <td>0</td>\n",
       "    </tr>\n",
       "    <tr>\n",
       "      <th>249</th>\n",
       "      <td>R0land1199</td>\n",
       "      <td>svd</td>\n",
       "      <td>1</td>\n",
       "    </tr>\n",
       "    <tr>\n",
       "      <th>251</th>\n",
       "      <td>R0land1199</td>\n",
       "      <td>als</td>\n",
       "      <td>1</td>\n",
       "    </tr>\n",
       "    <tr>\n",
       "      <th>256</th>\n",
       "      <td>amuromax</td>\n",
       "      <td>als</td>\n",
       "      <td>1</td>\n",
       "    </tr>\n",
       "    <tr>\n",
       "      <th>257</th>\n",
       "      <td>lambo89</td>\n",
       "      <td>svd</td>\n",
       "      <td>1</td>\n",
       "    </tr>\n",
       "    <tr>\n",
       "      <th>258</th>\n",
       "      <td>lambo89</td>\n",
       "      <td>als</td>\n",
       "      <td>1</td>\n",
       "    </tr>\n",
       "    <tr>\n",
       "      <th>259</th>\n",
       "      <td>lambo89</td>\n",
       "      <td>cos</td>\n",
       "      <td>1</td>\n",
       "    </tr>\n",
       "    <tr>\n",
       "      <th>260</th>\n",
       "      <td>constancy</td>\n",
       "      <td>svd</td>\n",
       "      <td>0</td>\n",
       "    </tr>\n",
       "    <tr>\n",
       "      <th>261</th>\n",
       "      <td>constancy</td>\n",
       "      <td>als</td>\n",
       "      <td>1</td>\n",
       "    </tr>\n",
       "    <tr>\n",
       "      <th>263</th>\n",
       "      <td>Suzor</td>\n",
       "      <td>svd</td>\n",
       "      <td>0</td>\n",
       "    </tr>\n",
       "    <tr>\n",
       "      <th>264</th>\n",
       "      <td>floppei</td>\n",
       "      <td>svd</td>\n",
       "      <td>0</td>\n",
       "    </tr>\n",
       "    <tr>\n",
       "      <th>265</th>\n",
       "      <td>floppei</td>\n",
       "      <td>als</td>\n",
       "      <td>1</td>\n",
       "    </tr>\n",
       "    <tr>\n",
       "      <th>266</th>\n",
       "      <td>floppei</td>\n",
       "      <td>cos</td>\n",
       "      <td>1</td>\n",
       "    </tr>\n",
       "    <tr>\n",
       "      <th>267</th>\n",
       "      <td>mcpranno</td>\n",
       "      <td>svd</td>\n",
       "      <td>1</td>\n",
       "    </tr>\n",
       "    <tr>\n",
       "      <th>268</th>\n",
       "      <td>mcpranno</td>\n",
       "      <td>als</td>\n",
       "      <td>1</td>\n",
       "    </tr>\n",
       "    <tr>\n",
       "      <th>269</th>\n",
       "      <td>mcpranno</td>\n",
       "      <td>cos</td>\n",
       "      <td>1</td>\n",
       "    </tr>\n",
       "    <tr>\n",
       "      <th>270</th>\n",
       "      <td>drobison</td>\n",
       "      <td>svd</td>\n",
       "      <td>1</td>\n",
       "    </tr>\n",
       "    <tr>\n",
       "      <th>271</th>\n",
       "      <td>drobison</td>\n",
       "      <td>als</td>\n",
       "      <td>1</td>\n",
       "    </tr>\n",
       "    <tr>\n",
       "      <th>272</th>\n",
       "      <td>drobison</td>\n",
       "      <td>cos</td>\n",
       "      <td>1</td>\n",
       "    </tr>\n",
       "    <tr>\n",
       "      <th>273</th>\n",
       "      <td>bard</td>\n",
       "      <td>svd</td>\n",
       "      <td>0</td>\n",
       "    </tr>\n",
       "    <tr>\n",
       "      <th>274</th>\n",
       "      <td>bard</td>\n",
       "      <td>als</td>\n",
       "      <td>1</td>\n",
       "    </tr>\n",
       "    <tr>\n",
       "      <th>275</th>\n",
       "      <td>bard</td>\n",
       "      <td>cos</td>\n",
       "      <td>1</td>\n",
       "    </tr>\n",
       "    <tr>\n",
       "      <th>276</th>\n",
       "      <td>cpf86</td>\n",
       "      <td>svd</td>\n",
       "      <td>1</td>\n",
       "    </tr>\n",
       "    <tr>\n",
       "      <th>277</th>\n",
       "      <td>cpf86</td>\n",
       "      <td>als</td>\n",
       "      <td>0</td>\n",
       "    </tr>\n",
       "    <tr>\n",
       "      <th>278</th>\n",
       "      <td>cpf86</td>\n",
       "      <td>cos</td>\n",
       "      <td>1</td>\n",
       "    </tr>\n",
       "  </tbody>\n",
       "</table>\n",
       "<p>207 rows × 3 columns</p>\n",
       "</div>"
      ],
      "text/plain": [
       "            username algo  liked\n",
       "0    passthedynamite  svd      1\n",
       "1    passthedynamite  als      1\n",
       "2    passthedynamite  cos      1\n",
       "4            DobbelB  svd      0\n",
       "5            DobbelB  als      1\n",
       "6            DobbelB  cos      1\n",
       "9         willshaw67  svd      0\n",
       "10        willshaw67  als      1\n",
       "11        willshaw67  cos      0\n",
       "12            ins3kT  svd      1\n",
       "13            ins3kT  als      1\n",
       "14            ins3kT  cos      1\n",
       "15          Windmark  svd      1\n",
       "16          Windmark  als      1\n",
       "17          Windmark  cos      1\n",
       "19     rubberchicken  svd      1\n",
       "20     rubberchicken  als      1\n",
       "21     rubberchicken  cos      1\n",
       "26         revgiblet  svd      1\n",
       "27           Verglas  svd      0\n",
       "28         revgiblet  als      0\n",
       "29   TatertotEatalot  svd      0\n",
       "30           Verglas  als      0\n",
       "32   TatertotEatalot  als      1\n",
       "33         revgiblet  cos      1\n",
       "34   TatertotEatalot  cos      0\n",
       "35           Verglas  cos      1\n",
       "37        Mentat1231  svd      0\n",
       "38        Mentat1231  als      0\n",
       "39        Mentat1231  cos      1\n",
       "..               ...  ...    ...\n",
       "243          vdwoord  svd      0\n",
       "244     lee elektrik  svd      1\n",
       "245     lee elektrik  als      0\n",
       "246     lee elektrik  cos      1\n",
       "247          vdwoord  als      0\n",
       "248          vdwoord  cos      0\n",
       "249       R0land1199  svd      1\n",
       "251       R0land1199  als      1\n",
       "256         amuromax  als      1\n",
       "257          lambo89  svd      1\n",
       "258          lambo89  als      1\n",
       "259          lambo89  cos      1\n",
       "260        constancy  svd      0\n",
       "261        constancy  als      1\n",
       "263            Suzor  svd      0\n",
       "264          floppei  svd      0\n",
       "265          floppei  als      1\n",
       "266          floppei  cos      1\n",
       "267         mcpranno  svd      1\n",
       "268         mcpranno  als      1\n",
       "269         mcpranno  cos      1\n",
       "270         drobison  svd      1\n",
       "271         drobison  als      1\n",
       "272         drobison  cos      1\n",
       "273             bard  svd      0\n",
       "274             bard  als      1\n",
       "275             bard  cos      1\n",
       "276            cpf86  svd      1\n",
       "277            cpf86  als      0\n",
       "278            cpf86  cos      1\n",
       "\n",
       "[207 rows x 3 columns]"
      ]
     },
     "execution_count": 119,
     "metadata": {},
     "output_type": "execute_result"
    }
   ],
   "source": [
    "df_final"
   ]
  },
  {
   "cell_type": "code",
   "execution_count": 120,
   "metadata": {},
   "outputs": [
    {
     "data": {
      "text/html": [
       "<div>\n",
       "<style scoped>\n",
       "    .dataframe tbody tr th:only-of-type {\n",
       "        vertical-align: middle;\n",
       "    }\n",
       "\n",
       "    .dataframe tbody tr th {\n",
       "        vertical-align: top;\n",
       "    }\n",
       "\n",
       "    .dataframe thead th {\n",
       "        text-align: right;\n",
       "    }\n",
       "</style>\n",
       "<table border=\"1\" class=\"dataframe\">\n",
       "  <thead>\n",
       "    <tr style=\"text-align: right;\">\n",
       "      <th>algo</th>\n",
       "      <th>als</th>\n",
       "      <th>cos</th>\n",
       "      <th>svd</th>\n",
       "    </tr>\n",
       "    <tr>\n",
       "      <th>username</th>\n",
       "      <th></th>\n",
       "      <th></th>\n",
       "      <th></th>\n",
       "    </tr>\n",
       "  </thead>\n",
       "  <tbody>\n",
       "    <tr>\n",
       "      <th>Carthoris</th>\n",
       "      <td>0.0</td>\n",
       "      <td>0.0</td>\n",
       "      <td>0.0</td>\n",
       "    </tr>\n",
       "    <tr>\n",
       "      <th>Darzebass</th>\n",
       "      <td>0.0</td>\n",
       "      <td>1.0</td>\n",
       "      <td>1.0</td>\n",
       "    </tr>\n",
       "    <tr>\n",
       "      <th>DobbelB</th>\n",
       "      <td>1.0</td>\n",
       "      <td>1.0</td>\n",
       "      <td>0.0</td>\n",
       "    </tr>\n",
       "    <tr>\n",
       "      <th>EliasDKehr</th>\n",
       "      <td>1.0</td>\n",
       "      <td>1.0</td>\n",
       "      <td>1.0</td>\n",
       "    </tr>\n",
       "    <tr>\n",
       "      <th>FrozenHoHos</th>\n",
       "      <td>0.0</td>\n",
       "      <td>1.0</td>\n",
       "      <td>1.0</td>\n",
       "    </tr>\n",
       "  </tbody>\n",
       "</table>\n",
       "</div>"
      ],
      "text/plain": [
       "algo         als  cos  svd\n",
       "username                  \n",
       "Carthoris    0.0  0.0  0.0\n",
       "Darzebass    0.0  1.0  1.0\n",
       "DobbelB      1.0  1.0  0.0\n",
       "EliasDKehr   1.0  1.0  1.0\n",
       "FrozenHoHos  0.0  1.0  1.0"
      ]
     },
     "execution_count": 120,
     "metadata": {},
     "output_type": "execute_result"
    }
   ],
   "source": [
    "#Perform a pivot table to get the results into the shape I need for algorithm comparison\n",
    "df_pivot = pd.pivot_table(df_final, values='liked', index='username', columns='algo')\n",
    "df_pivot.head()"
   ]
  },
  {
   "cell_type": "code",
   "execution_count": 121,
   "metadata": {
    "collapsed": true
   },
   "outputs": [],
   "source": [
    "mean = df_pivot.apply(np.mean, axis=0)"
   ]
  },
  {
   "cell_type": "code",
   "execution_count": 122,
   "metadata": {},
   "outputs": [
    {
     "data": {
      "text/plain": [
       "algo\n",
       "als    0.557143\n",
       "cos    0.716418\n",
       "svd    0.514286\n",
       "dtype: float64"
      ]
     },
     "execution_count": 122,
     "metadata": {},
     "output_type": "execute_result"
    }
   ],
   "source": [
    "#Percentage that liked the lists generated from each model\n",
    "mean"
   ]
  },
  {
   "cell_type": "markdown",
   "metadata": {},
   "source": [
    "> These values indicate the efficacy of each list in helping a BGG user decide on the next game purchae/playthrough. We can observe that while als is slightly more efficient than the SVD50 algorithm, the lists generated through cosine similarity outshines them both. This is highly surprising given it had returned a higher RMSE than either of the other 2 algorithms.\n",
    "\n",
    "> Users who have rated all 3, gave feedback in a forum on the BGG website that the games recommended in the Cosine Similarity list were the 'most creative' and 'recommended unexpected games to me'. \n",
    "\n",
    "> Some other observations based on comment feedback from respondents was that the SVD50 algo had weird inclusions of very low-ranked games as well. I surmise that this could be due to how the algorithm simply creates low-rank reprentation of the ratings matrix which is highly dependent on the number of latent factors chosen. These latent factors are often times unexplainable, rendering matrix factorization methods a bit of a 'black box' when it comes to explaining their recommendations. I suspect that by overspecifying the number of latent factors, the low-ranked games are grouped together with the high-ranked games on some unexplained dimensions, resulting in miscalculations in the predicted ratings.\n",
    "\n",
    "> In general, the cosine similarity list appears to be the most serendipitous with games some users have seen before but have not taken notice of. This has led to some of them taking a closer look at some of these recommendations which fulfils what this project sought to achieve from the onset."
   ]
  },
  {
   "cell_type": "markdown",
   "metadata": {},
   "source": [
    "### Further work\n",
    "> This app was developed within 4 days and due to the need to deploy it quickly to gather the online evaluations, not all ideas were implemented:\n",
    "- Storage of the input data should be in a database so as to reduce the storage and processing cost involved in handling pickled files. For reference, the 3 pickled files are 1.7GB each in size.\n",
    "- I was trying to figure out how to create a final multiple choice question for the user to select the best list out of the 3 but could not do so due to lack of time.\n",
    "\n",
    "> Some potential extensions to this project includes:\n",
    "- Extending the gamelist beyond the 1807 to include games with less ratings\n",
    "- Evaluate with rank metrics eg: Mean Average Precision @ K\n",
    "- Tweak the flask routing and algorithms to be able to access real-time ratings based on API call in order to provide recommendations that are more current.\n",
    "- Assess a computationally less expensive approach to user-user cosine similarity. User-user similarity helps in generating serendipity and seeing as to how the item-item approach does so well in providing unexpected recommendations, it would be interesting to see how different the user-user approach would be. One way to alleviate the high computational cost would be to perform unsupervised learning first to identify nearest neighbors before calculating similarity scores.\n",
    "- Explore group recommendations. Board games are mostly played by 2 or more people and a recommender that takes into account the preferences of all parties involved might be well regarded.\n",
    "- Include content-based filtering to reduce cold start problem for new games.\n",
    "- Create context aware recommendations, possibly in the form of a chat bot, that instead of recommending new games, recommends you games to bring to the next game night by asking you a series of questions"
   ]
  },
  {
   "cell_type": "code",
   "execution_count": null,
   "metadata": {
    "collapsed": true
   },
   "outputs": [],
   "source": []
  }
 ],
 "metadata": {
  "anaconda-cloud": {},
  "kernelspec": {
   "display_name": "Python 2",
   "language": "python",
   "name": "python2"
  },
  "language_info": {
   "codemirror_mode": {
    "name": "ipython",
    "version": 2
   },
   "file_extension": ".py",
   "mimetype": "text/x-python",
   "name": "python",
   "nbconvert_exporter": "python",
   "pygments_lexer": "ipython2",
   "version": "2.7.9"
  }
 },
 "nbformat": 4,
 "nbformat_minor": 1
}
